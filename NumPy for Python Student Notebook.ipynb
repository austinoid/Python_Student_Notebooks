{
 "cells": [
  {
   "cell_type": "markdown",
   "metadata": {},
   "source": [
    "# NumPy for Python Student Notebook\n",
    "\n",
    "A compendium of data analysis topics, illustrative examples, best practices, tips and tricks.\n",
    "\n",
    "## Table of Contents\n",
    "\n",
    "+ [NumPy Introduction](#Intro)\n",
    "+ [Supporting Modules](#Import)\n",
    "+ [Array Generation](#Generation)\n",
    "+ [Array Characteristics](#ArrayCharacteristics)\n",
    "+ [Appendix](#Appendix)\n"
   ]
  },
  {
   "cell_type": "markdown",
   "metadata": {},
   "source": [
    "## NumPy Introduction\n",
    "<a id=Intro></a>\n",
    "\n",
    "NumPy’s main object is the homogeneous multidimensional array. It is a table of elements (usually numbers), all of the same type, indexed by a tuple of positive integers. In NumPy dimensions are called axes. The number of axes is rank.\n",
    "\n",
    "Unlike many Python objects, many NumPy array methods do not change the actual array object.\n",
    "\n",
    "The organization of this notebook is influenced by these tutorials:\n",
    "\n",
    "https://docs.scipy.org/doc/numpy-dev/user/quickstart.html\n",
    "\n",
    "http://www.tutorialspoint.com/numpy/\n",
    "\n"
   ]
  },
  {
   "cell_type": "markdown",
   "metadata": {},
   "source": [
    "## Import Supporting Modules\n",
    "<a id=#Import></a>\n",
    "The following modules are used to support NumPy operations."
   ]
  },
  {
   "cell_type": "code",
   "execution_count": 2,
   "metadata": {
    "collapsed": false
   },
   "outputs": [
    {
     "name": "stdout",
     "output_type": "stream",
     "text": [
      "1.11.1\n"
     ]
    }
   ],
   "source": [
    "import numpy as np\n",
    "import matplotlib.pyplot as plt\n",
    "\n",
    "print (np.__version__)\n"
   ]
  },
  {
   "cell_type": "markdown",
   "metadata": {},
   "source": [
    "## Array Generation\n",
    "<id = #Generation></a>\n",
    "NumPy array transforms sequences of sequences into two-dimensional arrays, sequences of sequences of sequences into three-dimensional arrays, and so on.\n",
    "\n",
    "numpy.array(object, dtype=None, copy=True, order='K', subok=False, ndmin=0)\n",
    "\n",
    "In NumPy, the creation of a new array and populating it with starting values are frequently performed together.  This section focuses on the process of creation, and array characteristics at creation.  The next section focuses on populating arrays (frequently at creation.)"
   ]
  },
  {
   "cell_type": "markdown",
   "metadata": {},
   "source": [
    "### Generating Conventional (Homogenous Numeric) Arrays"
   ]
  },
  {
   "cell_type": "code",
   "execution_count": 3,
   "metadata": {
    "collapsed": false
   },
   "outputs": [
    {
     "name": "stdout",
     "output_type": "stream",
     "text": [
      "[2 3 4]\n",
      "int32\n",
      "[2 3 4]\n",
      "int32\n",
      "[[2 3 4]\n",
      " [5 6 7]\n",
      " [7 8 9]]\n",
      "int32\n",
      "#-----------------------------------------------------------------\n",
      "[ 1.2  3.5  5.1]\n",
      "float64\n",
      "#-----------------------------------------------------------------\n",
      "[[[1 2 3 4 5]]]\n",
      "#-----------------------------------------------------------------\n",
      "[ 0  1  2  3  4  5  6  7  8  9 10 11 12 13 14]\n",
      "int32\n",
      "#-----------------------------------------------------------------\n",
      "[[ 1.+0.j  2.+0.j]\n",
      " [ 3.+0.j  4.+0.j]]\n",
      "complex128\n",
      "#-----------------------------------------------------------------\n",
      "[[ 0.  0.  0.  0.]\n",
      " [ 0.  0.  0.  0.]\n",
      " [ 0.  0.  0.  0.]]\n",
      "float64\n",
      "#-----------------------------------------------------------------\n",
      "[[[1 1 1 1]\n",
      "  [1 1 1 1]\n",
      "  [1 1 1 1]]\n",
      "\n",
      " [[1 1 1 1]\n",
      "  [1 1 1 1]\n",
      "  [1 1 1 1]]]\n",
      "int16\n",
      "#-----------------------------------------------------------------\n",
      "[[ 0.  0.  0.  0.]\n",
      " [ 0.  0.  0.  0.]\n",
      " [ 0.  0.  0.  0.]]\n",
      "float64\n",
      "#-----------------------------------------------------------------\n",
      "[[ 0.1719336   1.54261358 -2.04939128 -1.03469681  0.62997128]\n",
      " [ 2.20881106  0.25220649  1.08229905  2.16584215  0.95678085]\n",
      " [ 0.29721044  0.4353882   1.11898913 -0.78673552  0.48728199]]\n",
      "float64\n",
      "#-----------------------------------------------------------------\n",
      "int16\n",
      "[[[1 1 1]\n",
      "  [1 1 1]\n",
      "  [1 1 1]]\n",
      "\n",
      " [[1 1 1]\n",
      "  [1 1 1]\n",
      "  [1 1 1]]\n",
      "\n",
      " [[1 1 1]\n",
      "  [1 1 1]\n",
      "  [1 1 1]]]\n"
     ]
    }
   ],
   "source": [
    "# Can create an array from a regular Python list or tuple using the array function. \n",
    "# The type of the resulting array is deduced from the type of the elements in the sequences.\n",
    "a1 = np.array([2,3,4]) # Generate array from list\n",
    "print (a1)\n",
    "print (a1.dtype)         # Integer default type may vary for various reasons\n",
    "\n",
    "a1 = np.array((2,3,4))  # Generate array from tuple\n",
    "print (a1)\n",
    "print (a1.dtype)         # Integer default type may vary for various reasons\n",
    "\n",
    "a1_t = ((2,3,4), (5,6,7), (7,8,9))  # Generate array from nested tuple\n",
    "a1 = np.array(a1_t)  # Generate array from nested tuple\n",
    "print (a1)\n",
    "print (a1.dtype)         # Integer default type may vary for various reasons\n",
    "print (\"#\" + 65*'-')\n",
    "\n",
    "a2 = np.array([1.2, 3.5, 5.1])\n",
    "print (a2)\n",
    "print (a2.dtype)\n",
    "print (\"#\" + 65*'-')\n",
    "\n",
    "a = np.array([1, 2, 3,4,5], ndmin = 3) # Tricky!  Note empty extra dimension when printed.  (Look a parens.)\n",
    "print (a)\n",
    "print (\"#\" + 65*'-')\n",
    "\n",
    "a3 = np.arange(15)     # That method is ARRAY RANGE, not ARRANGE\n",
    "print (a3)\n",
    "print (a3.dtype)\n",
    "print (\"#\" + 65*'-')\n",
    "\n",
    "# The type can be specified at creation\n",
    "a4 = np.array( [ [1,2], [3,4] ], dtype=complex )   \n",
    "print (a4)\n",
    "print (a4.dtype)\n",
    "print (\"#\" + 65*'-')\n",
    "\n",
    "# Arrays can be created early, to be populated later.  Resizing arrays may be process intensive\n",
    "# Create an array of zeros\n",
    "az1 = np.zeros( (3,4) )\n",
    "print (az1)\n",
    "print (az1.dtype)\n",
    "print (\"#\" + 65*'-')\n",
    "\n",
    "# Create an array of constants\n",
    "az2 = np.ones( (2,3,4), dtype=np.int16 )  # dtype can also be specified\n",
    "print (az2)                               # Note how 3rd dimension is printed\n",
    "print (az2.dtype)\n",
    "print (\"#\" + 65*'-')\n",
    "\n",
    "# Create an array of somewhat random values from pre-existing memory contents\n",
    "#   Believed to likely contain very small floating point numbers.  ~EE-10\n",
    "az3 = np.empty( (3,4) ) \n",
    "print (az3)\n",
    "print (az3.dtype)\n",
    "print (\"#\" + 65*'-')\n",
    "\n",
    "# Create an array of intentionally random values\n",
    "az4 = np.random.standard_normal( (3,5) ) \n",
    "print (az4)\n",
    "print (az4.dtype)\n",
    "print (\"#\" + 65*'-')\n",
    "\n",
    "# Create an array with the same data type as another array.\n",
    "adt1 = az2.dtype\n",
    "print (adt1)\n",
    "az5 = np.ones( (3,3,3), dtype=adt1)\n",
    "print (az5)"
   ]
  },
  {
   "cell_type": "markdown",
   "metadata": {},
   "source": [
    "### Generating Structured Arrays"
   ]
  },
  {
   "cell_type": "code",
   "execution_count": 4,
   "metadata": {
    "collapsed": false
   },
   "outputs": [
    {
     "name": "stdout",
     "output_type": "stream",
     "text": [
      "[(b'New York', b'BB-34', 10) (b'Texas', b'BB-35', 10)]\n"
     ]
    }
   ],
   "source": [
    "# Start by defining your own data type\n",
    "ship = np.dtype([('name', 'S20'), ('hull', 'S10'), ('gun', 'u2')])\n",
    "battlewagons = np.array([('New York', 'BB-34', 10), ('Texas', 'BB-35', 10)], dtype = ship)\n",
    "print (battlewagons)"
   ]
  },
  {
   "cell_type": "markdown",
   "metadata": {},
   "source": [
    "## Array Characteristics\n",
    "<a id=#ArrayCharacteristics></a>\n",
    "Array characteristics can be accessed via a number of array object methods.\n",
    "\n",
    "In the Python world, the number of dimensions is referred to as rank.\n",
    "\n",
    "There are multiple default data types for arrays, depending on the type of data contained therein.  If left unspecified, the data type of an output array resulting from manipulating various input arrays will likely depend on the manipulation results, and max \"exceed\" the precision of the input arrays.  (This is known as __upcasting__.)"
   ]
  },
  {
   "cell_type": "code",
   "execution_count": 5,
   "metadata": {
    "collapsed": false
   },
   "outputs": [
    {
     "name": "stdout",
     "output_type": "stream",
     "text": [
      "int16\n",
      "3\n",
      "(2, 3, 4)\n",
      "2\n",
      "  C_CONTIGUOUS : True\n",
      "  F_CONTIGUOUS : False\n",
      "  OWNDATA : True\n",
      "  WRITEABLE : True\n",
      "  ALIGNED : True\n",
      "  UPDATEIFCOPY : False\n",
      "<memory at 0x0000000007E1BC78>\n"
     ]
    }
   ],
   "source": [
    "# From the 3D array:\n",
    "az2 = np.ones( (2,3,4), dtype=np.int16 )\n",
    "print (az2.dtype)     # Data Type\n",
    "print (az2.ndim)      # Number of axes of dimensions\n",
    "print (az2.shape)     # Dimensions of the array\n",
    "print (az2.itemsize)  # Size of each element in bytes\n",
    "print (az2.flags)     # Some more complex internal characteristics\n",
    "print (az2.data)      # The data buffer location (very rarely used)\n"
   ]
  },
  {
   "cell_type": "markdown",
   "metadata": {},
   "source": [
    "## Populating Arrays\n",
    "<a id=#PopulatingArrays></a>\n",
    "In NumPy, the creation of a new array and populating it with starting values are frequently performed together.  This section focuses on populating arrays (frequently at creation.)"
   ]
  },
  {
   "cell_type": "code",
   "execution_count": 6,
   "metadata": {
    "collapsed": false
   },
   "outputs": [
    {
     "name": "stdout",
     "output_type": "stream",
     "text": [
      "[[ 0.  0.  0.  0.]\n",
      " [ 0.  0.  0.  0.]\n",
      " [ 0.  0.  0.  0.]]\n",
      "float64\n",
      "#-----------------------------------------------------------------\n",
      "[ 0  1  2  3  4  5  6  7  8  9 10 11 12 13 14]\n",
      "int32\n",
      "#-----------------------------------------------------------------\n",
      "[ 0  5 10 15 20 25 30 35]\n",
      "int32\n",
      "#-----------------------------------------------------------------\n",
      "[ 0.   0.3  0.6  0.9  1.2  1.5  1.8  2.1  2.4  2.7]\n",
      "float64\n",
      "#-----------------------------------------------------------------\n",
      "[ 0.   0.2  0.4  0.6  0.8  1.   1.2  1.4  1.6  1.8  2. ]\n",
      "float64\n",
      "#-----------------------------------------------------------------\n",
      "float64\n",
      "float64\n",
      "#-----------------------------------------------------------------\n",
      "[ 0.  1.  2.  3.  4.  5.  6.  7.  8.]\n",
      "float64\n",
      "#-----------------------------------------------------------------\n",
      "[    2.     4.     8.    16.    32.    64.   128.   256.   512.  1024.]\n",
      "#-----------------------------------------------------------------\n"
     ]
    },
    {
     "data": {
      "image/png": "[encoded data removed]",
      "text/plain": [
       "<matplotlib.figure.Figure at 0x7b66438>"
      ]
     },
     "metadata": {},
     "output_type": "display_data"
    }
   ],
   "source": [
    "# Create an array of zeros\n",
    "az1 = np.zeros( (3,4) )\n",
    "print (az1)\n",
    "print (az1.dtype)\n",
    "print (\"#\" + 65*'-')\n",
    "\n",
    "# Use np.arange to populate with a range of numbers.\n",
    "a3 = np.arange(15)     # That method is ARRAY RANGE, not ARRANGE\n",
    "print (a3)\n",
    "print (a3.dtype)\n",
    "print (\"#\" + 65*'-')\n",
    "\n",
    "# Use np.arange to populate with a range of integers.\n",
    "a4 = np.arange(0, 40, 5)     # That method is ARRAY RANGE, not ARRANGE\n",
    "print (a4)\n",
    "print (a4.dtype)\n",
    "print (\"#\" + 65*'-')\n",
    "\n",
    "# np.arange can populate with a range of floating, but not always well.\n",
    "a5 = np.arange( 0, 3, 0.3 )     # That method is ARRAY RANGE, not ARRANGE\n",
    "print (a5)\n",
    "print (a5.dtype)\n",
    "print (\"#\" + 65*'-')\n",
    "\n",
    "# Use np.linspace to populate with a sequence of floating point numbers.\n",
    "a6 =  np.linspace( 0, 2, 11 )     # That method is Linear Spacing Range\n",
    "print (a6)\n",
    "print (a6.dtype)\n",
    "print (\"#\" + 65*'-')\n",
    "\n",
    "from numpy import pi\n",
    "a7 = np.linspace( 0, 2*pi, 100 )        # useful to evaluate function at lots of points\n",
    "a8 = np.sin(a7)\n",
    "print (a7.dtype)\n",
    "print (a8.dtype)\n",
    "print (\"#\" + 65*'-')\n",
    "\n",
    "# np.fromiter can populate from a Python iterator\n",
    "num_seq = range(9) \n",
    "it = iter(num_seq)  \n",
    "# use iterator to create ndarray \n",
    "a9 = np.fromiter(it, dtype = float) \n",
    "print (a9)\n",
    "print (a9.dtype)\n",
    "print (\"#\" + 65*'-')\n",
    "\n",
    "\n",
    "# Use np.logspace to populate with a logarithmically increasing sequence.\n",
    "a10 = np.logspace(1,10,num = 10, base = 2) \n",
    "print (a10)\n",
    "print (\"#\" + 65*'-')\n",
    "\n",
    "N = 10\n",
    "x1 = np.logspace(0.1, 1, N, endpoint=True) # That method is Logarithmic Spacing Range\n",
    "x2 = np.logspace(0.1, 1, N, endpoint=False)\n",
    "y = np.zeros(N)\n",
    "plt.plot(x1, y, 'o')\n",
    "# [<matplotlib.lines.Line2D object at 0x...>]\n",
    "plt.plot(x2, y + 0.5, 'o')\n",
    "# [<matplotlib.lines.Line2D object at 0x...>]\n",
    "plt.ylim([-0.5, 1])\n",
    "# (-0.5, 1)\n",
    "plt.show()"
   ]
  },
  {
   "cell_type": "markdown",
   "metadata": {},
   "source": [
    "### Array Arithmetic and Simple Math Operations\n",
    "Most simple array operations are performed on and with arrays on an element-by-element basis (or element-wise.)\n",
    "Simple math operations fall into a few categories:\n",
    "+ Array arithmentic performed between corresponding elements of arrays of identical shape.\n",
    "+ Creation of new (identical shape) target array based on element-wise operation (from scalar) on each element in source array.\n",
    "+ Creation of new (identical shape) target array based on element-wise operation (from 1x1 array) on each element in source array.\n",
    "+ Modification of existing array based on element-wise scalar operation on each element in source array.  (\"In place\")\n",
    "\n",
    "\n"
   ]
  },
  {
   "cell_type": "code",
   "execution_count": 36,
   "metadata": {
    "collapsed": false
   },
   "outputs": [
    {
     "name": "stdout",
     "output_type": "stream",
     "text": [
      "[ 0 10 20 30 40 50]\n",
      "[0 1 2 3 4 5]\n",
      "#-----------------------------------------------------------------\n",
      "[ 0 11 22 33 44 55]\n",
      "#-----------------------------------------------------------------\n",
      "[  0  10  40  90 160 250]\n",
      "#-----------------------------------------------------------------\n",
      "[ 0  1  4  9 16 25]\n",
      "#-----------------------------------------------------------------\n",
      "[  0.         -54.40211109  91.29452507 -98.80316241  74.51131605\n",
      " -26.23748537]\n",
      "#-----------------------------------------------------------------\n",
      "[ 0.          3.16227766  4.47213595  5.47722558  6.32455532  7.07106781]\n",
      "#-----------------------------------------------------------------\n",
      "[ True  True False False False False]\n",
      "bool\n",
      "#-----------------------------------------------------------------\n",
      "[ 5 15 25 35 45 55]\n",
      "#-----------------------------------------------------------------\n",
      "[[ 0.  0.  0.  0.]\n",
      " [ 0.  0.  0.  0.]\n",
      " [ 0.  0.  0.  0.]]\n",
      "[[ 1.  1.  1.  1.]\n",
      " [ 1.  1.  1.  1.]\n",
      " [ 1.  1.  1.  1.]]\n",
      "[[ 3.  3.  3.  3.]\n",
      " [ 3.  3.  3.  3.]\n",
      " [ 3.  3.  3.  3.]]\n",
      "#-----------------------------------------------------------------\n"
     ]
    },
    {
     "data": {
      "text/plain": [
       "[<matplotlib.lines.Line2D at 0x7df7d30>]"
      ]
     },
     "execution_count": 36,
     "metadata": {},
     "output_type": "execute_result"
    },
    {
     "data": {
      "image/png": "[encoded data removed]",
      "text/plain": [
       "<matplotlib.figure.Figure at 0x7feee80>"
      ]
     },
     "metadata": {},
     "output_type": "display_data"
    }
   ],
   "source": [
    "a = np.array( [0, 10, 20,30,40,50] )\n",
    "b = np.arange( 6 )\n",
    "print (a)\n",
    "print (b)\n",
    "print (\"#\" + 65*'-')\n",
    "\n",
    "# Addition of identical shape arrays\n",
    "c = a + b\n",
    "print (c)\n",
    "print (\"#\" + 65*'-')\n",
    "\n",
    "# Multipication of identical shape arrays.  NOTE:  This is not matrix multiplication!\n",
    "c = a * b\n",
    "print (c)\n",
    "print (\"#\" + 65*'-')\n",
    "\n",
    "# Element-wise exponentiation of  arrays\n",
    "c = b**2\n",
    "print (c)\n",
    "print (\"#\" + 65*'-')\n",
    "\n",
    "# Element-wise transcendental math of arrays\n",
    "c = 100*np.sin(a)\n",
    "print (c)\n",
    "print (\"#\" + 65*'-')\n",
    "\n",
    "# Alternate element-wise transcendetnal math of arrays, called \"Universal Function\"\n",
    "print (np.sqrt(a))\n",
    "print (\"#\" + 65*'-')\n",
    "\n",
    "# Element-wise testing arrays\n",
    "a<15\n",
    "c = (a<15)\n",
    "print (c)\n",
    "print (c.dtype)\n",
    "print (\"#\" + 65*'-')\n",
    "\n",
    "# One element vector added to true vector is the same as scalar addition to all elements in vector.\n",
    "d = np.array([5])\n",
    "c = a + d\n",
    "print (c)\n",
    "print (\"#\" + 65*'-')\n",
    "\n",
    "# \"In Place\" operations will modify every element in the same way.  Source array is changed!\n",
    "d = np.zeros( (3,4) )\n",
    "print (d)\n",
    "d +=1\n",
    "print (d)\n",
    "d *=3\n",
    "print (d)\n",
    "print (\"#\" + 65*'-')\n",
    "\n",
    "# Simple plotting of array math using universal functions\n",
    "%matplotlib inline\n",
    "x = np.linspace(0,10,40)\n",
    "sinx = np.sin(x)\n",
    "plt.plot(x,sinx)\n",
    "\n",
    "\n",
    "\n"
   ]
  },
  {
   "cell_type": "code",
   "execution_count": 41,
   "metadata": {
    "collapsed": false
   },
   "outputs": [
    {
     "data": {
      "text/plain": [
       "<matplotlib.legend.Legend at 0x9b93f28>"
      ]
     },
     "execution_count": 41,
     "metadata": {},
     "output_type": "execute_result"
    },
    {
     "data": {
      "image/png": "[encoded data removed]",
      "text/plain": [
       "<matplotlib.figure.Figure at 0x8147358>"
      ]
     },
     "metadata": {},
     "output_type": "display_data"
    }
   ],
   "source": [
    "cosx = np.cos(x)\n",
    "plt.plot(x,sinx)\n",
    "plt.plot(x,cosx)\n",
    "plt.legend(['sin(x)','cos(x)'])"
   ]
  },
  {
   "cell_type": "code",
   "execution_count": 42,
   "metadata": {
    "collapsed": false
   },
   "outputs": [
    {
     "data": {
      "text/plain": [
       "[<matplotlib.lines.Line2D at 0x81aba90>]"
      ]
     },
     "execution_count": 42,
     "metadata": {},
     "output_type": "execute_result"
    },
    {
     "data": {
      "image/png": "[encoded data removed]",
      "text/plain": [
       "<matplotlib.figure.Figure at 0x81ab5f8>"
      ]
     },
     "metadata": {},
     "output_type": "display_data"
    }
   ],
   "source": [
    "y = sinx * cosx\n",
    "z = cosx**2 - sinx**2\n",
    "\n",
    "plt.plot(x,y)\n",
    "plt.plot(x,z)"
   ]
  },
  {
   "cell_type": "code",
   "execution_count": 40,
   "metadata": {
    "collapsed": false
   },
   "outputs": [
    {
     "data": {
      "text/plain": [
       "[<matplotlib.lines.Line2D at 0x7f6bf28>]"
      ]
     },
     "execution_count": 40,
     "metadata": {},
     "output_type": "execute_result"
    },
    {
     "data": {
      "image/png": "[encoded data removed]",
      "text/plain": [
       "<matplotlib.figure.Figure at 0x7f6bef0>"
      ]
     },
     "metadata": {},
     "output_type": "display_data"
    }
   ],
   "source": [
    "y = sinx * cosx\n",
    "z = cosx**2 - sinx**2\n",
    "\n",
    "plt.plot(x,y, 'x')\n",
    "plt.plot(x,z, 'o')"
   ]
  },
  {
   "cell_type": "markdown",
   "metadata": {},
   "source": [
    "### Array Functions, Methods, and Operations\n",
    "\n"
   ]
  },
  {
   "cell_type": "code",
   "execution_count": 11,
   "metadata": {
    "collapsed": false
   },
   "outputs": [
    {
     "name": "stdout",
     "output_type": "stream",
     "text": [
      "['Houston', 'Austin', 'Huston', 'Walnut Creek', 'Kansas City', 'Atlanta']\n",
      "['__add__', '__class__', '__contains__', '__delattr__', '__delitem__', '__dir__', '__doc__', '__eq__', '__format__', '__ge__', '__getattribute__', '__getitem__', '__gt__', '__hash__', '__iadd__', '__imul__', '__init__', '__iter__', '__le__', '__len__', '__lt__', '__mul__', '__ne__', '__new__', '__reduce__', '__reduce_ex__', '__repr__', '__reversed__', '__rmul__', '__setattr__', '__setitem__', '__sizeof__', '__str__', '__subclasshook__', 'append', 'clear', 'copy', 'count', 'extend', 'index', 'insert', 'pop', 'remove', 'reverse', 'sort']\n",
      "<class 'list'>\n",
      "Len: 6\n",
      "Min: Atlanta\n",
      "My number is: 25, and my name is: Alex\n",
      "My number is: 25, and my name is: Alex\n",
      "My number is: 25. 'My name is: Alex.  My father's name is Alex.\n"
     ]
    }
   ],
   "source": [
    "\n"
   ]
  },
  {
   "cell_type": "markdown",
   "metadata": {},
   "source": [
    "### Reshaping Arrays"
   ]
  },
  {
   "cell_type": "code",
   "execution_count": 15,
   "metadata": {
    "collapsed": false
   },
   "outputs": [
    {
     "name": "stdout",
     "output_type": "stream",
     "text": [
      "[[ 0  1  2]\n",
      " [ 3  4  5]\n",
      " [ 6  7  8]\n",
      " [ 9 10 11]]\n",
      "[[ 0  3  6  9]\n",
      " [ 1  4  7 10]\n",
      " [ 2  5  8 11]]\n",
      "[[ 0  1  2]\n",
      " [ 3  4  5]\n",
      " [ 6  7  8]\n",
      " [ 9 10 11]]\n"
     ]
    }
   ],
   "source": [
    "# Transpose \n",
    "m1 = np.arange(12).reshape(4,3)\n",
    "print (m1)\n",
    "print (m1.transpose())\n",
    "print (m1)                # Note that original array is not reshaped by reshaping method!"
   ]
  },
  {
   "cell_type": "markdown",
   "metadata": {},
   "source": [
    "### Merging Arrays"
   ]
  },
  {
   "cell_type": "code",
   "execution_count": 7,
   "metadata": {
    "collapsed": false
   },
   "outputs": [
    {
     "name": "stdout",
     "output_type": "stream",
     "text": [
      "[[ 0  1  2]\n",
      " [ 3  4  5]\n",
      " [ 6  7  8]\n",
      " [ 9 10 11]\n",
      " [12 13 14]\n",
      " [15 16 17]\n",
      " [18 19 20]\n",
      " [21 22 23]]\n",
      "#-----------------------------------------------------------------\n",
      "[[ 0  1  2 12 13 14]\n",
      " [ 3  4  5 15 16 17]\n",
      " [ 6  7  8 18 19 20]\n",
      " [ 9 10 11 21 22 23]]\n"
     ]
    }
   ],
   "source": [
    "m1 = np.arange(12).reshape(4,3)\n",
    "m2 = np.arange(12, 24, 1).reshape(4,3)\n",
    "\n",
    "print (np.vstack([m1,m2]))\n",
    "print (\"#\" + 65*'-')\n",
    "\n",
    "# Horizontally Stack\n",
    "print (np.hstack([m1,m2]))"
   ]
  },
  {
   "cell_type": "markdown",
   "metadata": {},
   "source": [
    "### Splitting Arrays"
   ]
  },
  {
   "cell_type": "code",
   "execution_count": 24,
   "metadata": {
    "collapsed": false
   },
   "outputs": [
    {
     "name": "stdout",
     "output_type": "stream",
     "text": [
      "[[ 0  1  2  3  4  5]\n",
      " [ 6  7  8  9 10 11]\n",
      " [12 13 14 15 16 17]\n",
      " [18 19 20 21 22 23]]\n",
      "<class 'numpy.ndarray'>\n",
      "<class 'list'>\n",
      "<class 'numpy.ndarray'>\n",
      "3\n",
      "[[ 0  1]\n",
      " [ 6  7]\n",
      " [12 13]\n",
      " [18 19]]\n",
      "[[ 2  3]\n",
      " [ 8  9]\n",
      " [14 15]\n",
      " [20 21]]\n",
      "[[ 4  5]\n",
      " [10 11]\n",
      " [16 17]\n",
      " [22 23]]\n",
      "#-----------------------------------------------------------------\n",
      "[[ 0  1  2  3  4  5]\n",
      " [ 6  7  8  9 10 11]]\n",
      "[[12 13 14 15 16 17]\n",
      " [18 19 20 21 22 23]]\n"
     ]
    }
   ],
   "source": [
    "# Horizontal split resulting in list of arrays\n",
    "m3 = np.arange(24).reshape(4,6)\n",
    "print (m3)\n",
    "print (type(m3))\n",
    "m3a = np.hsplit(m3,3)\n",
    "print (type(m3a))\n",
    "print (type(m3a[0]))\n",
    "print (len(m3a))\n",
    "for i in range(len(m3a)): print (m3a[i])\n",
    "print (\"#\" + 65*'-')\n",
    "\n",
    "m3b = np.vsplit(m3,2)\n",
    "for i in range(len(m3b)): print (m3b[i])\n",
    "    \n",
    "    "
   ]
  },
  {
   "cell_type": "markdown",
   "metadata": {},
   "source": [
    "### Reading, Writing, and Saving Arrays in Files\n",
    "\n"
   ]
  },
  {
   "cell_type": "code",
   "execution_count": 14,
   "metadata": {
    "collapsed": false
   },
   "outputs": [
    {
     "name": "stdout",
     "output_type": "stream",
     "text": [
      "[[ 0  1  2]\n",
      " [ 3  4  5]\n",
      " [ 6  7  8]\n",
      " [ 9 10 11]]\n"
     ]
    }
   ],
   "source": [
    "m1 = np.arange(12).reshape(4,3)\n",
    "np.save('save_test.npy',m1)\n",
    "mr1 = np.load('save_test.npy')\n",
    "print (mr1)"
   ]
  },
  {
   "cell_type": "code",
   "execution_count": 3,
   "metadata": {
    "collapsed": false
   },
   "outputs": [
    {
     "name": "stdout",
     "output_type": "stream",
     "text": [
      "True!\n"
     ]
    }
   ],
   "source": [
    "\n"
   ]
  },
  {
   "cell_type": "code",
   "execution_count": null,
   "metadata": {
    "collapsed": true
   },
   "outputs": [],
   "source": []
  },
  {
   "cell_type": "markdown",
   "metadata": {},
   "source": [
    "### Printing Arrays\n",
    "NumPy arrays print in a manner similar to Python nested lists.\n",
    "One-dimensional arrays are then printed as rows, two-dimensionals as matrices and three-imensionals as lists of matrices.\n",
    "Count the very first and last brackets to confirm rank.\n",
    "\n",
    "If an array is too large to be printed successfully, NumPy just prints the corners:"
   ]
  },
  {
   "cell_type": "code",
   "execution_count": 5,
   "metadata": {
    "collapsed": false
   },
   "outputs": [
    {
     "name": "stdout",
     "output_type": "stream",
     "text": [
      "[0 1 2 3 4 5]\n",
      "#-----------------------------------------------------------------\n",
      "[[ 0  1  2]\n",
      " [ 3  4  5]\n",
      " [ 6  7  8]\n",
      " [ 9 10 11]]\n",
      "#-----------------------------------------------------------------\n",
      "[[[ 0  1  2  3]\n",
      "  [ 4  5  6  7]\n",
      "  [ 8  9 10 11]]\n",
      "\n",
      " [[12 13 14 15]\n",
      "  [16 17 18 19]\n",
      "  [20 21 22 23]]]\n",
      "#-----------------------------------------------------------------\n",
      "[[[[ 0  1  2]\n",
      "   [ 3  4  5]\n",
      "   [ 6  7  8]]\n",
      "\n",
      "  [[ 9 10 11]\n",
      "   [12 13 14]\n",
      "   [15 16 17]]]\n",
      "\n",
      "\n",
      " [[[18 19 20]\n",
      "   [21 22 23]\n",
      "   [24 25 26]]\n",
      "\n",
      "  [[27 28 29]\n",
      "   [30 31 32]\n",
      "   [33 34 35]]]]\n",
      "#-----------------------------------------------------------------\n",
      "[   0    1    2 ..., 9997 9998 9999]\n",
      "#-----------------------------------------------------------------\n",
      "[[   0    1    2 ...,   97   98   99]\n",
      " [ 100  101  102 ...,  197  198  199]\n",
      " [ 200  201  202 ...,  297  298  299]\n",
      " ..., \n",
      " [9700 9701 9702 ..., 9797 9798 9799]\n",
      " [9800 9801 9802 ..., 9897 9898 9899]\n",
      " [9900 9901 9902 ..., 9997 9998 9999]]\n"
     ]
    }
   ],
   "source": [
    "a1d = np.arange(6)                         # 1d array\n",
    "print(a1d)\n",
    "print (\"#\" + 65*'-')\n",
    "\n",
    "a2d = np.arange(12).reshape(4,3)           # 2d array\n",
    "print(a2d)\n",
    "print (\"#\" + 65*'-')\n",
    "\n",
    "a3d = np.arange(24).reshape(2,3,4)         # 3d array\n",
    "print(a3d)\n",
    "print (\"#\" + 65*'-')\n",
    "\n",
    "a4d = np.arange(36).reshape(2,2,3,3)         # 4d array\n",
    "print(a4d)\n",
    "print (\"#\" + 65*'-')\n",
    "\n",
    "#  Two too big to print\n",
    "print(np.arange(10000))\n",
    "print (\"#\" + 65*'-')\n",
    "print(np.arange(10000).reshape(100,100))\n"
   ]
  },
  {
   "cell_type": "markdown",
   "metadata": {},
   "source": [
    "## Pandas\n",
    "\n"
   ]
  },
  {
   "cell_type": "code",
   "execution_count": null,
   "metadata": {
    "collapsed": false
   },
   "outputs": [],
   "source": [
    "\n"
   ]
  },
  {
   "cell_type": "markdown",
   "metadata": {},
   "source": [
    "## MatPlotLib\n",
    "\n",
    "\n",
    "https://matplotlib.org/gallery.html\n",
    "\n",
    "http://www.scipy-lectures.org/intro/matplotlib/matplotlib.html\n",
    "\n",
    "https://www.labri.fr/perso/nrougier/teaching/matplotlib/\n",
    "\n",
    "http://mple.m-artwork.eu/tutorial\n",
    "\n",
    "https://matplotlib.org/users/pyplot_tutorial.html\n",
    "\n",
    "https://jakevdp.github.io/blog/2012/10/07/xkcd-style-plots-in-matplotlib/\n",
    "\n",
    "!!!!!!!!!!\n",
    "\n",
    "https://matplotlib.org/faq/usage_faq.html\n",
    "\n",
    "\n",
    "\n",
    "\n",
    "\n"
   ]
  },
  {
   "cell_type": "code",
   "execution_count": null,
   "metadata": {
    "collapsed": false
   },
   "outputs": [],
   "source": [
    "\n"
   ]
  },
  {
   "cell_type": "markdown",
   "metadata": {},
   "source": [
    "## Appendix\n",
    "<a id=\"Appendix\"></a>\n",
    "\n",
    "Welcome!  This notebook (and its sisters) was developed for me to practice some Python and data science fundamentals, and for me to explore and notate some interesting tricks, quirks, and lessons learned the hard way.  You may find these useful for testing your own techniques.\n",
    "\n",
    "Because I'm a naval history buff, I have occasionally used US naval ship information as practice data.  US naval ships each have a unique identifying \"hull number,\" making it is easy to build many common Python data structures around ship characteristics.  More information about US \"hull numbers\" is available from:\n",
    "\n",
    "http://www.navweaps.com/index_tech/index_ships_list.php\n",
    "\n",
    "### Tell Me I'm an Idiot!\n",
    "I welcome coaching, constructive criticism, and insight into more efficient, effective, or Pythonic ways of accomplishing results!\n",
    "\n",
    "Sincerely,\n",
    "\n",
    "*Carl Gusler*\n",
    "\n",
    "Austin, Texas\n",
    "\n",
    "carl.gusler@gmail.com"
   ]
  },
  {
   "cell_type": "code",
   "execution_count": null,
   "metadata": {
    "collapsed": true
   },
   "outputs": [],
   "source": []
  }
 ],
 "metadata": {
  "anaconda-cloud": {},
  "kernelspec": {
   "display_name": "Python [conda root]",
   "language": "python",
   "name": "conda-root-py"
  },
  "language_info": {
   "codemirror_mode": {
    "name": "ipython",
    "version": 3
   },
   "file_extension": ".py",
   "mimetype": "text/x-python",
   "name": "python",
   "nbconvert_exporter": "python",
   "pygments_lexer": "ipython3",
   "version": "3.5.2"
  }
 },
 "nbformat": 4,
 "nbformat_minor": 1
}
