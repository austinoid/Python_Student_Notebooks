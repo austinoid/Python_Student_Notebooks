{
 "cells": [
  {
   "cell_type": "markdown",
   "metadata": {},
   "source": [
    "# Python Student Notebook for Intermediate Topics\n",
    "\n",
    "A compendium of intermediate-level topics, illustrative examples, best practices, tips and tricks.\n",
    "\n",
    "## Table of Contents\n",
    "\n",
    "+ [Logging](#Logging)\n",
    "+ [Ordered Dictionary](#OrderedDict)\n",
    "+ TkInter\n",
    "+ Logging\n",
    "+ Web Crawling\n",
    "+ [Appendix](#Appendix)"
   ]
  },
  {
   "cell_type": "markdown",
   "metadata": {},
   "source": [
    "## Logging\n",
    "<a id=\"Logging\"></a>\n",
    "\n",
    "This has been a frustrating topic as most of the documentation and examples I have located are either completely nonfunctional or only partially functional in the IDEs I have been using.\n",
    "\n",
    "This may be best overview:\n",
    "\n",
    "http://pieces.openpolitics.com/2012/04/python-logging-best-practices/\n",
    "\n",
    "Here is some guidance from StackOverflow:\n",
    "\n",
    "https://stackoverflow.com/questions/7173033/duplicate-log-output-when-using-python-logging-module\n"
   ]
  },
  {
   "cell_type": "code",
   "execution_count": 4,
   "metadata": {
    "collapsed": true
   },
   "outputs": [],
   "source": [
    "import os\n",
    "import re\n",
    "import logging\n",
    "\n"
   ]
  },
  {
   "cell_type": "markdown",
   "metadata": {},
   "source": [
    "After much preliminary web research, this was the first logging example I could get to actually and fully work.  However, it creates multiple entries in the log, one additional entry every time the script is run in the same IDE.  (Completely restarting IDE resets the counter.)"
   ]
  },
  {
   "cell_type": "code",
   "execution_count": 6,
   "metadata": {
    "collapsed": false
   },
   "outputs": [
    {
     "name": "stdout",
     "output_type": "stream",
     "text": [
      "Type of logger:   <class 'logging.Logger'>\n",
      "#-----------------------------------------------------------------\n"
     ]
    }
   ],
   "source": [
    "logger = logging.getLogger(__name__)\n",
    "print (\"Type of logger:  \", type(logger))\n",
    "logger.setLevel(logging.DEBUG)\n",
    "\n",
    "# create a file handler\n",
    "handler = logging.FileHandler('hello.log')\n",
    "handler.setLevel(logging.DEBUG)\n",
    "\n",
    "# create a logging format\n",
    "formatter = logging.Formatter('%(asctime)s - %(name)s - %(levelname)s - %(message)s')\n",
    "handler.setFormatter(formatter)\n",
    "\n",
    "# add the handlers to the logger\n",
    "logger.addHandler(handler)\n",
    "\n",
    "\n",
    "logger.debug('Engine thermostat set to AUTOMATIC')\n",
    "logger.info('Engine temperature: 450F degrees')\n",
    "logger.warning('Engine temperature high.  Shutdown started')\n",
    "logger.error('Engine failure!!')\n",
    "logger.critical('CRASHING NOW')\n",
    "\n",
    "print (\"#\" + 65*'-')"
   ]
  },
  {
   "cell_type": "markdown",
   "metadata": {},
   "source": [
    "Here is the original problem code from StackOverflow:"
   ]
  },
  {
   "cell_type": "code",
   "execution_count": 7,
   "metadata": {
    "collapsed": true
   },
   "outputs": [],
   "source": [
    "import os\n",
    "import time\n",
    "import datetime\n",
    "import logging\n",
    "class Logger :\n",
    "   def myLogger(self):\n",
    "      logger = logging.getLogger('ProvisioningPython')\n",
    "      logger.setLevel(logging.DEBUG)\n",
    "      now = datetime.datetime.now()\n",
    "      handler=logging.FileHandler('/root/credentials/Logs/ProvisioningPython'+ now.strftime(\"%Y-%m-%d\") +'.log')\n",
    "      formatter = logging.Formatter('%(asctime)s %(levelname)s %(message)s')\n",
    "      handler.setFormatter(formatter)\n",
    "      logger.addHandler(handler)\n",
    "      return logger"
   ]
  },
  {
   "cell_type": "markdown",
   "metadata": {},
   "source": [
    "Here is the original problem code from StackOverflow.  a stripped down version for testing, with a test case from another part of StackOverflow.  Cross fingers!"
   ]
  },
  {
   "cell_type": "code",
   "execution_count": 12,
   "metadata": {
    "collapsed": true
   },
   "outputs": [],
   "source": [
    "import os\n",
    "import time\n",
    "import datetime\n",
    "import logging\n",
    "class Logger :\n",
    "   def myLogger(self):\n",
    "      logger = logging.getLogger(__name__)\n",
    "      logger.setLevel(logging.DEBUG)\n",
    "      now = datetime.datetime.now()\n",
    "      handler=logging.FileHandler('hellod.log')\n",
    "      formatter = logging.Formatter('%(asctime)s %(levelname)s %(message)s')\n",
    "      handler.setFormatter(formatter)\n",
    "      logger.addHandler(handler)\n",
    "      return logger\n",
    "s = Logger()\n",
    "m = s.myLogger()\n",
    "m2 = s.myLogger()\n",
    "m.info(\"Info1\")\n",
    "m2.info(\"info2\")\n",
    "m.debug(\"Debug Message 1\")"
   ]
  },
  {
   "cell_type": "markdown",
   "metadata": {},
   "source": [
    "Here is a stripped down version for testing, with a test case from another part of StackOverflow.  Cross fingers!"
   ]
  },
  {
   "cell_type": "code",
   "execution_count": 19,
   "metadata": {
    "collapsed": false
   },
   "outputs": [],
   "source": [
    "import os\n",
    "import time\n",
    "import datetime\n",
    "import logging\n",
    "\n",
    "loggers = {}\n",
    "class Logger :\n",
    "    def myLogger(self):\n",
    "        global loggers\n",
    "\n",
    "        if loggers.get(__name__):\n",
    "            return loggers.get(__name__)\n",
    "        else:\n",
    "            logger = logging.getLogger(__name__)\n",
    "            logger.setLevel(logging.DEBUG)\n",
    "            now = datetime.datetime.now()\n",
    "            handler = logging.FileHandler(\n",
    "                'hellod2.log')\n",
    "            formatter = logging.Formatter('%(asctime)s %(levelname)s %(message)s')\n",
    "            handler.setFormatter(formatter)\n",
    "            logger.addHandler(handler)\n",
    "            loggers.update(dict(name=logger))\n",
    "\n",
    "            return logger\n",
    "\n",
    "s = Logger()\n",
    "m = s.myLogger()\n",
    "m2 = s.myLogger()\n",
    "m.info(\"Info1\")\n",
    "m2.info(\"info2\")\n",
    "m.debug(\"Debug Message 1\")\n",
    "m.warning(\"Warning Message 1\")\n",
    "m.error(\"Error Message 1\")\n",
    "m.critical(\"Critical Message 1\")\n",
    "\n"
   ]
  },
  {
   "cell_type": "markdown",
   "metadata": {},
   "source": [
    "## Appendix\n",
    "<a id=\"Appendix\"></a>\n",
    "\n",
    "Welcome!  This notebook (and its sisters) was developed for me to practice some Python and data science fundamentals, and for me to explore and notate some interesting tricks, quirks, and lessons learned the hard way.\n",
    "\n",
    "Because I'm a naval history buff, I have occasionally used US naval ship information as practice data.  US naval ships each have a unique identifying \"hull number,\" making it is easy to build many common Python data structures around ship characteristics.  More information about US \"hull numbers\" is available from:\n",
    "\n",
    "http://www.navweaps.com/index_tech/index_ships_list.php\n",
    "\n",
    "### Tell Me I'm an Idiot!\n",
    "I welcome coaching, constructive criticism, and insight into more efficient, effective, or Pythonic ways of accomplishing results!\n",
    "\n",
    "Sincerely,\n",
    "\n",
    "*Carl Gusler*\n",
    "\n",
    "Austin, Texas\n",
    "\n",
    "carl.gusler@gmail.com"
   ]
  }
 ],
 "metadata": {
  "anaconda-cloud": {},
  "kernelspec": {
   "display_name": "Python [conda root]",
   "language": "python",
   "name": "conda-root-py"
  },
  "language_info": {
   "codemirror_mode": {
    "name": "ipython",
    "version": 3
   },
   "file_extension": ".py",
   "mimetype": "text/x-python",
   "name": "python",
   "nbconvert_exporter": "python",
   "pygments_lexer": "ipython3",
   "version": "3.5.2"
  }
 },
 "nbformat": 4,
 "nbformat_minor": 1
}
