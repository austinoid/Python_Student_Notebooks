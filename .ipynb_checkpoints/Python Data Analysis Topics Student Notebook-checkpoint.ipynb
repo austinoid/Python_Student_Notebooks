{
 "cells": [
  {
   "cell_type": "markdown",
   "metadata": {},
   "source": [
    "# Python Student Notebook for Data Analysis Topics\n",
    "\n",
    "A compendium of data analysis topics, illustrative examples, best practices, tips and tricks.\n",
    "\n",
    "## Table of Contents\n",
    "\n",
    "+ [NumPy](#NumPy)\n",
    "+ Pandas\n"
   ]
  },
  {
   "cell_type": "markdown",
   "metadata": {},
   "source": [
    "## NumPy\n",
    "<a id=NumPy></a>\n",
    "\n",
    "NumPy’s main object is the homogeneous multidimensional array. It is a table of elements (usually numbers), all of the same type, indexed by a tuple of positive integers. In NumPy dimensions are called axes. The number of axes is rank.\n",
    "\n",
    "https://docs.scipy.org/doc/numpy-dev/user/quickstart.html\n"
   ]
  },
  {
   "cell_type": "markdown",
   "metadata": {},
   "source": [
    "### Import Supporting Modules\n",
    "The following modules are used to support NumPy operations."
   ]
  },
  {
   "cell_type": "code",
   "execution_count": 3,
   "metadata": {
    "collapsed": false
   },
   "outputs": [],
   "source": [
    "import numpy as np\n",
    "import matplotlib.pyplot as plt"
   ]
  },
  {
   "cell_type": "markdown",
   "metadata": {},
   "source": [
    "### Array Generation\n",
    "array transforms sequences of sequences into two-dimensional arrays, sequences of sequences of sequences into three-dimensional arrays, and so on."
   ]
  },
  {
   "cell_type": "code",
   "execution_count": 22,
   "metadata": {
    "collapsed": false
   },
   "outputs": [
    {
     "name": "stdout",
     "output_type": "stream",
     "text": [
      "[2 3 4]\n",
      "int32\n",
      "#-----------------------------------------------------------------\n",
      "[ 1.2  3.5  5.1]\n",
      "float64\n",
      "#-----------------------------------------------------------------\n",
      "[ 0  1  2  3  4  5  6  7  8  9 10 11 12 13 14]\n",
      "int32\n",
      "#-----------------------------------------------------------------\n",
      "[[ 1.+0.j  2.+0.j]\n",
      " [ 3.+0.j  4.+0.j]]\n",
      "complex128\n",
      "#-----------------------------------------------------------------\n",
      "[[ 0.  0.  0.  0.]\n",
      " [ 0.  0.  0.  0.]\n",
      " [ 0.  0.  0.  0.]]\n",
      "float64\n",
      "#-----------------------------------------------------------------\n",
      "[[[1 1 1 1]\n",
      "  [1 1 1 1]\n",
      "  [1 1 1 1]]\n",
      "\n",
      " [[1 1 1 1]\n",
      "  [1 1 1 1]\n",
      "  [1 1 1 1]]]\n",
      "int16\n",
      "#-----------------------------------------------------------------\n",
      "[[ 0.  0.  0.  0.]\n",
      " [ 0.  0.  0.  0.]\n",
      " [ 0.  0.  0.  0.]]\n",
      "float64\n",
      "#-----------------------------------------------------------------\n",
      "[[-0.04345438  1.27299137  0.48967342  0.93596177  0.74273021]\n",
      " [ 0.25746864  2.10748498 -0.605023   -0.21031739  0.69749736]\n",
      " [-1.03677868 -0.46238128  0.55524798  0.23106154 -0.81584862]]\n",
      "float64\n"
     ]
    }
   ],
   "source": [
    "# Can create an array from a regular Python list or tuple using the array function. \n",
    "# The type of the resulting array is deduced from the type of the elements in the sequences.\n",
    "a1 = np.array([2,3,4])\n",
    "print (a1)\n",
    "print (a1.dtype)         # Integer default type may vary for various reasons\n",
    "\n",
    "print (\"#\" + 65*'-')\n",
    "a2 = np.array([1.2, 3.5, 5.1])\n",
    "print (a2)\n",
    "print (a2.dtype)\n",
    "\n",
    "print (\"#\" + 65*'-')\n",
    "a3 = np.arange(15)     # That method is ARRAY RANGE, not ARRANGE\n",
    "print (a3)\n",
    "print (a3.dtype)\n",
    "\n",
    "print (\"#\" + 65*'-')\n",
    "# The type can be specified at creation\n",
    "a4 = np.array( [ [1,2], [3,4] ], dtype=complex )   \n",
    "print (a4)\n",
    "print (a4.dtype)\n",
    "print (\"#\" + 65*'-')\n",
    "\n",
    "# Arrays can be created early, to be populated later.  Resizing arrays may be process intensive\n",
    "# Create an array of zeros\n",
    "az1 = np.zeros( (3,4) )\n",
    "print (az1)\n",
    "print (az1.dtype)\n",
    "print (\"#\" + 65*'-')\n",
    "\n",
    "# Create an array of constants\n",
    "az2 = np.ones( (2,3,4), dtype=np.int16 )  # dtype can also be specified\n",
    "print (az2)                               # Note how 3rd dimension is printed\n",
    "print (az2.dtype)\n",
    "print (\"#\" + 65*'-')\n",
    "\n",
    "# Create an array of somewhat random values from pre-existing memory contents\n",
    "#   Believed to likely contain very small floating point numbers.  ~EE-10\n",
    "az3 = np.empty( (3,4) ) \n",
    "print (az3)\n",
    "print (az3.dtype)\n",
    "print (\"#\" + 65*'-')\n",
    "\n",
    "# Create an array of intentionally random values\n",
    "az4 = np.random.standard_normal( (3,5) ) \n",
    "print (az4)\n",
    "print (az4.dtype)\n",
    "\n"
   ]
  },
  {
   "cell_type": "markdown",
   "metadata": {},
   "source": [
    "### Array Characteristics\n",
    "ndarray.ndim\n",
    "the number of axes (dimensions) of the array. In the Python world, the number of dimensions is referred to as rank."
   ]
  },
  {
   "cell_type": "code",
   "execution_count": 22,
   "metadata": {
    "collapsed": false
   },
   "outputs": [
    {
     "name": "stdout",
     "output_type": "stream",
     "text": [
      "int16\n",
      "3\n",
      "(2, 3, 4)\n",
      "2\n",
      "<memory at 0x0000000004D9E048>\n",
      "int16\n"
     ]
    }
   ],
   "source": [
    "# From the 3D array:\n",
    "az2 = np.ones( (2,3,4), dtype=np.int16 )\n",
    "print (az2.dtype)     # Data Type\n",
    "print (az2.ndim)      # Number of axes of dimensions\n",
    "print (az2.shape)     # Dimensions of the array\n",
    "print (az2.itemsize)  # Size of each element in bytes\n",
    "print (az2.data)      # The data buffer location (very rarely used)\n"
   ]
  },
  {
   "cell_type": "markdown",
   "metadata": {},
   "source": [
    "### Populating Arrays\n",
    "\n"
   ]
  },
  {
   "cell_type": "code",
   "execution_count": 8,
   "metadata": {
    "collapsed": false
   },
   "outputs": [
    {
     "name": "stdout",
     "output_type": "stream",
     "text": [
      "#-----------------------------------------------------------------\n",
      "[ 0  1  2  3  4  5  6  7  8  9 10 11 12 13 14]\n",
      "int32\n",
      "#-----------------------------------------------------------------\n",
      "[ 0  5 10 15 20 25 30 35]\n",
      "int32\n",
      "#-----------------------------------------------------------------\n",
      "[ 0.   0.3  0.6  0.9  1.2  1.5  1.8  2.1  2.4  2.7]\n",
      "float64\n",
      "#-----------------------------------------------------------------\n",
      "[ 0.   0.2  0.4  0.6  0.8  1.   1.2  1.4  1.6  1.8  2. ]\n",
      "float64\n",
      "#-----------------------------------------------------------------\n",
      "float64\n",
      "float64\n",
      "#-----------------------------------------------------------------\n"
     ]
    },
    {
     "data": {
      "image/png": "[encoded data removed]",
      "text/plain": [
       "<matplotlib.figure.Figure at 0x806df28>"
      ]
     },
     "metadata": {},
     "output_type": "display_data"
    }
   ],
   "source": [
    "\n",
    "print (\"#\" + 65*'-')\n",
    "# Use np.arange to populate with a range of numbers.\n",
    "a3 = np.arange(15)     # That method is ARRAY RANGE, not ARRANGE\n",
    "print (a3)\n",
    "print (a3.dtype)\n",
    "\n",
    "print (\"#\" + 65*'-')\n",
    "# Use np.arange to populate with a range of integers.\n",
    "a4 = np.arange(0, 40, 5)     # That method is ARRAY RANGE, not ARRANGE\n",
    "print (a4)\n",
    "print (a4.dtype)\n",
    "\n",
    "print (\"#\" + 65*'-')\n",
    "# np.arange can populate with a range of floating, but not always well.\n",
    "a5 = np.arange( 0, 3, 0.3 )     # That method is ARRAY RANGE, not ARRANGE\n",
    "print (a5)\n",
    "print (a5.dtype)\n",
    "\n",
    "print (\"#\" + 65*'-')\n",
    "# Use np.linspace to populate with a sequence of floating point numbers.\n",
    "a6 =  np.linspace( 0, 2, 11 )     # That method is ARRAY RANGE, not ARRANGE\n",
    "print (a6)\n",
    "print (a6.dtype)\n",
    "\n",
    "from numpy import pi\n",
    "print (\"#\" + 65*'-')\n",
    "a7 = np.linspace( 0, 2*pi, 100 )        # useful to evaluate function at lots of points\n",
    "a8 = np.sin(a7)\n",
    "print (a7.dtype)\n",
    "print (a8.dtype)\n",
    "\n",
    "\n",
    "print (\"#\" + 65*'-')\n",
    "# Use np.logspace to populate with a logarithmically increasing sequence.\n",
    "N = 10\n",
    "x1 = np.logspace(0.1, 1, N, endpoint=True)\n",
    "x2 = np.logspace(0.1, 1, N, endpoint=False)\n",
    "y = np.zeros(N)\n",
    "plt.plot(x1, y, 'o')\n",
    "# [<matplotlib.lines.Line2D object at 0x...>]\n",
    "plt.plot(x2, y + 0.5, 'o')\n",
    "# [<matplotlib.lines.Line2D object at 0x...>]\n",
    "plt.ylim([-0.5, 1])\n",
    "# (-0.5, 1)\n",
    "plt.show()"
   ]
  },
  {
   "cell_type": "markdown",
   "metadata": {},
   "source": [
    "### Array Arithmetic and Simple Math Operations\n",
    "Arithmetic is performed on and with arrays on an element-by-element basis (or element-wise.)\n"
   ]
  },
  {
   "cell_type": "code",
   "execution_count": 21,
   "metadata": {
    "collapsed": false
   },
   "outputs": [
    {
     "name": "stdout",
     "output_type": "stream",
     "text": [
      "[ 0 10 20 30 40 50]\n",
      "[0 1 2 3 4 5]\n",
      "#-----------------------------------------------------------------\n",
      "[ 0 11 22 33 44 55]\n",
      "#-----------------------------------------------------------------\n",
      "[  0  10  40  90 160 250]\n",
      "#-----------------------------------------------------------------\n",
      "[ 0  1  4  9 16 25]\n",
      "#-----------------------------------------------------------------\n",
      "[  0.         -54.40211109  91.29452507 -98.80316241  74.51131605\n",
      " -26.23748537]\n",
      "#-----------------------------------------------------------------\n",
      "[ True  True False False False False]\n",
      "bool\n",
      "#-----------------------------------------------------------------\n",
      "[ 5 15 25 35 45 55]\n",
      "#-----------------------------------------------------------------\n"
     ]
    }
   ],
   "source": [
    "a = np.array( [0, 10, 20,30,40,50] )\n",
    "b = np.arange( 6 )\n",
    "print (a)\n",
    "print (b)\n",
    "print (\"#\" + 65*'-')\n",
    "\n",
    "# Addition of identical shape arrays\n",
    "c = a + b\n",
    "print (c)\n",
    "print (\"#\" + 65*'-')\n",
    "\n",
    "# Multipication of identical shape arrays.  NOTE:  This is not matrix multiplication!\n",
    "c = a * b\n",
    "print (c)\n",
    "print (\"#\" + 65*'-')\n",
    "\n",
    "# Element-wise exponentiation of  arrays\n",
    "c = b**2\n",
    "print (c)\n",
    "print (\"#\" + 65*'-')\n",
    "\n",
    "# Element-wise transcendental math of arrays\n",
    "c = 100*np.sin(a)\n",
    "print (c)\n",
    "print (\"#\" + 65*'-')\n",
    "\n",
    "# Element-wise testing arrays\n",
    "a<15\n",
    "c = (a<15)\n",
    "print (c)\n",
    "print (c.dtype)\n",
    "print (\"#\" + 65*'-')\n",
    "\n",
    "\n",
    "\n",
    "# One element vector added to true vector is the same as scalar addition to all elements in vector.\n",
    "d = np.array([5])\n",
    "c = a + d\n",
    "print (c)\n",
    "print (\"#\" + 65*'-')\n",
    "\n",
    "\n",
    "\n"
   ]
  },
  {
   "cell_type": "markdown",
   "metadata": {},
   "source": [
    "### Array Functions, Methods, and Operations\n",
    "\n"
   ]
  },
  {
   "cell_type": "code",
   "execution_count": 11,
   "metadata": {
    "collapsed": false
   },
   "outputs": [
    {
     "name": "stdout",
     "output_type": "stream",
     "text": [
      "['Houston', 'Austin', 'Huston', 'Walnut Creek', 'Kansas City', 'Atlanta']\n",
      "['__add__', '__class__', '__contains__', '__delattr__', '__delitem__', '__dir__', '__doc__', '__eq__', '__format__', '__ge__', '__getattribute__', '__getitem__', '__gt__', '__hash__', '__iadd__', '__imul__', '__init__', '__iter__', '__le__', '__len__', '__lt__', '__mul__', '__ne__', '__new__', '__reduce__', '__reduce_ex__', '__repr__', '__reversed__', '__rmul__', '__setattr__', '__setitem__', '__sizeof__', '__str__', '__subclasshook__', 'append', 'clear', 'copy', 'count', 'extend', 'index', 'insert', 'pop', 'remove', 'reverse', 'sort']\n",
      "<class 'list'>\n",
      "Len: 6\n",
      "Min: Atlanta\n",
      "My number is: 25, and my name is: Alex\n",
      "My number is: 25, and my name is: Alex\n",
      "My number is: 25. 'My name is: Alex.  My father's name is Alex.\n"
     ]
    }
   ],
   "source": [
    "\n"
   ]
  },
  {
   "cell_type": "markdown",
   "metadata": {},
   "source": [
    "### Reading Files into Arrays\n",
    "\n"
   ]
  },
  {
   "cell_type": "code",
   "execution_count": null,
   "metadata": {
    "collapsed": true
   },
   "outputs": [],
   "source": []
  },
  {
   "cell_type": "code",
   "execution_count": 3,
   "metadata": {
    "collapsed": false
   },
   "outputs": [
    {
     "name": "stdout",
     "output_type": "stream",
     "text": [
      "True!\n"
     ]
    }
   ],
   "source": [
    "\n"
   ]
  },
  {
   "cell_type": "code",
   "execution_count": null,
   "metadata": {
    "collapsed": true
   },
   "outputs": [],
   "source": []
  },
  {
   "cell_type": "code",
   "execution_count": null,
   "metadata": {
    "collapsed": true
   },
   "outputs": [],
   "source": []
  },
  {
   "cell_type": "markdown",
   "metadata": {},
   "source": [
    "## Pandas\n",
    "\n"
   ]
  },
  {
   "cell_type": "code",
   "execution_count": 11,
   "metadata": {
    "collapsed": false
   },
   "outputs": [
    {
     "name": "stdout",
     "output_type": "stream",
     "text": [
      "['Houston', 'Austin', 'Huston', 'Walnut Creek', 'Kansas City', 'Atlanta']\n",
      "['__add__', '__class__', '__contains__', '__delattr__', '__delitem__', '__dir__', '__doc__', '__eq__', '__format__', '__ge__', '__getattribute__', '__getitem__', '__gt__', '__hash__', '__iadd__', '__imul__', '__init__', '__iter__', '__le__', '__len__', '__lt__', '__mul__', '__ne__', '__new__', '__reduce__', '__reduce_ex__', '__repr__', '__reversed__', '__rmul__', '__setattr__', '__setitem__', '__sizeof__', '__str__', '__subclasshook__', 'append', 'clear', 'copy', 'count', 'extend', 'index', 'insert', 'pop', 'remove', 'reverse', 'sort']\n",
      "<class 'list'>\n",
      "Len: 6\n",
      "Min: Atlanta\n",
      "My number is: 25, and my name is: Alex\n",
      "My number is: 25, and my name is: Alex\n",
      "My number is: 25. 'My name is: Alex.  My father's name is Alex.\n"
     ]
    }
   ],
   "source": [
    "\n"
   ]
  },
  {
   "cell_type": "markdown",
   "metadata": {},
   "source": [
    "## MatPlotLib\n",
    "\n",
    "\n",
    "https://matplotlib.org/gallery.html\n",
    "\n",
    "http://www.scipy-lectures.org/intro/matplotlib/matplotlib.html\n",
    "\n",
    "https://www.labri.fr/perso/nrougier/teaching/matplotlib/\n",
    "\n",
    "http://mple.m-artwork.eu/tutorial\n",
    "\n",
    "https://matplotlib.org/users/pyplot_tutorial.html\n",
    "\n",
    "https://jakevdp.github.io/blog/2012/10/07/xkcd-style-plots-in-matplotlib/\n",
    "\n",
    "!!!!!!!!!!\n",
    "\n",
    "https://matplotlib.org/faq/usage_faq.html\n",
    "\n",
    "\n",
    "\n",
    "\n",
    "\n"
   ]
  },
  {
   "cell_type": "code",
   "execution_count": 11,
   "metadata": {
    "collapsed": false
   },
   "outputs": [
    {
     "name": "stdout",
     "output_type": "stream",
     "text": [
      "['Houston', 'Austin', 'Huston', 'Walnut Creek', 'Kansas City', 'Atlanta']\n",
      "['__add__', '__class__', '__contains__', '__delattr__', '__delitem__', '__dir__', '__doc__', '__eq__', '__format__', '__ge__', '__getattribute__', '__getitem__', '__gt__', '__hash__', '__iadd__', '__imul__', '__init__', '__iter__', '__le__', '__len__', '__lt__', '__mul__', '__ne__', '__new__', '__reduce__', '__reduce_ex__', '__repr__', '__reversed__', '__rmul__', '__setattr__', '__setitem__', '__sizeof__', '__str__', '__subclasshook__', 'append', 'clear', 'copy', 'count', 'extend', 'index', 'insert', 'pop', 'remove', 'reverse', 'sort']\n",
      "<class 'list'>\n",
      "Len: 6\n",
      "Min: Atlanta\n",
      "My number is: 25, and my name is: Alex\n",
      "My number is: 25, and my name is: Alex\n",
      "My number is: 25. 'My name is: Alex.  My father's name is Alex.\n"
     ]
    }
   ],
   "source": [
    "\n"
   ]
  }
 ],
 "metadata": {
  "anaconda-cloud": {},
  "kernelspec": {
   "display_name": "Python [conda root]",
   "language": "python",
   "name": "conda-root-py"
  },
  "language_info": {
   "codemirror_mode": {
    "name": "ipython",
    "version": 3
   },
   "file_extension": ".py",
   "mimetype": "text/x-python",
   "name": "python",
   "nbconvert_exporter": "python",
   "pygments_lexer": "ipython3",
   "version": "3.5.2"
  }
 },
 "nbformat": 4,
 "nbformat_minor": 1
}
