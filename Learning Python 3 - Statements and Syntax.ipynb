{
 "cells": [
  {
   "cell_type": "markdown",
   "metadata": {},
   "source": [
    "# Learning Python - Notebook 3 - Statements and Syntax\n",
    "\n",
    "A compendium of introductory topics, illustrative examples, best practices, tips and tricks, and sample code upon which to practice more advanced techniques in the future.  \n",
    "\n",
    "Though most of the content here is my own explorations and my own dumb ideas, I have chosen to organize this series of Notebooks roughly based on the organization of Mark Lutz' authoritative (and massive) book _Learning Python._  These notebooks are aligned with the numbered major parts of his book.  This notebook aligns with his chapters covering Python __Statements and Syntax.__\n",
    "\n",
    "Please see the accompanying notebooks for complementary and more complex topics.\n",
    "\n",
    "It is considered good form to try to use content from \"Monty Python\" in examples.  As the programming topics get more complex, I believe reaching for \"Monty Python\" examples eventually leads to some obscure or illogical example code.\n",
    "As a naval history buff and a gaming enthusiast, I would love to someday write the world's greatest warship game program in Python.  So, I am reaching into the world of ships and fleets for concepts to use as coding examples.  Warships have many things that directly connect with object oriented concepts.  We can start with the point that warships are designed and constructed in classes. \n",
    "I hope you find this approach useful!\n",
    "## Notebook Structure\n",
    "This notebook is compact enough that I've tried to make every cell independent.  There is a \"root\" is marked as Cell Zero.  It contains a summary of all the IMPORT statements used throughout this notebook.  \n",
    "\n",
    "Python notation sometimes conflicts with Jupyter markdown notation.  (I'm looking at you, dunders!)  When I want to emphasize a Python command, method, parameter, or so forth, I will capitalize in the narrative.\n",
    "\n",
    "## Table of Contents\n",
    "\n",
    "+ [Code Formatting](#CodeFormatting)\n",
    "+ [Assignment](#Assignment)\n",
    "+ [Printing](#Printing)\n",
    "+ [Conditionals](#Conditionals)\n",
    "+ [Looping](#Looping)\n",
    "+ [Iteration](#Iteration)\n",
    "+ [Appendix](#Appendix)"
   ]
  },
  {
   "cell_type": "markdown",
   "metadata": {},
   "source": [
    "## Getting Started\n",
    "Before we get going, let's import everything we need, check a few details, etc."
   ]
  },
  {
   "cell_type": "code",
   "execution_count": null,
   "metadata": {
    "collapsed": true
   },
   "outputs": [],
   "source": [
    "# Base Cell 0 (Zero)\n",
    "# Here is a gathering place for all imports, though the cells below include these individually as needed.\n",
    "\n",
    "import sys\n",
    "import platform\n",
    "from pprint import pprint\n",
    "import datetime\n",
    "import string\n",
    "import copy\n",
    "import math\n",
    "import reprlib\n",
    "from collections import namedtuple\n",
    "\n",
    "# Display Python Version\n",
    "#  I guess we won't be using any 3.6 features today, such as the f-string feature.\n",
    "print (\"\\n#\" + 65*'-')\n",
    "print (sys.version)\n",
    "print (platform.python_version())"
   ]
  },
  {
   "cell_type": "markdown",
   "metadata": {},
   "source": [
    "## Code Formatting\n",
    "<a id=CodeFormatting></a>\n",
    "https://www.python.org/dev/peps/pep-0008/\n",
    "https://docs.python.org/3/reference/lexical_analysis.html#implicit-line-joining"
   ]
  },
  {
   "cell_type": "code",
   "execution_count": 2,
   "metadata": {
    "collapsed": false
   },
   "outputs": [
    {
     "name": "stdout",
     "output_type": "stream",
     "text": [
      "True!\n"
     ]
    }
   ],
   "source": [
    "# Comment\n",
    "l_string = '''abc\n",
    "                  def'''    #Triple quote captures everything, including LF\n",
    "\n",
    "# Line Continuation with Backslash\n",
    "a = '1' + '2' + '3' + \\\n",
    "    '4' + '5'\n",
    "\n",
    "x = 2     \n",
    "s1 = (x + x**2/2 + x**3/3 +\n",
    "     x**4/4 + x**5/5 +\n",
    "     x**6/6 + x**7/7 +\n",
    "     x**8/8)            \n",
    "\n",
    "# Line Continuation with Open Parentheses #Python allows line continuation within open braces, brackets, parentheses.\n",
    "a = ('1' + '2' + '3' +\n",
    "    '4' + '5')    \n",
    "s2 = (x + x**2/2 + x**3/3 \n",
    "     + x**4/4 + x**5/5 \n",
    "     + x**6/6 + x**7/7 \n",
    "     + x**8/8)     \n",
    "\n",
    "# If Condition Line Continuation with Open Parentheses\n",
    "if (s1 == s2 and s2 >0 and x == 2\n",
    "    and s1 > 0):\n",
    "    print (\"True!\")\n",
    "else:\n",
    "    print (\"False.\")\n",
    "\n",
    "# No-Op for adding detailed code to structure later\n",
    "#   Three-dot ellipsis for no-op\n",
    "\n",
    "if x> 0:\n",
    "    ...\n",
    "    "
   ]
  },
  {
   "cell_type": "markdown",
   "metadata": {},
   "source": [
    "## Assignment\n",
    "<a id=Assignment></a>\n",
    "Be very careful!  \n",
    "\n",
    "The fundamental point is that name (or variables) are being assigned to objects.  This is close to the concept of \"pointers\" in other languages.\n",
    "\n",
    "There are many ways to \"shortcut\" complex assignments, which can lead to trouble.  Tuples are frequently implied and created, perhaps by accident."
   ]
  },
  {
   "cell_type": "code",
   "execution_count": 15,
   "metadata": {
    "collapsed": false
   },
   "outputs": [
    {
     "name": "stdout",
     "output_type": "stream",
     "text": [
      "S p a m\n",
      "S ['p', 'a', 'm']\n",
      "0 1 2 3 4 5 6\n",
      "0 0 0\n",
      "\n",
      "#==== Augmented Assignment==================================================\n",
      "Addition:  2\n",
      "Subtraction:  1\n",
      "Multiplication:  1\n",
      "Division:  1.0\n",
      "Floor Division:  1.0\n",
      "Modulo:  0.0\n",
      "Exponentiation:  0.0\n",
      "Bitwise AND:  1\n",
      "Bitwise OR:  1\n",
      "Bitwise Right Shift:  0\n",
      "Bitwise Left Shift:  0\n"
     ]
    }
   ],
   "source": [
    "## Sequence Assignment\n",
    "# Assigning multiple variables simultaneously and positionally.  Be careful!\n",
    "a, b, c, d = 'Spam'   # They ain't all being assigned equally.\n",
    "print (a, b, c, d)\n",
    "\n",
    "## Multiple Sequence Unpacking\n",
    "# Assigning multiple variables simultaneously and positionally.  Be careful!\n",
    "a, *b = 'Spam'   # They ain't all being assigned equally.\n",
    "print (a, b)\n",
    "\n",
    "## Multiple Target Assignment\n",
    "# Assigning multiple variables simultaneously.\n",
    "#    I suppose this makes the code listing slightly shorter, and keeps one from abusing the \"=\" key.\n",
    "#    However, I find this an invitation to scrimp on documentation.  What are all these variables and their values?\n",
    "#    (Okay, I may have exxagerated for effect.)\n",
    "\n",
    "# Assigning multiple variable names to different objects simultaneously.\n",
    "a, b, c, d, e, f, g = 0,1,2,3,4,5,6\n",
    "print (a, b, c, d, e, f, g)\n",
    "\n",
    "# Assigning multiple variable names to the same object simultaneously.\n",
    "x = y = z = 0\n",
    "print (x, y, z)\n",
    "print \n",
    "\n",
    "## Augmented Assignment\n",
    "print (\"\\n#==== Augmented Assignment\" + 50*'=')\n",
    "# Adjusting to object assigned.  The interpreter will perform this the most efficient way.\n",
    "# This is similar to x == x + 1.  To be efficient, in augmented assignment the x is only evaluated once.\n",
    "# This can lead to surprises, such as changes in object type (though not explored here, yet)\n",
    "a = b = c = d = 1   # (This ain't them.  Wait for them coming.)\n",
    "\n",
    "a += b\n",
    "print ('Addition: ', a)\n",
    "a -= b\n",
    "print ('Subtraction: ', a)\n",
    "a *= b\n",
    "print ('Multiplication: ', a)\n",
    "a /= b\n",
    "print ('Division: ', a) # Note the object type change from integer to float\n",
    "a //= b\n",
    "print ('Floor Division: ', a) \n",
    "a %= b\n",
    "print ('Modulo: ', a) \n",
    "a **= b\n",
    "print ('Exponentiation: ', a) \n",
    "\n",
    "b &= c\n",
    "print ('Bitwise AND: ', b) \n",
    "b |= c\n",
    "print ('Bitwise OR: ', b) \n",
    "b >>= c\n",
    "print ('Bitwise Right Shift: ', b) \n",
    "b <<= c\n",
    "print ('Bitwise Left Shift: ', b) "
   ]
  },
  {
   "cell_type": "markdown",
   "metadata": {},
   "source": [
    "## Printing in Python 3\n",
    "<a id=Printing></a>\n",
    "This demonstrates basic Python results string handling capabilities.  Please see _Python Intermediate Topics Student Notebook_ for a deeper exploration of the FORMAT method.\n",
    "\n",
    "### Printing Results and Variables with Formatting\n",
    "Please see _Python Intermediate Topics Student Notebook_ for a deeper exploration of the FORMAT method.\n",
    "https://docs.python.org/3/library/functions.html?highlight=print#print"
   ]
  },
  {
   "cell_type": "code",
   "execution_count": 9,
   "metadata": {
    "collapsed": false
   },
   "outputs": [
    {
     "name": "stdout",
     "output_type": "stream",
     "text": [
      "['Houston', 'Austin', 'Huston', 'Walnut Creek', 'Kansas City', 'Atlanta']\n",
      "['__add__', '__class__', '__contains__', '__delattr__', '__delitem__', '__dir__', '__doc__', '__eq__', '__format__', '__ge__', '__getattribute__', '__getitem__', '__gt__', '__hash__', '__iadd__', '__imul__', '__init__', '__iter__', '__le__', '__len__', '__lt__', '__mul__', '__ne__', '__new__', '__reduce__', '__reduce_ex__', '__repr__', '__reversed__', '__rmul__', '__setattr__', '__setitem__', '__sizeof__', '__str__', '__subclasshook__', 'append', 'clear', 'copy', 'count', 'extend', 'index', 'insert', 'pop', 'remove', 'reverse', 'sort']\n",
      "<class 'list'>\n",
      "Number is:  25\n",
      "Name is:  Alex\n",
      "25 Alex\n",
      "25 <> Alex\n",
      "Number is:  25\n",
      "Len: 6\n",
      "Min: Atlanta\n",
      "My number is: 25, and my name is: Alex\n",
      "My number is: 25, and my name is: Alex\n",
      "My number is: 25. 'My name is: Alex.  My father's name is Alex.\n"
     ]
    }
   ],
   "source": [
    "early_list = list() #Create empty list\n",
    "early_list = [\"Houston\", \"Austin\", \"Huston\", \"Walnut Creek\", \"Kansas City\", \"Atlanta\"]\n",
    "\n",
    "\n",
    "num = 25\n",
    "name = 'Alex'\n",
    "\n",
    "print ( early_list)\n",
    "print ( dir(early_list))\n",
    "print ( type(early_list))\n",
    "\n",
    "# Perl or script-style printing\n",
    "print ('Number is: ', num)\n",
    "print ('Name is: ', name)\n",
    "\n",
    "print (num, name)\n",
    "print (num, name, sep=' <> ')\n",
    "print ('Number is: ', end=' ')\n",
    "print (num)\n",
    "\n",
    "# Python string format method printing\n",
    "print ( 'Len: {}'.format(len(early_list))) # Len = element count\n",
    "print ( 'Min: {}'.format(min(early_list))) # Min = alphabettically lowest\n",
    "\n",
    "print('My number is: {}, and my name is: {}'.format(num,name))\n",
    "print('My number is: {one}, and my name is: {two}'.format(one=num,two=name)) # Prevents sequencing issues\n",
    "\n",
    "print('My number is: {one}.'.format(one=num), sep=\"&\", end=\" \") # The separator characters can be changed.\n",
    "print(\"'My name is: {two}.  My father's name is {two}.\".format(two=name)) # Allows variable to be printed multiple times.\n"
   ]
  },
  {
   "cell_type": "markdown",
   "metadata": {},
   "source": [
    "   ### Perl-Style Printing"
   ]
  },
  {
   "cell_type": "code",
   "execution_count": 2,
   "metadata": {
    "collapsed": false
   },
   "outputs": [
    {
     "name": "stdout",
     "output_type": "stream",
     "text": [
      "Number is:  25\n",
      "Name is:  Alex\n",
      "Last Name: Rube First Name:Goldberg\n"
     ]
    }
   ],
   "source": [
    "num = 25\n",
    "name = 'Alex'\n",
    "print ('Number is: ', num)\n",
    "print ('Name is: ', name)\n",
    "\n",
    "a = \"Rube\"\n",
    "b = \"Goldberg\"\n",
    "print (\"Last Name: \"+ a +\" First Name:\"+ b)"
   ]
  },
  {
   "cell_type": "markdown",
   "metadata": {},
   "source": [
    "### My Best Practices for Formatting Output"
   ]
  },
  {
   "cell_type": "code",
   "execution_count": 1,
   "metadata": {
    "collapsed": false
   },
   "outputs": [
    {
     "name": "stdout",
     "output_type": "stream",
     "text": [
      "#=================================================================\n",
      "#-----------------------------------------------------------------\n",
      "\n",
      "#=================================================================\n",
      "\n",
      "#-----------------------------------------------------------------\n"
     ]
    }
   ],
   "source": [
    "bar_string = \"#\" + 65*'='   # Multipled string can be multiple character\n",
    "line_string = \"#\" + 65*'-' # Multipled string can be multiple character\n",
    "print (\"#\" + 65*'=')\n",
    "print (\"#\" + 65*'-')\n",
    "print (\"\\n#\" + 65*'=')\n",
    "print (\"\\n#\" + 65*'-')"
   ]
  },
  {
   "cell_type": "markdown",
   "metadata": {},
   "source": [
    "## Logical Operations\n"
   ]
  },
  {
   "cell_type": "markdown",
   "metadata": {},
   "source": [
    "## Conditionals\n",
    "<a id=Conditionals></a>\n",
    "\n",
    "\n",
    "### Data Structures Instead of Case or Switch\n",
    "Python has not Case or Switch statement for complex multi-way branching.  The same structure can be created using long IF structures.\n",
    "\n",
    "However, it is possible to build something similar to Case using data structures.  While strange, this does offer the possibility of the code logic being adjusted at run time.  Textbook examples of this focus on printing from a choice, but populating dictionaries with lambda functions could all the dictionary to actually run code."
   ]
  },
  {
   "cell_type": "code",
   "execution_count": 18,
   "metadata": {
    "collapsed": false
   },
   "outputs": [
    {
     "name": "stdout",
     "output_type": "stream",
     "text": [
      "San\n",
      "Error\n"
     ]
    }
   ],
   "source": [
    "choices = dict( one = 'Ich', two = 'Ni', three = 'San')\n",
    "selector = 'three'\n",
    "print (choices.get(selector, 'Error'))\n",
    "\n",
    "selector = 'four'\n",
    "print (choices.get(selector, 'Error'))"
   ]
  },
  {
   "cell_type": "markdown",
   "metadata": {},
   "source": [
    "### Ternary Expression / Operator"
   ]
  },
  {
   "cell_type": "code",
   "execution_count": 20,
   "metadata": {
    "collapsed": false
   },
   "outputs": [
    {
     "name": "stdout",
     "output_type": "stream",
     "text": [
      "3\n"
     ]
    }
   ],
   "source": [
    "i = 1\n",
    "j = 2\n",
    "\n",
    "# Conditional Expressions aka Ternary Operator\n",
    "# Set variables with conditionals.\n",
    "#      This is the official syntax (apparently after much activity and argument in Python community.)\n",
    "x = 3 if j > i else 4\n",
    "\n",
    "#      The addition of parentheses is believed to make use clearer.\n",
    "#      The addition of parentheses is also believed to prevent confusion as is similar to some Lambda expressions.\n",
    "x = ( 3 if j > i else 4 )\n",
    "\n",
    "\n",
    "print (x)"
   ]
  },
  {
   "cell_type": "markdown",
   "metadata": {},
   "source": [
    "## Looping\n",
    "<a id=Looping></a>\n",
    "\n",
    "### While\n",
    "#### Main Syntax"
   ]
  },
  {
   "cell_type": "code",
   "execution_count": 6,
   "metadata": {
    "collapsed": false
   },
   "outputs": [
    {
     "name": "stdout",
     "output_type": "stream",
     "text": [
      "0 1 2 3 4 5 6 7 8 9 10 11 Completion.  Note last count.\n",
      "0 1 2 3 4 5 6 7 8 9 10 11 Completion.  Note last count.\n"
     ]
    }
   ],
   "source": [
    "i = 0\n",
    "j = 12\n",
    "\n",
    "## Core While Syntax\n",
    "while i < j:\n",
    "    print (i, end=' ')\n",
    "    i +=1\n",
    "else:\n",
    "    print ('Completion.  Note last count.')\n",
    "\n",
    "i = 0    \n",
    "## Full While Syntax\n",
    "while i < j:\n",
    "    print (i, end=' ')\n",
    "    i +=1\n",
    "    if i > j: break\n",
    "    if i > 0: continue    \n",
    "else:\n",
    "    print ('Completion.  Note last count.')"
   ]
  },
  {
   "cell_type": "markdown",
   "metadata": {},
   "source": [
    "#### Artificial DO UNTIL\n",
    "Python has no DO UNTIL structure, but one can be constructed with WHILE and BREAK."
   ]
  },
  {
   "cell_type": "code",
   "execution_count": 11,
   "metadata": {
    "collapsed": false
   },
   "outputs": [
    {
     "name": "stdout",
     "output_type": "stream",
     "text": [
      "0 1 2 3 4 5 6 7 8 9 10 11 "
     ]
    }
   ],
   "source": [
    "i = 0\n",
    "j = 12\n",
    "\n",
    "\n",
    "while True:\n",
    "    print (i, end=' ')\n",
    "    i +=1\n",
    "    if i >= j: break\n",
    "else:\n",
    "    print ('Completion.  Note last count.')"
   ]
  },
  {
   "cell_type": "markdown",
   "metadata": {},
   "source": [
    "#### BREAK and ELSE\n",
    "The use of BREAK and ELSE in a WHILE structure eliminates a common code use case where something is analyzed within a loop, but flags must be set in the loop and then tested after the loop with IF statements to deal with what the analysis found."
   ]
  },
  {
   "cell_type": "code",
   "execution_count": 12,
   "metadata": {
    "collapsed": false
   },
   "outputs": [
    {
     "name": "stdout",
     "output_type": "stream",
     "text": [
      "11  has factor  1\n"
     ]
    }
   ],
   "source": [
    "j = 11\n",
    "i = j //2\n",
    "while j > 1:\n",
    "    if j % i == 0:\n",
    "        print (j, \" has factor \", i)\n",
    "        break\n",
    "    i -= 1\n",
    "else:\n",
    "    print (j, ' is prime.')"
   ]
  },
  {
   "cell_type": "markdown",
   "metadata": {},
   "source": [
    "### \"Hidden\" Condition Testing\n",
    "Python's \"everything has a Boolean value\" philosophy enables condition-testing to be hidden simply by referring to an object in a conditional expression.  This makes for elegant code that may be puzzling at first glance. "
   ]
  },
  {
   "cell_type": "code",
   "execution_count": 13,
   "metadata": {
    "collapsed": false
   },
   "outputs": [
    {
     "name": "stdout",
     "output_type": "stream",
     "text": [
      "10 8 6 4 2 0 "
     ]
    }
   ],
   "source": [
    "j = 12\n",
    "while j:        # While j is what?!  While j is TRUE, which means while j is non-zero!\n",
    "    j -= 1\n",
    "    if j % 2 != 0: continue   # Mark Lutz warns about CONTINUE statements being a kind of dangerous GO TO\n",
    "    print (j, end = ' ')\n",
    "        "
   ]
  },
  {
   "cell_type": "markdown",
   "metadata": {},
   "source": [
    "### For\n",
    "#### Main Syntax\n",
    "Using a loop counter is almost always unnecessary and should be avoided."
   ]
  },
  {
   "cell_type": "code",
   "execution_count": 19,
   "metadata": {
    "collapsed": false
   },
   "outputs": [
    {
     "name": "stdout",
     "output_type": "stream",
     "text": [
      "lumberjack 10\n",
      "work 4\n",
      "sleep 5\n",
      "night 5\n",
      "day 3\n",
      "\n",
      "#-----------------------------------------------------------------\n",
      "Lumberjack!\n",
      "work 4\n",
      "sleep 5\n",
      "night 5\n",
      "day 3\n",
      "Finished.\n"
     ]
    }
   ],
   "source": [
    "words = ['lumberjack', 'work', 'sleep', 'night', 'day']\n",
    "\n",
    "## Core FOR Syntax\n",
    "for w in words:\n",
    "    print (w, len(w))\n",
    "print (\"\\n#\" + 65*'-')\n",
    "\n",
    "## Full  FOR Syntax\n",
    "for w in words:\n",
    "    if w == 'quit': break\n",
    "    if w == 'lumberjack':\n",
    "        print ('Lumberjack!')\n",
    "        continue\n",
    "    print (w, len(w))\n",
    "else:\n",
    "    print ('Finished.')\n",
    "    \n",
    "\n"
   ]
  },
  {
   "cell_type": "markdown",
   "metadata": {},
   "source": [
    "#### FOR Coding Techniques"
   ]
  },
  {
   "cell_type": "code",
   "execution_count": 32,
   "metadata": {
    "collapsed": false
   },
   "outputs": [
    {
     "name": "stdout",
     "output_type": "stream",
     "text": [
      "1 2\n",
      "3 4\n",
      "5 6\n",
      "\n",
      "#-----------------------------------------------------------------\n",
      "0 1 2 3 4 \n",
      "#-----------------------------------------------------------------\n",
      "[1, 2, 3, 4] [2, 3, 4, 1] [3, 4, 1, 2] [4, 1, 2, 3] \n",
      "#-----------------------------------------------------------------\n",
      "a c e g i k l \n",
      "#-----------------------------------------------------------------\n",
      "<zip object at 0x0000000005DE03C8>\n",
      "[('Leslie', 1920), ('Paul', 1922), ('Frank', 1928), ('Jack', 1930)]\n",
      "<class 'zip'>\n",
      "Leslie 1920\n",
      "Paul 1922\n",
      "Frank 1928\n",
      "Jack 1930\n",
      "\n",
      "#-----------------------------------------------------------------\n",
      "<enumerate object at 0x0000000004CB5E10>\n",
      "<class 'enumerate'>\n",
      "Leslie is Son # 0\n",
      "Paul is Son # 1\n",
      "Frank is Son # 2\n",
      "Jack is Son # 3\n"
     ]
    }
   ],
   "source": [
    "# Looping thru a nested data structure\n",
    "#   In this case, looping thru a list of tuples\n",
    "LoT = [(1,2),(3,4),(5,6)]\n",
    "for i,j in LoT:\n",
    "    print (i,j)\n",
    "print (\"\\n#\" + 65*'-')\n",
    "\n",
    "# Counting Loop with RANGE  (For when you really do need a loop counter)\n",
    "for i in range(5):\n",
    "    print (i, end = ' ')\n",
    "print (\"\\n#\" + 65*'-')\n",
    "\n",
    "# Sequence Shuffler using RANGE and LEN\n",
    "L = [1, 2, 3, 4]\n",
    "for i in range(len(L)):\n",
    "    L2 = L[i:] + L[:i]\n",
    "    print (L2, end=' ')\n",
    "print (\"\\n#\" + 65*'-')\n",
    "\n",
    "# Looping thru slices\n",
    "L3 = 'abcdefghijkkl'\n",
    "for c in L3[::2]: print (c, end= ' ')\n",
    "print (\"\\n#\" + 65*'-')\n",
    "\n",
    "# Parallel Loop Traversals with ZIP\n",
    "#  Manipulate multiple sequences in parallel\n",
    "L1 = ['Leslie', 'Paul', 'Frank', 'Jack']\n",
    "L2 = [1920, 1922, 1928, 1930]\n",
    "print (zip(L1,L2))\n",
    "print (list(zip(L1,L2)))\n",
    "print (type(zip(L1, L2)))   # Note that the result of ZIP is a zip object\n",
    "for n,d in list(zip(L1,L2)):\n",
    "    print (n, d)\n",
    "print (\"\\n#\" + 65*'-')\n",
    "\n",
    "# Counting Loop with ENUMERATE  (For when you really do need a sophisticated loop counter)\n",
    "#  ENUMERATE will add integer indexes to objects to created enumerated sequences\n",
    "L1 = ['Leslie', 'Paul', 'Frank', 'Jack']\n",
    "print (enumerate(L1))\n",
    "print (type(enumerate(L1)))\n",
    "for i, n in enumerate(L1):\n",
    "    print (n, 'is Son #', i)"
   ]
  },
  {
   "cell_type": "markdown",
   "metadata": {},
   "source": [
    "## Iteration\n",
    "<a id=Iteration></a>\n",
    "Iteration means taking each item of something, one after the other.  This means some kind of collection with some kind of order (sequence.)  Iteration implies looping, whether implicit or explicit.\n",
    "\n",
    "Mark Lutz acknowledges that there is great terminology ambiguity here amongst Python authors, and that other authors use iteration terms interchangeably.  However, Mark is determined to be clear about his own distinct terminology.  Here is my interpretation of his confusing definitions.  (He uses words with \"iter\" root three times per sentence.)\n",
    "\n",
    "An __Iterable__ is either a physical sequence (such as a list) or an object that can produce one result at a time when cued. The result can be computed on demand when cued. The sequence can be of finite length.  Like everything else in Python, an iterable is an object.  The result produced could be any number of different kinds of objects.\n",
    "\n",
    "An __Iterator__ is an object that provides the programmatic interface to the iterable object. The iterator provides the class methods and exception generation for iteration activities.  A list object is just a list, and needs an iterator object to provide the iteration methods, most specifically the NEXT method.\n",
    "\n",
    "An __Iteration Tool__ or __Iteration Context__ is a programmatic construst to produce iteration.  A FOR statement can be an iteration tool.  A comprehension can be an iteration context.  Such a tool or context may also contain the iterable or iterator (depending on which methods and exceptions it provides.)  For example, a file is an iterable, but the file object is its own iterator.\n",
    "\n",
    "### Iterables\n",
    "Iterables are sequences where it is possible to visit each element of the sequence, and perform some operation on that element (and move on.)\n",
    "\n",
    "Official Definition:\n",
    "\n",
    "An iterable is an object capable of returning its members one at a time. Examples of iterables include all sequence types (such as list, str, and tuple) and some non-sequence types like dict, file objects, and objects of any classes you define with an __iter__() or __getitem__() method. Iterables can be used in a for loop and in many other places where a sequence is needed (zip(), map(), ...). When an iterable object is passed as an argument to the built-in function iter(), it returns an iterator for the object. This iterator is good for one pass over the set of values. When using iterables, it is usually not necessary to call iter() or deal with iterator objects yourself. The for statement does that automatically for you, creating a temporary unnamed variable to hold the iterator for the duration of the loop.\n",
    "\n",
    "### Iterators\n",
    "Iterables are objects providing the class methods and exception generation to make it possible to perform iteration activities.\n",
    "\n",
    "Official Definition:\n",
    "\n",
    "An object representing a stream of data. Repeated calls to the iterator’s __next__() method (or passing it to the built-in function next()) return successive items in the stream. When no more data are available a StopIteration exception is raised instead. At this point, the iterator object is exhausted and any further calls to its __next__() method just raise StopIteration again. Iterators are required to have an __iter__() method that returns the iterator object itself so every iterator is also iterable and may be used in most places where other iterables are accepted. One notable exception is code which attempts multiple iteration passes. A container object (such as a list) produces a fresh new iterator each time you pass it to the iter() function or use it in a for loop. Attempting this with an iterator will just return the same exhausted iterator object used in the previous iteration pass, making it appear like an empty container."
   ]
  },
  {
   "cell_type": "code",
   "execution_count": 12,
   "metadata": {
    "collapsed": false
   },
   "outputs": [
    {
     "name": "stdout",
     "output_type": "stream",
     "text": [
      "<class 'list'>\n",
      "['__add__', '__class__', '__contains__', '__delattr__', '__delitem__', '__dir__', '__doc__', '__eq__', '__format__', '__ge__', '__getattribute__', '__getitem__', '__gt__', '__hash__', '__iadd__', '__imul__', '__init__', '__iter__', '__le__', '__len__', '__lt__', '__mul__', '__ne__', '__new__', '__reduce__', '__reduce_ex__', '__repr__', '__reversed__', '__rmul__', '__setattr__', '__setitem__', '__sizeof__', '__str__', '__subclasshook__', 'append', 'clear', 'copy', 'count', 'extend', 'index', 'insert', 'pop', 'remove', 'reverse', 'sort']\n",
      "\n",
      "#-----------------------------------------------------------------\n",
      "<class 'list_iterator'>\n",
      "['__class__', '__delattr__', '__dir__', '__doc__', '__eq__', '__format__', '__ge__', '__getattribute__', '__gt__', '__hash__', '__init__', '__iter__', '__le__', '__length_hint__', '__lt__', '__ne__', '__new__', '__next__', '__reduce__', '__reduce_ex__', '__repr__', '__setattr__', '__setstate__', '__sizeof__', '__str__', '__subclasshook__']\n",
      "1\n",
      "2\n",
      "3\n",
      "4\n",
      "5\n"
     ]
    },
    {
     "ename": "StopIteration",
     "evalue": "",
     "output_type": "error",
     "traceback": [
      "\u001b[0;31m---------------------------------------------------------------------------\u001b[0m",
      "\u001b[0;31mStopIteration\u001b[0m                             Traceback (most recent call last)",
      "\u001b[0;32m<ipython-input-12-44fc68b90822>\u001b[0m in \u001b[0;36m<module>\u001b[0;34m()\u001b[0m\n\u001b[1;32m     12\u001b[0m \u001b[0mprint\u001b[0m \u001b[1;33m(\u001b[0m\u001b[0mIterator\u001b[0m\u001b[1;33m.\u001b[0m\u001b[0m__next__\u001b[0m\u001b[1;33m(\u001b[0m\u001b[1;33m)\u001b[0m\u001b[1;33m)\u001b[0m\u001b[1;33m\u001b[0m\u001b[0m\n\u001b[1;32m     13\u001b[0m \u001b[0mprint\u001b[0m \u001b[1;33m(\u001b[0m\u001b[0mIterator\u001b[0m\u001b[1;33m.\u001b[0m\u001b[0m__next__\u001b[0m\u001b[1;33m(\u001b[0m\u001b[1;33m)\u001b[0m\u001b[1;33m)\u001b[0m\u001b[1;33m\u001b[0m\u001b[0m\n\u001b[0;32m---> 14\u001b[0;31m \u001b[0mprint\u001b[0m \u001b[1;33m(\u001b[0m\u001b[0mIterator\u001b[0m\u001b[1;33m.\u001b[0m\u001b[0m__next__\u001b[0m\u001b[1;33m(\u001b[0m\u001b[1;33m)\u001b[0m\u001b[1;33m)\u001b[0m   \u001b[1;31m# Note the StopIteration exception raised!\u001b[0m\u001b[1;33m\u001b[0m\u001b[0m\n\u001b[0m",
      "\u001b[0;31mStopIteration\u001b[0m: "
     ]
    }
   ],
   "source": [
    "Integers = [1, 2, 3, 4, 5]\n",
    "print (type(Integers))\n",
    "print (dir(Integers))   # Note the __iter__ method but the significant lack of a __next__ method!\n",
    "print (\"\\n#\" + 65*'-')\n",
    "\n",
    "Iterator = iter(Integers)\n",
    "print (type(Iterator))  # Note the iterator class type.\n",
    "print (dir(Iterator))   # Note the __next__ method now available!\n",
    "print (next(Iterator))     # NEXT calls the __next__ method, but not all iterator classes support the built-in NEXT function. \n",
    "print (Iterator.__next__())\n",
    "print (Iterator.__next__())\n",
    "print (Iterator.__next__())\n",
    "print (Iterator.__next__())\n",
    "print (Iterator.__next__())   # Note the StopIteration exception raised!"
   ]
  },
  {
   "cell_type": "markdown",
   "metadata": {},
   "source": [
    "#### Exploring the 3 Different Iteration Constructs"
   ]
  },
  {
   "cell_type": "code",
   "execution_count": 13,
   "metadata": {
    "collapsed": false
   },
   "outputs": [
    {
     "name": "stdout",
     "output_type": "stream",
     "text": [
      "1 Washington\n",
      "2 Adams\n",
      "3 Jefferson\n"
     ]
    }
   ],
   "source": [
    "Presidents = {1:'Washington', 2:'Adams', 3:'Jefferson'}   # A dictionary is an iterable\n",
    "for key in Presidents.keys() :                    # A dictionary KEY is an iterator.  The FOR statement is an interation tool.\n",
    "    print (key, Presidents[key])\n"
   ]
  },
  {
   "cell_type": "markdown",
   "metadata": {},
   "source": [
    "#### Iterations Produce Different Results"
   ]
  },
  {
   "cell_type": "code",
   "execution_count": 23,
   "metadata": {
    "collapsed": false
   },
   "outputs": [
    {
     "name": "stdout",
     "output_type": "stream",
     "text": [
      "<class 'range'>\n",
      "<class 'range_iterator'>\n",
      "1\n",
      "2\n",
      "<class 'enumerate'>\n",
      "<class 'enumerate'>\n",
      "True\n",
      "(0, 'S')\n",
      "(1, 'p')\n",
      "(2, 'a')\n",
      "[(0, 'S'), (1, 'p'), (2, 'a'), (3, 'm'), (4, 'a'), (5, 'l'), (6, 'o'), (7, 't')]\n",
      "[(0, (3, 'm')), (1, (4, 'e')), (2, (5, 'l')), (3, (6, 'o')), (4, (7, 't'))]\n"
     ]
    }
   ],
   "source": [
    "# An Iterator can produce individual singleton objects that might need to be saved in a list or other structure\n",
    "Roy = range(1,5)\n",
    "print (type(Roy))\n",
    "Rogers = iter(Roy)\n",
    "print (type(Rogers))  # Note the iterator class type.\n",
    "print (next(Rogers))\n",
    "print (Rogers.__next__())  # Note the singleton integers produced by RANGE as an iterable\n",
    "\n",
    "# An Iterator can produce tuple objects\n",
    "Home = enumerate('Spamelot')\n",
    "print (type(Home))\n",
    "Sweet = iter(Home)\n",
    "print (type(Sweet))   # Note that the class does not change\n",
    "print (Home is Sweet) # Since the iterable is its own iterator, trying to create a new iterator is kind of ignored.\n",
    "\n",
    "print (next(Home))\n",
    "print (next(Sweet))   # Note the tuples produced by ENUMERATE as an iterable\n",
    "print (next(Sweet))\n",
    "\n",
    "print (list(enumerate(Home)))  # Look closely!\n",
    "\n",
    "print (list(enumerate('Spamalot')))"
   ]
  },
  {
   "cell_type": "markdown",
   "metadata": {
    "collapsed": false
   },
   "source": [
    "## Appendices\n",
    "<a id=\"Appendix\"></a>\n",
    "Welcome!  This notebook (and its sisters) was developed for me to practice some Python and data science fundamentals, and for me to explore and notate some interesting tricks, quirks, and lessons learned the hard way.\n",
    "\n",
    "### Data on Ships\n",
    "As described earlier, I've been using US naval ship information in this notebook as practice data.  US naval ships each have a unique identifying \"hull number,\" making it is easy to build many common Python data structures around ship characteristics.  More information about US \"hull numbers\" is available from:\n",
    "\n",
    "http://www.navweaps.com/index_tech/index_ships_list.php\n",
    "\n",
    "### Jupyter Features and Controls\n",
    "<a id=\"Jupyter\"></a>\n",
    "I recommend using one of the excellent Jupyter cheat sheets, but here are a few key features and controls.\n",
    "#### Keyboard Shortcuts\n",
    "Use ESC to enter command mode.  From command mode, use ENTER to jump to edit mode.\n",
    "\n",
    "Use CMD+SHIFT+P to show command palette from any mode.\n",
    "##### Command Mode\n",
    "    - ENTER  Jump to edit mode\n",
    "    - H      Display help panel\n",
    "    - M      Make cell Markdown cell\n",
    "    - R      Make cell Raw cell\n",
    "    - Y      Make cell Code cell\n",
    "    - J      Select cell below (Like VI)\n",
    "    - K      Select cell above (Like VI)\n",
    "    - A      Insert new cell above (Like VI)\n",
    "    - B      Insert new cell below (Like VI)\n",
    "    - DD     Delete cell (Like VI)\n",
    "    - X      Cut cell\n",
    "    - C      Copy cell\n",
    "    - V      Paste cell below\n",
    "    - Z      Undo last cell deletion\n",
    "    - S      Save and checkpoint\n",
    "    - OO     Restart kernal\n",
    "##### Edit Mode\n",
    "    - ESC    Jump to command mode\n",
    "    - CTL+]  Indent entire row (from anywhere in row)\n",
    "    - CTL+[  Dedent entire row (from anywhere in row)\n",
    "    - CTL+A  Select all\n",
    "    - CTL+Z  Undo\n",
    "    - CTL+Y  Redo\n",
    "##### Magic and other Meta Tools\n",
    "    - %lsmagic    List Magic commands\n",
    "    - %magic      Display Magic quick user's guide\n",
    "    - %quickref   Display Magic quick refernce\n",
    "    - ?Objectname Display details about selected named program object\n",
    "    - %pwd        Display present working directory\n",
    "    - %env        Display or set OS shell environment information\n",
    "    - %debug      Jump into Python debugger\n",
    "    - %pdb        Interact with Python debugger\n",
    "\n",
    "\\\\( P(A \\mid B) = \\frac{P(B \\mid A) \\, P(A)}{P(B)} \\\\)\n",
    "\n",
    "### Tell Me I'm an Idiot!\n",
    "<a id=\"Idiot\"></a>\n",
    "I welcome coaching, constructive criticism, and insight into more efficient, effective, or Pythonic ways of accomplishing results!\n",
    "\n",
    "Sincerely,\n",
    "\n",
    "*Carl Gusler*\n",
    "\n",
    "Austin, Texas\n",
    "\n",
    "carl.gusler@gmail.com"
   ]
  },
  {
   "cell_type": "code",
   "execution_count": null,
   "metadata": {
    "collapsed": true
   },
   "outputs": [],
   "source": []
  }
 ],
 "metadata": {
  "anaconda-cloud": {},
  "kernelspec": {
   "display_name": "Python [conda root]",
   "language": "python",
   "name": "conda-root-py"
  },
  "language_info": {
   "codemirror_mode": {
    "name": "ipython",
    "version": 3
   },
   "file_extension": ".py",
   "mimetype": "text/x-python",
   "name": "python",
   "nbconvert_exporter": "python",
   "pygments_lexer": "ipython3",
   "version": "3.5.2"
  }
 },
 "nbformat": 4,
 "nbformat_minor": 1
}
