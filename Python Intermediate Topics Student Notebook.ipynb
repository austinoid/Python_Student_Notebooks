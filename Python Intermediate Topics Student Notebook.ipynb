{
 "cells": [
  {
   "cell_type": "markdown",
   "metadata": {},
   "source": [
    "# Python Student Notebook for Intermediate Topics\n",
    "\n",
    "A compendium of intermediate-level topics, illustrative examples, best practices, tips and tricks.  Please see the accompanying _Python Student Notebook for Basic Topics_ for exploration of more fundamental topics and the _Python Student Notebook for Advanced Topics_ for exploration of more complex topics.\n",
    "\n",
    "## Table of Contents\n",
    "\n",
    "+ [Default Dictionary](#DefaultDict)\n",
    "+ [Ordered Dictionary](#OrderedDict)\n",
    "+ [String Formatting](#StringFormatting)\n",
    "+ [Logging](#Logging)\n",
    "+ Web Crawling\n",
    "+ [Assertions](#Assertions)\n",
    "+ [Appendix](#Appendix)\n"
   ]
  },
  {
   "cell_type": "markdown",
   "metadata": {},
   "source": [
    "## Default Dictionary\n",
    "<a id=DefaultDict></a>\n",
    "\n",
    "Default dictionaries are extensions of the dict object class.  Default dictionaries have all the characteristics of regular dictionaries, except they do not raise KeyError.  Default dictionaries will populate a new entry with a default when a reference is made to a non-existent entry.\n",
    "\n",
    "Default dictionaries versus default output in .get for regular dictionary:  A regular dictionary can provide a default value from the .get method.  However, while a default value is returned, the dictionary contents are not touched.\n",
    "In a default dictionary, a query about a nonexistent key will result in a new dictionary entry being created with that key. \n",
    "\n",
    "Default dictionaries are one of about a dozen data structures available from the collections module.\n",
    "\n",
    "https://docs.python.org/3/library/collections.html\n",
    "\n",
    "https://www.accelebrate.com/blog/using-defaultdict-python/\n",
    "\n",
    "https://pymotw.com/2/collections/defaultdict.html\n",
    "\n",
    "https://alexlouden.com/posts/2015-defaultdict-in-python.html"
   ]
  },
  {
   "cell_type": "markdown",
   "metadata": {},
   "source": [
    "### Getting Started\n",
    "We will need a \"factory function\" to populate the default values.  Some use cases will indicate the need for a factory that generates a \"blank\" or \"empty\" value."
   ]
  },
  {
   "cell_type": "code",
   "execution_count": 1,
   "metadata": {
    "collapsed": false
   },
   "outputs": [
    {
     "name": "stdout",
     "output_type": "stream",
     "text": [
      "0\n",
      "[]\n",
      "\n",
      "0.0\n",
      "set()\n",
      "{}\n"
     ]
    }
   ],
   "source": [
    "from collections import defaultdict\n",
    "\n",
    "# Useful \"factory\" functions to provide \"empty\" starting values.  \n",
    "print (int())\n",
    "print (list())\n",
    "print (str())\n",
    "print (float())\n",
    "print (set())\n",
    "print (dict())\n",
    "\n",
    "# Some favorite strings for organizing output\n",
    "bar_string = \"#\" + 65*'='   # Multipled string can be multiple character\n",
    "line_string = \"#\" + 65*'-' # Multipled string can be multiple character"
   ]
  },
  {
   "cell_type": "markdown",
   "metadata": {},
   "source": [
    "### Default Dictionary Generation"
   ]
  },
  {
   "cell_type": "code",
   "execution_count": 2,
   "metadata": {
    "collapsed": false
   },
   "outputs": [
    {
     "name": "stdout",
     "output_type": "stream",
     "text": [
      "['__class__', '__contains__', '__delattr__', '__delitem__', '__dir__', '__doc__', '__eq__', '__format__', '__ge__', '__getattribute__', '__getitem__', '__gt__', '__hash__', '__init__', '__iter__', '__le__', '__len__', '__lt__', '__ne__', '__new__', '__reduce__', '__reduce_ex__', '__repr__', '__setattr__', '__setitem__', '__sizeof__', '__str__', '__subclasshook__', 'clear', 'copy', 'fromkeys', 'get', 'items', 'keys', 'pop', 'popitem', 'setdefault', 'update', 'values']\n",
      "<class 'dict'>\n",
      "#-----------------------------------------------------------------\n",
      "['__class__', '__contains__', '__copy__', '__delattr__', '__delitem__', '__dir__', '__doc__', '__eq__', '__format__', '__ge__', '__getattribute__', '__getitem__', '__gt__', '__hash__', '__init__', '__iter__', '__le__', '__len__', '__lt__', '__missing__', '__ne__', '__new__', '__reduce__', '__reduce_ex__', '__repr__', '__setattr__', '__setitem__', '__sizeof__', '__str__', '__subclasshook__', 'clear', 'copy', 'default_factory', 'fromkeys', 'get', 'items', 'keys', 'pop', 'popitem', 'setdefault', 'update', 'values']\n",
      "<class 'collections.defaultdict'>\n",
      "1\n",
      "Spruce\n",
      "3\n",
      "defaultdict(<class 'str'>, {'Texas': 'Pecan', 'Alaska': 'Spruce', 'Alabama': 'Pine'})\n",
      "#-----------------------------------------------------------------\n",
      "\n",
      "4\n",
      "defaultdict(<class 'str'>, {'Texas': 'Pecan', 'Alaska': 'Spruce', 'Alabama': 'Pine', 'Vermont': ''})\n"
     ]
    }
   ],
   "source": [
    "# Generating a normal dictionary\n",
    "a = {\"Alabama\":\"Pine\", \"Texas\":\"Pecan\", \"Alaska\":\"Spruce\"}\n",
    "print ( dir(a))\n",
    "print ( type(a))\n",
    "\n",
    "print (line_string)\n",
    "# A default dictionary for state trees, with blank returned for undefined states.\n",
    "state_tree = defaultdict(str)   # Note str as \"factory\" function called with no parentheses\n",
    "\n",
    "print ( dir(state_tree))     # A few new initial methods\n",
    "print ( type(state_tree))\n",
    "\n",
    "state_tree[\"Alabama\"] = \"Pine\"\n",
    "print (len(state_tree))\n",
    "state_tree[\"Texas\"] = \"Pecan\"\n",
    "state_tree[\"Alaska\"] = \"Spruce\"\n",
    "print (state_tree[\"Alaska\"])\n",
    "print (len(state_tree))\n",
    "print (state_tree)\n",
    "print (line_string)\n",
    "\n",
    "print (state_tree[\"Vermont\"])    # Vermont hasn't been defined\n",
    "print (len(state_tree))          # Note that length has increased just from the query\n",
    "print (state_tree)               # Note that contents have been expanded just from the query"
   ]
  },
  {
   "cell_type": "markdown",
   "metadata": {},
   "source": [
    "### Factory Generating Real and Variable Content for Default Value"
   ]
  },
  {
   "cell_type": "code",
   "execution_count": 3,
   "metadata": {
    "collapsed": false
   },
   "outputs": [
    {
     "name": "stdout",
     "output_type": "stream",
     "text": [
      "1\n",
      "Spruce\n",
      "3\n",
      "defaultdict(<function <lambda> at 0x0000000004C2ED90>, {'Texas': 'Pecan', 'Alaska': 'Spruce', 'Alabama': 'Pine'})\n",
      "#-----------------------------------------------------------------\n",
      "Oak\n",
      "4\n",
      "defaultdict(<function <lambda> at 0x0000000004C2ED90>, {'Texas': 'Pecan', 'Alaska': 'Spruce', 'Alabama': 'Pine', 'Georgia': 'Oak'})\n",
      "#-----------------------------------------------------------------\n",
      "1\n",
      "Spruce\n",
      "3\n",
      "defaultdict(<function day_factory at 0x0000000004AD5510>, {'Texas': 'Pecan', 'Alaska': 'Spruce', 'Alabama': 'Pine'})\n",
      "#-----------------------------------------------------------------\n",
      "Thursday\n",
      "4\n",
      "defaultdict(<function day_factory at 0x0000000004AD5510>, {'Texas': 'Pecan', 'Alaska': 'Spruce', 'Alabama': 'Pine', 'Georgia': 'Thursday'})\n"
     ]
    }
   ],
   "source": [
    "# A default dictionary for state trees, with \"Oak\" always returned for undefined states.\n",
    "\n",
    "state_tree = defaultdict(lambda: \"Oak\")   # Note lambda as \"factory\" function called to generate constant default\n",
    "\n",
    "state_tree[\"Alabama\"] = \"Pine\"\n",
    "print (len(state_tree))\n",
    "state_tree[\"Texas\"] = \"Pecan\"\n",
    "state_tree[\"Alaska\"] = \"Spruce\"\n",
    "print (state_tree[\"Alaska\"])\n",
    "print (len(state_tree))\n",
    "print (state_tree)\n",
    "print (line_string)\n",
    "\n",
    "print (state_tree[\"Georgia\"])    # Georgia hasn't been defined\n",
    "print (len(state_tree))          # Note that length has increased just from the query\n",
    "print (state_tree)               # Note that contents have been expanded just from the query\n",
    "\n",
    "print (line_string)\n",
    "\n",
    "# A default dictionary for state trees, with today's day of week returned for undefined states.\n",
    "# A default dictionary with a separate custom factory function with logic \n",
    "\n",
    "import datetime\n",
    "def day_factory():\n",
    "    day_string = [\"Monday\", \"Tuesday\", \"Wednesday\", \"Thursday\", \"Friday\", \"Saturday\", \"Sunday\"]\n",
    "    index = datetime.datetime.today().weekday()\n",
    "    return day_string[index]\n",
    "\n",
    "state_tree = defaultdict(day_factory)   # Note defined function as \"factory\" function called to generate custom default\n",
    "\n",
    "state_tree[\"Alabama\"] = \"Pine\"\n",
    "print (len(state_tree))\n",
    "state_tree[\"Texas\"] = \"Pecan\"\n",
    "state_tree[\"Alaska\"] = \"Spruce\"\n",
    "print (state_tree[\"Alaska\"])\n",
    "print (len(state_tree))\n",
    "print (state_tree)\n",
    "print (line_string)\n",
    "\n",
    "print (state_tree[\"Georgia\"])    # Georgia hasn't been defined\n",
    "print (len(state_tree))          # Note that length has increased just from the query\n",
    "print (state_tree)               # Note that contents have been expanded just from the query\n",
    "                                    # and note that new contents is today day of week.\n"
   ]
  },
  {
   "cell_type": "markdown",
   "metadata": {},
   "source": [
    "### Default Dictionary Techniques"
   ]
  },
  {
   "cell_type": "code",
   "execution_count": 4,
   "metadata": {
    "collapsed": false
   },
   "outputs": [
    {
     "name": "stdout",
     "output_type": "stream",
     "text": [
      "defaultdict(<class 'int'>, {'a': 2, 'h': 2, 'w': 1, 'k': 1})\n",
      "#-----------------------------------------------------------------\n",
      "defaultdict(<class 'list'>, {'Texas': ['Austin', 'Houston', 'Abilene', 'Dallas'], 'Kansas': ['Lawrence'], 'New York': ['Albany', 'Syracuse', 'Buffalo', 'Rochester'], 'California': ['Sacramento', 'Palo Alto', 'Atlanta']})\n",
      "Texas\n",
      "Austin\n",
      "Houston\n",
      "Abilene\n",
      "Dallas\n",
      "Kansas\n",
      "Lawrence\n",
      "New York\n",
      "Albany\n",
      "Syracuse\n",
      "Buffalo\n",
      "Rochester\n",
      "California\n",
      "Sacramento\n",
      "Palo Alto\n",
      "Atlanta\n"
     ]
    }
   ],
   "source": [
    "# Using default dictionary to count things where the identity of particpating things not known in advance.\n",
    "# This example counts words that start with the various letters of the alphabet.\n",
    "#      Note that factory generates zero, which must be incremented as default count.\n",
    "words= [\"Houston\", \"Austin\", \"Huston\", \"Walnut Creek\", \"Kansas City\", \"Atlanta\"]\n",
    "wordcount = defaultdict(int)\n",
    "for word in words:\n",
    "    firstletter = word[0].lower()\n",
    "    wordcount[firstletter] += 1                # Note iteration\n",
    "print (wordcount)\n",
    "\n",
    "print (line_string)\n",
    "city_list = [('Texas','Austin'), ('Texas','Houston'), ('Texas', 'Abilene'), ('New York','Albany'), ('New York', 'Syracuse'), \n",
    "             ('New York', 'Buffalo'), ('New York', 'Rochester'), ('Texas', 'Dallas'), ('California','Sacramento'), \n",
    "             ('Kansas', 'Lawrence'), ('California', 'Palo Alto'), ('California', 'Atlanta')]\n",
    "cities_in_state = defaultdict(list)\n",
    "for state, city in city_list:\n",
    "    cities_in_state[state].append(city)\n",
    "print (cities_in_state)    \n",
    "\n",
    "for state in cities_in_state:\n",
    "    print (state)\n",
    "    for city in cities_in_state[state]:\n",
    "        print (city)\n",
    "\n",
    "\n",
    "\n"
   ]
  },
  {
   "cell_type": "markdown",
   "metadata": {},
   "source": [
    "### Default Dictionary Mysteries\n",
    "To the apprentice, some notation doesn't apply to that which it first seems.  In this case, the append method which appears to be applied to the dictionary and default dictionary is actually applied to the list contained therein."
   ]
  },
  {
   "cell_type": "code",
   "execution_count": 1,
   "metadata": {
    "collapsed": false
   },
   "outputs": [
    {
     "name": "stdout",
     "output_type": "stream",
     "text": [
      "<class 'dict'>\n",
      "['__class__', '__contains__', '__delattr__', '__delitem__', '__dir__', '__doc__', '__eq__', '__format__', '__ge__', '__getattribute__', '__getitem__', '__gt__', '__hash__', '__init__', '__iter__', '__le__', '__len__', '__lt__', '__ne__', '__new__', '__reduce__', '__reduce_ex__', '__repr__', '__setattr__', '__setitem__', '__sizeof__', '__str__', '__subclasshook__', 'clear', 'copy', 'fromkeys', 'get', 'items', 'keys', 'pop', 'popitem', 'setdefault', 'update', 'values']\n",
      "#-----------------------------------------------------------------\n",
      "<class 'collections.defaultdict'>\n",
      "['__class__', '__contains__', '__copy__', '__delattr__', '__delitem__', '__dir__', '__doc__', '__eq__', '__format__', '__ge__', '__getattribute__', '__getitem__', '__gt__', '__hash__', '__init__', '__iter__', '__le__', '__len__', '__lt__', '__missing__', '__ne__', '__new__', '__reduce__', '__reduce_ex__', '__repr__', '__setattr__', '__setitem__', '__sizeof__', '__str__', '__subclasshook__', 'clear', 'copy', 'default_factory', 'fromkeys', 'get', 'items', 'keys', 'pop', 'popitem', 'setdefault', 'update', 'values']\n"
     ]
    }
   ],
   "source": [
    "# Why does append work when it doesn't seem to be documented?\n",
    "wordclean = [\"a\", \"am\", \"all\", \"as\", \"at\", \"ma\", \"saw\", \"was\", \"bat\", \"tab\"]\n",
    "empty_dict = dict()\n",
    "print (type(empty_dict))\n",
    "print (dir(empty_dict))       # Note that there is no append method.\n",
    "print (\"#\" + 65*'-')\n",
    "\n",
    "test_list_in_dict = dict()\n",
    "\n",
    "test_list_in_dict = {\"Texas\":[\"Austin\", \"Houston\", \"Abilene\"],\n",
    "    \"Kansas\":[\"Riley\", \"Leavenworth\"]\n",
    "    }\n",
    "\n",
    "test_list_in_dict[\"Kansas\"].append(\"Olathe\") #The append method appears for the dict but is actually for contained list.\n",
    "\n",
    "def signature(word):\n",
    "    return ''.join(sorted(word))\n",
    "import collections\n",
    "words_in_sig_ddict = collections.defaultdict(list)\n",
    "print (type(words_in_sig_ddict))\n",
    "print (dir(words_in_sig_ddict))       # Note that there is no append method.\n",
    "for word in wordclean:\n",
    "    words_in_sig_ddict[signature(word)].append(word)\n",
    "\n"
   ]
  },
  {
   "cell_type": "markdown",
   "metadata": {},
   "source": [
    "## Ordered Dictionary\n",
    "<a id=OrderedDict></a>\n",
    "Ordered dictionaries are just like regular dictionaries but they remember the order that items were inserted. When iterating over an ordered dictionary, the items are returned in the order their keys were first added."
   ]
  },
  {
   "cell_type": "markdown",
   "metadata": {},
   "source": [
    "### Getting Started\n"
   ]
  },
  {
   "cell_type": "code",
   "execution_count": 7,
   "metadata": {
    "collapsed": true
   },
   "outputs": [],
   "source": [
    "import datetime\n",
    "import string\n",
    "import csv\n",
    "from collections import OrderedDict"
   ]
  },
  {
   "cell_type": "markdown",
   "metadata": {},
   "source": [
    "### Ordered Dictionary Generation"
   ]
  },
  {
   "cell_type": "code",
   "execution_count": 11,
   "metadata": {
    "collapsed": false
   },
   "outputs": [
    {
     "name": "stdout",
     "output_type": "stream",
     "text": [
      "<class 'dict'>\n",
      "<class 'collections.OrderedDict'>\n",
      "OrderedDict([('apple', 4), ('banana', 3), ('orange', 2), ('pear', 1)])\n",
      "<class 'collections.OrderedDict'>\n",
      "OrderedDict([('pear', 1), ('orange', 2), ('banana', 3), ('apple', 4)])\n",
      "<class 'collections.OrderedDict'>\n",
      "OrderedDict([('pear', 1), ('apple', 4), ('orange', 2), ('banana', 3)])\n"
     ]
    }
   ],
   "source": [
    "# regular unsorted dictionary\n",
    "d = {'banana': 3, 'apple': 4, 'pear': 1, 'orange': 2}\n",
    "print (type(d))\n",
    "\n",
    "# dictionary sorted by key\n",
    "ds1 = OrderedDict(sorted(d.items(), key=lambda t: t[0]))\n",
    "print (type(ds1))\n",
    "print (ds1)\n",
    "\n",
    "# dictionary sorted by value\n",
    "ds2 = OrderedDict(sorted(d.items(), key=lambda t: t[1]))\n",
    "OrderedDict([('pear', 1), ('orange', 2), ('banana', 3), ('apple', 4)])\n",
    "print (type(ds2))\n",
    "print (ds2)\n",
    "\n",
    "# dictionary sorted by length of the key string\n",
    "ds3 =  OrderedDict(sorted(d.items(), key=lambda t: len(t[0])))\n",
    "print (type(ds3))\n",
    "print (ds3)"
   ]
  },
  {
   "cell_type": "markdown",
   "metadata": {},
   "source": [
    "### Test Reading Lines of Shortened File Into Ordered Dict\n",
    "Using syntax provided from:\n",
    "\n",
    "https://docs.python.org/3/library/csv.html#csv.DictReader"
   ]
  },
  {
   "cell_type": "code",
   "execution_count": 4,
   "metadata": {
    "collapsed": false
   },
   "outputs": [
    {
     "name": "stdout",
     "output_type": "stream",
     "text": [
      "type of row:  <class 'dict'>\n",
      "19500501 69 61\n",
      "type of row:  <class 'dict'>\n",
      "19500502 84 64\n",
      "type of row:  <class 'dict'>\n",
      "19500503 87 72\n",
      "type of row:  <class 'dict'>\n",
      "19500504 89 72\n",
      "type of row:  <class 'dict'>\n",
      "19500505 76 68\n",
      "<class 'csv.DictReader'>\n",
      "<class 'dict'>\n",
      "<class 'dict'>\n",
      "{'TMIN': '68', 'DATE': '19500505', 'STATION': 'GHCND:USW00013958', 'TMAX': '76', 'STATION_NAME': 'AUSTIN CAMP MABRY TX US'}\n",
      "5\n"
     ]
    }
   ],
   "source": [
    "# Create empty dict_of_ordered_dicts\n",
    "temp_dood = dict()\n",
    "\n",
    "# Read CSV file line by line and populate\n",
    "with open('test_data_1.csv') as csvfile:\n",
    "    reader = csv.DictReader(csvfile)\n",
    "    for row in reader:\n",
    "        print ('type of row: ', type(row))\n",
    "        print(row['DATE'], row['TMAX'], row['TMIN'])\n",
    "        key = row['DATE']\n",
    "        temp_dood[row['DATE']] = row\n",
    "        # temp_dood(row['DATE']) = row\n",
    "    print (type(reader))\n",
    "    print (type(row))\n",
    "    print (type(temp_dood))\n",
    "    print (row)\n",
    "    # print (temp_dood)\n",
    "    print (len(temp_dood.keys())) "
   ]
  },
  {
   "cell_type": "markdown",
   "metadata": {},
   "source": [
    "## String Formatting\n",
    "<a id=\"StringFormatting\"></a>\n",
    "\n",
    "Python V3 string formatting uses the string format method.  Overall syntax is:\n",
    "\n",
    "    string.format(arguments)\n",
    "\n",
    "General syntax looks like:\n",
    "\n",
    "    'Name is {fieldname1!s:_<12} {fieldname2!s:_<18}'.format(arg1, keyword=arg2) \n",
    "\n",
    "The string contains literal text and __replacement fields__ delimited by braces {}.  The formatting language is contained within the replacement fields.  The full syntax is structured as follows:\n",
    "\n",
    "The __replacement field__ {} may contain, in sequence:\n",
    "\n",
    "    An optional field name\n",
    "    An optional conversion indicator, preceded by !\n",
    "    An optional format specification, preceded by :\n",
    "\n",
    "The __conversion indicator__ ! may contain one letter to indicate the type of textual conversion:\n",
    "\n",
    "    argument!s calls str() on the argument first, to convert to string.\n",
    "    argument!r calls repr() on the argument first, to conver to text representation\n",
    "    argument!a calls ascii() on the argument first, to convert to ascii representation\n",
    "\n",
    "The __format specifier__ : may contain several specific characters controlling formatting of the final string.  The format specificaion \"mini language\" is described further below.\n",
    "\n",
    "\n",
    "\n",
    "\n",
    "___\n",
    "\n",
    "The __format specifier__ syntax is:\n",
    "\n",
    "[[fill]align][sign][#][0][width][grouping_option][.precision][type]\n",
    "\n",
    "    Fill:  Any character\n",
    "    Align: - < > ^ = - Left, right, and center alignment, and = for numeric padding after the sign\n",
    "    Sign:   + - <space> - \n",
    "    #:    Causes \"alternate form\" to be used for numeric conversions\n",
    "    0:    Enables sign-aware zero padding for numeric data\n",
    "    Width:    Integer providing width of formatted field.\n",
    "    Grouping Option\n",
    "    Precision:   Integer providing sig figures after decimal for floating point, or truncation for strings.\n",
    "    Type:  Single letter indicating presentation type, primarily for numeric data types.\n",
    "___\n",
    "\n",
    "For more information:\n",
    "\n",
    "https://docs.python.org/3/library/string.html\n",
    "\n",
    "https://pyformat.info/\n",
    "\n",
    "https://www.digitalocean.com/community/tutorials/how-to-use-string-formatters-in-python-3\n",
    "\n",
    "https://github.com/ulope/pyformat.info"
   ]
  },
  {
   "cell_type": "markdown",
   "metadata": {},
   "source": [
    "### Basic Formatting\n",
    "Basic formatting is concerned with placing the replacement fields within the main text string, \n",
    "and clearly assigning argumnets for each replacement field."
   ]
  },
  {
   "cell_type": "code",
   "execution_count": 2,
   "metadata": {
    "collapsed": false
   },
   "outputs": [
    {
     "name": "stdout",
     "output_type": "stream",
     "text": [
      "uno - dos - tres\n",
      "1 2 3\n",
      "quatro - tres - dos\n",
      "4 4 4\n",
      "uno - dos - tres\n",
      "Message for you, sir!\n",
      "Message for you, sir!\n",
      "5 25 125\n"
     ]
    }
   ],
   "source": [
    "# Basic Formatting\n",
    "\n",
    "    \n",
    "    # Arguments as individual literals\n",
    "    #   Individual relative positional\n",
    "print ('{} - {} - {}'.format('uno', 'dos', 'tres'))\n",
    "\n",
    "print ('{} {} {}'.format(1,2,3))\n",
    "\n",
    "    #   Indexed positional - Position index starts at zero!\n",
    "print ('{3} - {2} - {1}'.format('uno', 'dos', 'tres', 'quatro'))\n",
    "\n",
    "print ('{3} {3} {3}'.format(1,2,3,4))\n",
    "\n",
    "    # Keywords as arguments to name replacement fields\n",
    "print ('{un} - {duo} - {tre}'.format(un='uno', duo='dos', tre='tres', quat='quatro'))    \n",
    "\n",
    "    # Arguments as variables\n",
    "who = 'you'    \n",
    "print ('Message for {}, sir!'.format(who))    \n",
    "\n",
    "    # String and Arguments as variables\n",
    "string = 'Message for {}, sir!'\n",
    "who = 'you'  \n",
    "print(string.format(who))\n",
    "\n",
    "    # Calculations as Arguments\n",
    "i = 5\n",
    "print(\"{} {} {}\".format(i, i*i, i*i*i))    \n",
    "    "
   ]
  },
  {
   "cell_type": "markdown",
   "metadata": {},
   "source": [
    "### Padding and Aligning\n",
    "Padding and aligning uses the format specification language within the replacement field. The colon indicates the start of the format specification langauge within the replacement field.  Padding and aligning use the fill and align symbols."
   ]
  },
  {
   "cell_type": "code",
   "execution_count": 61,
   "metadata": {
    "collapsed": false
   },
   "outputs": [
    {
     "name": "stdout",
     "output_type": "stream",
     "text": [
      " 0123456789012\n",
      "|Message     |\n",
      " 0123456789012\n",
      "|Message     |\n",
      " 0123456789012\n",
      "|     Message|\n",
      " 0123456789012\n",
      "|Message_____|\n",
      " 0123456789012\n",
      "|Message-----|\n",
      " 0123456789012\n",
      "|  Message   |\n",
      "#-----------------------------------------------------------------\n",
      "\n",
      "  1    1     1\n",
      "  2    4     8\n",
      "  3    9    27\n",
      "  4   16    64\n",
      "  5   25   125\n",
      "  6   36   216\n",
      "  7   49   343\n",
      "  8   64   512\n",
      "  9   81   729\n",
      " 10  100  1000\n",
      " 11  121  1331\n"
     ]
    }
   ],
   "source": [
    "# Padding and Aligning\n",
    "#   Left Alignment\n",
    "print (' 0123456789012')\n",
    "print ('|{:<12}|'.format('Message'))\n",
    "\n",
    "#   Left Alignment - Default\n",
    "print (' 0123456789012')\n",
    "print ('|{:12}|'.format('Message'))\n",
    "\n",
    "#   Right Alignment\n",
    "print (' 0123456789012')\n",
    "print ('|{:>12}|'.format('Message'))\n",
    "\n",
    "#   Left Alignment with Padding with underscore\n",
    "print (' 0123456789012')\n",
    "print ('|{:_<12}|'.format('Message'))\n",
    "\n",
    "#   Left Alignment with Padding with hyphen\n",
    "print (' 0123456789012')\n",
    "print ('|{:-<12}|'.format('Message'))\n",
    "\n",
    "#   Center Alignment  (Note extra padding space on right side for uneven character count match)\n",
    "print (' 0123456789012')\n",
    "print ('|{:^12}|'.format('Message'))\n",
    "print (\"#\" + 65*'-')\n",
    "\n",
    "#   Padding and aligning for clarity\n",
    "print ()\n",
    "for i in range(1,12):\n",
    "    print(\"{:3d} {:4d} {:5d}\".format(i, i*i, i*i*i))"
   ]
  },
  {
   "cell_type": "markdown",
   "metadata": {},
   "source": [
    "### Truncating and Padding\n",
    "Truncating and padding uses the format specification language within the replacement field. The colon indicates the start of the format specification langauge within the replacement field.  Truncating uses the width and precision controls."
   ]
  },
  {
   "cell_type": "code",
   "execution_count": 32,
   "metadata": {
    "collapsed": false
   },
   "outputs": [
    {
     "name": "stdout",
     "output_type": "stream",
     "text": [
      " 0123456789012\n",
      "|Mess        |\n",
      " 0123456789012\n",
      "|        Mess|\n",
      " 0123456789012\n",
      "|________Mess|\n",
      " 0123456789012\n",
      "|    Mess    |\n",
      " 0123456789012\n",
      "|____Mess____|\n"
     ]
    }
   ],
   "source": [
    "#   Truncating String with Default Left Alignment\n",
    "print (' 0123456789012')\n",
    "print ('|{:12.4}|'.format('Message'))\n",
    "\n",
    "#   Truncating String with Right Alignment\n",
    "print (' 0123456789012')\n",
    "print ('|{:>12.4}|'.format('Message'))\n",
    "\n",
    "#   Truncating String with Right Alignment and Padding\n",
    "print (' 0123456789012')\n",
    "print ('|{:_>12.4}|'.format('Message'))\n",
    "\n",
    "#   Truncating String with Center Alignment\n",
    "print (' 0123456789012')\n",
    "print ('|{:^12.4}|'.format('Message'))\n",
    "\n",
    "#   Truncating String with Center Alignment and Padding\n",
    "print (' 0123456789012')\n",
    "print ('|{:_^12.4}|'.format('Message'))"
   ]
  },
  {
   "cell_type": "markdown",
   "metadata": {},
   "source": [
    "### Numbers\n",
    "Formatting numbers uses the format specification language within the replacement field. The colon indicates the start of the format specification langauge within the replacement field.  "
   ]
  },
  {
   "cell_type": "code",
   "execution_count": 58,
   "metadata": {
    "collapsed": false
   },
   "outputs": [
    {
     "name": "stdout",
     "output_type": "stream",
     "text": [
      "|512|\n",
      "|00512|\n",
      "| +512|\n",
      "|+0512|\n",
      "|512    |\n",
      "|____512|\n",
      "|    -12|\n",
      "|-    12|\n",
      "|     12|\n",
      "|+    12|\n",
      "|3.141593|\n",
      "| 3.141592654|\n",
      "|____3.141592654|\n",
      "|  3.141592654  |\n",
      "|003.14|\n"
     ]
    }
   ],
   "source": [
    "# Integers (Decimal)\n",
    "print('|{:d}|'.format(512))        # d for Integer\n",
    "\n",
    "print('|{:05d}|'.format(512))        # Zero is special character for sign-aware numberic padding\n",
    "\n",
    "print('|{:+5d}|'.format(512))        # + mandates inclusion of sign\n",
    "\n",
    "print('|{:+05d}|'.format(512))        #\n",
    "\n",
    "print('|{:<7d}|'.format(512))      # 7 for Width, < for Alignment, d for Integer\n",
    "\n",
    "print('|{:_>7d}|'.format(512))\n",
    "\n",
    "print('|{: 7d}|'.format(-12))     # Space for disappearing floating leading sign\n",
    "\n",
    "print('|{:=7d}|'.format(-12))     # = for disappearing leading sign (not floating)\n",
    "\n",
    "print('|{:=7d}|'.format(12))     # =  for disappearing leading sign (not floating)\n",
    "\n",
    "print('|{:=+7d}|'.format(12))     # =+ for mandated leading sign (not floating)\n",
    "\n",
    "# Floating Point\n",
    "print('|{:f}|'.format(3.141592653589793)) # f for Floating Point with default precision of 6\n",
    "\n",
    "print('|{:12.9f}|'.format(3.141592653589793)) # f for Floating Point, with width of 12 and precision of 9\n",
    "\n",
    "print('|{:_>15.9f}|'.format(3.141592653589793))  # With underscore for fill and with alignment\n",
    "\n",
    "print('|{:^15.9f}|'.format(3.141592653589793))\n",
    "\n",
    "print('|{:06.2f}|'.format(3.141592653589793))  # Zero is special character for sign-aware numberic padding"
   ]
  },
  {
   "cell_type": "markdown",
   "metadata": {},
   "source": [
    "### Numberic Conversions\n",
    "Formatting with numeric conversions uses the format specification language within the replacement field. The colon indicates the start of the format specification langauge within the replacement field. The final Type character specifies the numeric conversion. "
   ]
  },
  {
   "cell_type": "code",
   "execution_count": 62,
   "metadata": {
    "collapsed": false
   },
   "outputs": [
    {
     "name": "stdout",
     "output_type": "stream",
     "text": [
      "|1000000000|\n",
      "|1000|\n",
      "|1e240|\n",
      "|1E240|\n"
     ]
    }
   ],
   "source": [
    "print('|{:b}|'.format(512))        # Binary\n",
    "print('|{:o}|'.format(512))        # Octal\n",
    "print('|{:x}|'.format(123456))        # Hexadecimal with lower case\n",
    "print('|{:X}|'.format(123456))        # Hexadecimal with upper case\n"
   ]
  },
  {
   "cell_type": "markdown",
   "metadata": {},
   "source": [
    "### DateTime and Objects Controlling Their Own Rendering\n",
    "This example works through the use of the __format__() magic method. \n",
    "Needs more research!"
   ]
  },
  {
   "cell_type": "code",
   "execution_count": 73,
   "metadata": {
    "collapsed": false
   },
   "outputs": [
    {
     "name": "stdout",
     "output_type": "stream",
     "text": [
      "2001-10-10 11:12\n",
      "2001-10-10_11:12\n",
      "<class 'datetime.datetime'>\n",
      "2001-10-10 11:12:00\n"
     ]
    }
   ],
   "source": [
    "from datetime import datetime\n",
    "print ('{:%Y-%m-%d %H:%M}'.format(datetime(2001, 10, 10, 11, 12)))\n",
    "\n",
    "print ('{:%Y-%m-%d_%H:%M}'.format(datetime(2001, 10, 10, 11, 12)))\n",
    "\n",
    "print (type(datetime(2001, 10, 10, 11, 12)))\n",
    "print (datetime(2001, 10, 10, 11, 12))\n"
   ]
  },
  {
   "cell_type": "markdown",
   "metadata": {},
   "source": [
    "### Formatting Dictionaries and Lists Using Named Placeholders\n",
    "\n",
    "The use of \"double asterisk kwargs\" enables passing a dictionary to the format method.\n",
    "\n",
    "Double asterisk kwargs (\"star star data\" in the first example below) is the mechanism for passing a dictionary to a function expecting a parameter.)  (\"Dig in this dictionary and find it for yourself.\")\n",
    "\n",
    "https://www.digitalocean.com/community/tutorials/how-to-use-args-and-kwargs-in-python-3"
   ]
  },
  {
   "cell_type": "code",
   "execution_count": 76,
   "metadata": {
    "collapsed": false
   },
   "outputs": [
    {
     "name": "stdout",
     "output_type": "stream",
     "text": [
      "George Foreman!\n",
      "32 64\n"
     ]
    }
   ],
   "source": [
    "# Formatting contents from a dictionary\n",
    "data = {'first': 'George', 'last': 'Foreman!'}\n",
    "print ('{first} {last}'.format(**data))\n",
    "\n",
    "# Formatting contents from a list\n",
    "data = [2, 4, 8, 16, 32, 64]\n",
    "print ('{d[4]} {d[5]}'.format(d=data))"
   ]
  },
  {
   "cell_type": "markdown",
   "metadata": {},
   "source": [
    "### Formatting Nested Data Structures\n",
    "This capabilitiy supports accessing containers that support __getitem__ and __getattribute__, such as dictionaries, tuples, and lists:"
   ]
  },
  {
   "cell_type": "code",
   "execution_count": 77,
   "metadata": {
    "collapsed": false
   },
   "outputs": [
    {
     "name": "stdout",
     "output_type": "stream",
     "text": [
      "George Foreman\n"
     ]
    }
   ],
   "source": [
    "person = {'first': 'George', 'last': 'Foreman'}\n",
    "print ('{p[first]} {p[last]}'.format(p=person))"
   ]
  },
  {
   "cell_type": "markdown",
   "metadata": {},
   "source": [
    "### Formatting with Classes and Objects"
   ]
  },
  {
   "cell_type": "code",
   "execution_count": null,
   "metadata": {
    "collapsed": true
   },
   "outputs": [],
   "source": []
  },
  {
   "cell_type": "markdown",
   "metadata": {},
   "source": [
    "## Logging\n",
    "<a id=\"Logging\"></a>\n",
    "\n",
    "There is a great deal of complex, confusing (and somewhat misleading) information on the Web about Python logging.  It is important to start with the big picture before getting lost in the details.\n",
    "\n",
    "Here is the best overview I have found.\n",
    "\n",
    "http://pieces.openpolitics.com/2012/04/python-logging-best-practices/\n",
    "\n",
    "Daniel Miller advises:  \n",
    "    \"Most of the time library and framework authors should only use Logger objects. Get a logger and use it to publish log\n",
    "    events. That is all. Do not set the logging level. Do not setup formatters or handlers. Otherwise go directly to jail; do\n",
    "    not pass Go, do not collect $200. Oh, and fix your logging code while you’re sitting in jail.\"\n",
    "\n",
    "### Simplest Logging\n",
    "\n",
    "From:\n",
    "https://docs.python.org/3/howto/logging.html"
   ]
  },
  {
   "cell_type": "code",
   "execution_count": 2,
   "metadata": {
    "collapsed": false
   },
   "outputs": [],
   "source": [
    "# Setting up simplest logging\n",
    "import logging\n",
    "logging.basicConfig(filename='hello1.log',level=logging.DEBUG)\n",
    "\n",
    "# Using simplest logging\n",
    "logging.debug('Engine thermostat set to AUTOMATIC')\n",
    "logging.info('Engine temperature: 450F degrees')\n",
    "logging.warning('Engine temperature high.  Shutdown started')\n",
    "logging.error('Engine failure!!')\n",
    "logging.critical('CCCCRASHING NOW')\n"
   ]
  },
  {
   "cell_type": "markdown",
   "metadata": {},
   "source": [
    "### Simplest Logging with Interface Function\n",
    "\n",
    "Here is a simple approach, using a custom function as an interface, so that we're prepared to make changes to the underlying logging configuration and approach without having to mess with application code much."
   ]
  },
  {
   "cell_type": "code",
   "execution_count": 5,
   "metadata": {
    "collapsed": false
   },
   "outputs": [
    {
     "name": "stdout",
     "output_type": "stream",
     "text": [
      "#----------------------------------------\n",
      "#----------------------------------------\n"
     ]
    }
   ],
   "source": [
    "import datetime\n",
    "import logging\n",
    "\n",
    "# Defining timestamp function to support timestamping in interface function\n",
    "def f_dash_timestamp():\n",
    "    \"Returns a string with the current date and time for log entries.\"\n",
    "    date_string = str(datetime.datetime.now().strftime('%m_%d_%Y_%H:%M:%S'))    \n",
    "    return date_string    \n",
    "\n",
    "# Defining interface function\n",
    "def s_logentry(string, level='Info'):\n",
    "    \"Logs passed strings to the logging system, according to user requested logging level.\"\n",
    "    # Add timestamp to message string in case logging system is not providing time stamps.\n",
    "    log_string = f_dash_timestamp() + ' | ' + string\n",
    "    # Add blank padding to align timestamps and messages in log.\n",
    "    log_level = level.capitalize()\n",
    "    if log_level in ('C', 'CRIT', 'CRITICAL'):\n",
    "        log_string = ' ' + f_dash_timestamp() + ' | ' + string\n",
    "        logging.critical(log_string)\n",
    "    elif log_level in ('E', 'ERR', 'ERROR'):\n",
    "        log_string = '    ' + f_dash_timestamp() + ' | ' + string\n",
    "        logging.error(log_string)\n",
    "    elif log_level in ('W', 'WAR', 'WARN', 'WARNING'):\n",
    "        log_string = '  ' + f_dash_timestamp() + ' | ' + string\n",
    "        logging.warning(log_string)\n",
    "    elif log_level in ('D', 'DEB', 'DEBUG'):\n",
    "        log_string = '    ' + f_dash_timestamp() + ' | ' + string\n",
    "        logging.debug(log_string)\n",
    "    else:\n",
    "        log_string = '     ' + f_dash_timestamp() + ' | ' + string\n",
    "        logging.info(log_string)\n",
    "    return    \n",
    "\n",
    "# Setting up simplest logging\n",
    "logging.basicConfig(filename='hello2.log',level=logging.DEBUG)\n",
    "\n",
    "print (\"#\" + 40 * \"-\")\n",
    "# Using logging interface function\n",
    "s_logentry('Engine thermostat set to AUTOMATIC', 'D')\n",
    "s_logentry('Engine temperature: 450F degrees')\n",
    "s_logentry('Engine temperature high.  Shutdown started', 'W')\n",
    "s_logentry('Engine failure!!', 'E')\n",
    "s_logentry('CRASHING NOW', 'C')  \n",
    "print (\"#\" + 40 * \"-\")"
   ]
  },
  {
   "cell_type": "markdown",
   "metadata": {},
   "source": [
    "## Web Crawling\n",
    "\n"
   ]
  },
  {
   "cell_type": "markdown",
   "metadata": {},
   "source": [
    "### FTP"
   ]
  },
  {
   "cell_type": "code",
   "execution_count": 1,
   "metadata": {
    "collapsed": false
   },
   "outputs": [
    {
     "data": {
      "text/plain": [
       "('ghcnd_stations.txt', <email.message.Message at 0x4c12400>)"
      ]
     },
     "execution_count": 1,
     "metadata": {},
     "output_type": "execute_result"
    }
   ],
   "source": [
    "import urllib.request\n",
    "urllib.request.urlretrieve('ftp://ftp.ncdc.noaa.gov/pub/data/ghcn/daily/ghcnd-stations.txt','ghcnd_stations.txt')"
   ]
  },
  {
   "cell_type": "markdown",
   "metadata": {},
   "source": [
    "## Assertions for Debugging\n",
    "<a id=\"Assertions\"></a>\n",
    "Assertions are sanity checking condition testing statements placed in the code to make sure certain data contents are conditions are what is expected.  If a sanity check fails, the code is halted.  These are simple IF statements with a new name, so that they can be recognized as debugging tools and not functional logic when found in the code.  Certain \"compile time\" settings will cause their deactivation or removal from optimized code.\n",
    "\n",
    "Assertions are for debugging and expectation testing.  Exceptions are for events, errors, user issues, etc."
   ]
  },
  {
   "cell_type": "code",
   "execution_count": 4,
   "metadata": {
    "collapsed": false
   },
   "outputs": [
    {
     "ename": "AssertionError",
     "evalue": "Joiner off top dead center.",
     "output_type": "error",
     "traceback": [
      "\u001b[0;31m---------------------------------------------------------------------------\u001b[0m",
      "\u001b[0;31mAssertionError\u001b[0m                            Traceback (most recent call last)",
      "\u001b[0;32m<ipython-input-4-2dd6fa905825>\u001b[0m in \u001b[0;36m<module>\u001b[0;34m()\u001b[0m\n\u001b[1;32m      2\u001b[0m \u001b[0mj\u001b[0m \u001b[1;33m=\u001b[0m \u001b[1;36m1\u001b[0m\u001b[1;33m\u001b[0m\u001b[0m\n\u001b[1;32m      3\u001b[0m \u001b[1;32massert\u001b[0m \u001b[0mi\u001b[0m\u001b[1;33m==\u001b[0m\u001b[1;36m0\u001b[0m\u001b[1;33m,\u001b[0m \u001b[1;34m\"Integer off top dead center.\"\u001b[0m   \u001b[1;31m# Note double equal sign.  These are conditionals, like in IF statement.\u001b[0m\u001b[1;33m\u001b[0m\u001b[0m\n\u001b[0;32m----> 4\u001b[0;31m \u001b[1;32massert\u001b[0m \u001b[0mj\u001b[0m\u001b[1;33m==\u001b[0m\u001b[1;36m0\u001b[0m\u001b[1;33m,\u001b[0m \u001b[1;34m\"Joiner off top dead center.\"\u001b[0m\u001b[1;33m\u001b[0m\u001b[0m\n\u001b[0m",
      "\u001b[0;31mAssertionError\u001b[0m: Joiner off top dead center."
     ]
    }
   ],
   "source": [
    "i = 0\n",
    "j = 1\n",
    "assert i==0, \"Integer off top dead center.\"   # Note double equal sign.  These are conditionals, like in IF statement.\n",
    "assert j==0, \"Joiner off top dead center.\""
   ]
  },
  {
   "cell_type": "markdown",
   "metadata": {},
   "source": [
    "## Appendix\n",
    "<a id=\"Appendix\"></a>\n",
    "\n",
    "Welcome!  This notebook (and its sisters) was developed for me to practice some Python and data science fundamentals, and for me to explore and notate some interesting tricks, quirks, and lessons learned the hard way.\n",
    "\n",
    "Because I'm a naval history buff, I have occasionally used US naval ship information as practice data.  US naval ships each have a unique identifying \"hull number,\" making it is easy to build many common Python data structures around ship characteristics.  More information about US \"hull numbers\" is available from:\n",
    "\n",
    "http://www.navweaps.com/index_tech/index_ships_list.php\n",
    "\n",
    "### Tell Me I'm an Idiot!\n",
    "I welcome coaching, constructive criticism, and insight into more efficient, effective, or Pythonic ways of accomplishing results!\n",
    "\n",
    "Sincerely,\n",
    "\n",
    "*Carl Gusler*\n",
    "\n",
    "Austin, Texas\n",
    "\n",
    "carl.gusler@gmail.com"
   ]
  },
  {
   "cell_type": "code",
   "execution_count": null,
   "metadata": {
    "collapsed": true
   },
   "outputs": [],
   "source": []
  }
 ],
 "metadata": {
  "anaconda-cloud": {},
  "kernelspec": {
   "display_name": "Python [conda root]",
   "language": "python",
   "name": "conda-root-py"
  },
  "language_info": {
   "codemirror_mode": {
    "name": "ipython",
    "version": 3
   },
   "file_extension": ".py",
   "mimetype": "text/x-python",
   "name": "python",
   "nbconvert_exporter": "python",
   "pygments_lexer": "ipython3",
   "version": "3.5.2"
  }
 },
 "nbformat": 4,
 "nbformat_minor": 1
}
