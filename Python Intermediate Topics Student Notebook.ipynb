{
 "cells": [
  {
   "cell_type": "markdown",
   "metadata": {},
   "source": [
    "# Python Student Notebook for Intermediate Topics\n",
    "\n",
    "A compendium of intermediate-level topics, illustrative examples, best practices, tips and tricks.\n",
    "\n",
    "## Table of Contents\n",
    "\n",
    "+ [Default Dictionary](#DefaultDict)\n",
    "+ String Formatting\n",
    "+ Logging\n",
    "+ [Appendix](#Appendix)\n"
   ]
  },
  {
   "cell_type": "code",
   "execution_count": null,
   "metadata": {
    "collapsed": true
   },
   "outputs": [],
   "source": []
  },
  {
   "cell_type": "markdown",
   "metadata": {},
   "source": [
    "## Default Dictionary\n",
    "<a id=DefaultDict</a>\n",
    "Default dictionaries are extensions of the dict object class.  Default dictionaries have all the characteristics of regular dictionaries, except they do not raise KeyError.  Default dictionaries will populate a new entry with a default when a reference is made to a non-existent entry.\n",
    "\n",
    "Default dictionaries are one of about a dozen data structures available from the collections module.\n",
    "\n",
    "https://docs.python.org/3/library/collections.html\n",
    "\n",
    "https://www.accelebrate.com/blog/using-defaultdict-python/\n",
    "\n",
    "https://pymotw.com/2/collections/defaultdict.html\n",
    "\n",
    "https://alexlouden.com/posts/2015-defaultdict-in-python.html"
   ]
  },
  {
   "cell_type": "markdown",
   "metadata": {},
   "source": [
    "### Getting Started\n",
    "We will need a \"factory function\" to populate the default values.  Some use cases will indicate the need for a factory that generates a \"blank\" or \"empty\" value."
   ]
  },
  {
   "cell_type": "code",
   "execution_count": 18,
   "metadata": {
    "collapsed": false
   },
   "outputs": [
    {
     "name": "stdout",
     "output_type": "stream",
     "text": [
      "0\n",
      "[]\n",
      "\n",
      "0.0\n",
      "set()\n",
      "{}\n"
     ]
    }
   ],
   "source": [
    "from collections import defaultdict\n",
    "\n",
    "# Useful \"factory\" functions to provide \"empty\" starting values.\n",
    "print (int())\n",
    "print (list())\n",
    "print (str())\n",
    "print (float())\n",
    "print (set())\n",
    "print (dict())\n",
    "\n",
    "# Some favorite strings for organizing output\n",
    "bar_string = \"#\" + 65*'='   # Multipled string can be multiple character\n",
    "line_string = \"#\" + 65*'-' # Multipled string can be multiple character"
   ]
  },
  {
   "cell_type": "markdown",
   "metadata": {},
   "source": [
    "### Default Dictionary Generation"
   ]
  },
  {
   "cell_type": "code",
   "execution_count": 17,
   "metadata": {
    "collapsed": false
   },
   "outputs": [
    {
     "name": "stdout",
     "output_type": "stream",
     "text": [
      "0\n",
      "[]\n",
      "\n",
      "0.0\n",
      "set()\n",
      "{}\n",
      "#-----------------------------------------------------------------\n",
      "['__class__', '__contains__', '__delattr__', '__delitem__', '__dir__', '__doc__', '__eq__', '__format__', '__ge__', '__getattribute__', '__getitem__', '__gt__', '__hash__', '__init__', '__iter__', '__le__', '__len__', '__lt__', '__ne__', '__new__', '__reduce__', '__reduce_ex__', '__repr__', '__setattr__', '__setitem__', '__sizeof__', '__str__', '__subclasshook__', 'clear', 'copy', 'fromkeys', 'get', 'items', 'keys', 'pop', 'popitem', 'setdefault', 'update', 'values']\n",
      "<class 'dict'>\n",
      "#-----------------------------------------------------------------\n",
      "['__class__', '__contains__', '__copy__', '__delattr__', '__delitem__', '__dir__', '__doc__', '__eq__', '__format__', '__ge__', '__getattribute__', '__getitem__', '__gt__', '__hash__', '__init__', '__iter__', '__le__', '__len__', '__lt__', '__missing__', '__ne__', '__new__', '__reduce__', '__reduce_ex__', '__repr__', '__setattr__', '__setitem__', '__sizeof__', '__str__', '__subclasshook__', 'clear', 'copy', 'default_factory', 'fromkeys', 'get', 'items', 'keys', 'pop', 'popitem', 'setdefault', 'update', 'values']\n",
      "<class 'collections.defaultdict'>\n",
      "1\n",
      "Spruce\n",
      "3\n",
      "defaultdict(<class 'str'>, {'Texas': 'Pecan', 'Alaska': 'Spruce', 'Alabama': 'Pine'})\n",
      "#-----------------------------------------------------------------\n",
      "\n",
      "4\n",
      "defaultdict(<class 'str'>, {'Texas': 'Pecan', 'Alaska': 'Spruce', 'Vermont': '', 'Alabama': 'Pine'})\n"
     ]
    }
   ],
   "source": [
    "# Generating a normal dictionary\n",
    "a = {\"Alabama\":\"Pine\", \"Texas\":\"Pecan\", \"Alaska\":\"Spruce\"}\n",
    "print ( dir(a))\n",
    "print ( type(a))\n",
    "\n",
    "print (line_string)\n",
    "# A default dictionary for state trees, with blank returned for undefined states.\n",
    "state_tree = defaultdict(str)   # Note str as \"factory\" function called with no parentheses\n",
    "\n",
    "print ( dir(state_tree))     # A few new initial methods\n",
    "print ( type(state_tree))\n",
    "\n",
    "state_tree[\"Alabama\"] = \"Pine\"\n",
    "print (len(state_tree))\n",
    "state_tree[\"Texas\"] = \"Pecan\"\n",
    "state_tree[\"Alaska\"] = \"Spruce\"\n",
    "print (state_tree[\"Alaska\"])\n",
    "print (len(state_tree))\n",
    "print (state_tree)\n",
    "print (line_string)\n",
    "\n",
    "print (state_tree[\"Vermont\"])    # Vermont hasn't been defined\n",
    "print (len(state_tree))          # Note that length has increased just from the query\n",
    "print (state_tree)               # Note that contents have been expanded just from the query"
   ]
  },
  {
   "cell_type": "markdown",
   "metadata": {},
   "source": [
    "### Factory Generating Real and Variable Content for Default Value"
   ]
  },
  {
   "cell_type": "code",
   "execution_count": 30,
   "metadata": {
    "collapsed": false
   },
   "outputs": [
    {
     "name": "stdout",
     "output_type": "stream",
     "text": [
      "1\n",
      "Spruce\n",
      "3\n",
      "defaultdict(<function <lambda> at 0x0000000004C48D90>, {'Texas': 'Pecan', 'Alaska': 'Spruce', 'Alabama': 'Pine'})\n",
      "#-----------------------------------------------------------------\n",
      "Oak\n",
      "4\n",
      "defaultdict(<function <lambda> at 0x0000000004C48D90>, {'Texas': 'Pecan', 'Alaska': 'Spruce', 'Georgia': 'Oak', 'Alabama': 'Pine'})\n",
      "#-----------------------------------------------------------------\n",
      "1\n",
      "Spruce\n",
      "3\n",
      "defaultdict(<function day_factory at 0x0000000004C5BC80>, {'Texas': 'Pecan', 'Alaska': 'Spruce', 'Alabama': 'Pine'})\n",
      "#-----------------------------------------------------------------\n",
      "Friday\n",
      "4\n",
      "defaultdict(<function day_factory at 0x0000000004C5BC80>, {'Texas': 'Pecan', 'Alaska': 'Spruce', 'Georgia': 'Friday', 'Alabama': 'Pine'})\n",
      "It's Friday.\n"
     ]
    }
   ],
   "source": [
    "# A default dictionary for state trees, with \"Oak\" always returned for undefined states.\n",
    "\n",
    "state_tree = defaultdict(lambda: \"Oak\")   # Note lambda as \"factory\" function called to generate constant default\n",
    "\n",
    "state_tree[\"Alabama\"] = \"Pine\"\n",
    "print (len(state_tree))\n",
    "state_tree[\"Texas\"] = \"Pecan\"\n",
    "state_tree[\"Alaska\"] = \"Spruce\"\n",
    "print (state_tree[\"Alaska\"])\n",
    "print (len(state_tree))\n",
    "print (state_tree)\n",
    "print (line_string)\n",
    "\n",
    "print (state_tree[\"Georgia\"])    # Georgia hasn't been defined\n",
    "print (len(state_tree))          # Note that length has increased just from the query\n",
    "print (state_tree)               # Note that contents have been expanded just from the query\n",
    "\n",
    "print (line_string)\n",
    "\n",
    "# A default dictionary for state trees, with today's day of week returned for undefined states.\n",
    "# A default dictionary with a separate custom factory function with logic \n",
    "\n",
    "import datetime\n",
    "def day_factory():\n",
    "    day_string = [\"Monday\", \"Tuesday\", \"Wednesday\", \"Thursday\", \"Friday\", \"Saturday\", \"Sunday\"]\n",
    "    index = datetime.datetime.today().weekday()\n",
    "    return day_string[index]\n",
    "\n",
    "state_tree = defaultdict(day_factory)   # Note lambda as \"factory\" function called to generate constant default\n",
    "\n",
    "state_tree[\"Alabama\"] = \"Pine\"\n",
    "print (len(state_tree))\n",
    "state_tree[\"Texas\"] = \"Pecan\"\n",
    "state_tree[\"Alaska\"] = \"Spruce\"\n",
    "print (state_tree[\"Alaska\"])\n",
    "print (len(state_tree))\n",
    "print (state_tree)\n",
    "print (line_string)\n",
    "\n",
    "print (state_tree[\"Georgia\"])    # Georgia hasn't been defined\n",
    "print (len(state_tree))          # Note that length has increased just from the query\n",
    "print (state_tree)               # Note that contents have been expanded just from the query\n",
    "                                    # and note that new contents is today day of week.\n"
   ]
  },
  {
   "cell_type": "markdown",
   "metadata": {},
   "source": [
    "### Default Dictionary Techniques"
   ]
  },
  {
   "cell_type": "code",
   "execution_count": 52,
   "metadata": {
    "collapsed": false
   },
   "outputs": [
    {
     "name": "stdout",
     "output_type": "stream",
     "text": [
      "defaultdict(<class 'int'>, {'k': 1, 'h': 2, 'a': 2, 'w': 1})\n",
      "#-----------------------------------------------------------------\n",
      "defaultdict(<class 'list'>, {'Texas': ['Austin', 'Houston', 'Abilene', 'Dallas'], 'New York': ['Albany', 'Syracuse', 'Buffalo', 'Rochester'], 'California': ['Sacramento', 'Palo Alto', 'Atlanta'], 'Kansas': ['Lawrence']})\n",
      "Texas\n",
      "Austin\n",
      "Houston\n",
      "Abilene\n",
      "Dallas\n",
      "New York\n",
      "Albany\n",
      "Syracuse\n",
      "Buffalo\n",
      "Rochester\n",
      "California\n",
      "Sacramento\n",
      "Palo Alto\n",
      "Atlanta\n",
      "Kansas\n",
      "Lawrence\n"
     ]
    }
   ],
   "source": [
    "# Using default dictionary to count things where the identity of particpating things not known in advance.\n",
    "# This example counts words that start with the various letters of the alphabet.\n",
    "#      Note that factory generates zero, which must be incremented as default count.\n",
    "words= [\"Houston\", \"Austin\", \"Huston\", \"Walnut Creek\", \"Kansas City\", \"Atlanta\"]\n",
    "wordcount = defaultdict(int)\n",
    "for word in words:\n",
    "    firstletter = word[0].lower()\n",
    "    wordcount[firstletter] += 1                # Note iteration\n",
    "print (wordcount)\n",
    "\n",
    "print (line_string)\n",
    "city_list = [('Texas','Austin'), ('Texas','Houston'), ('Texas', 'Abilene'), ('New York','Albany'), ('New York', 'Syracuse'), \n",
    "             ('New York', 'Buffalo'), ('New York', 'Rochester'), ('Texas', 'Dallas'), ('California','Sacramento'), \n",
    "             ('Kansas', 'Lawrence'), ('California', 'Palo Alto'), ('California', 'Atlanta')]\n",
    "cities_in_state = defaultdict(list)\n",
    "for state, city in city_list:\n",
    "    cities_in_state[state].append(city)\n",
    "print (cities_in_state)    \n",
    "\n",
    "for state in cities_in_state:\n",
    "    print (state)\n",
    "    for city in cities_in_state[state]:\n",
    "        print (city)\n",
    "\n",
    "\n",
    "\n"
   ]
  },
  {
   "cell_type": "markdown",
   "metadata": {},
   "source": [
    "### Default Dictionary Mysteries\n",
    "To the apprentice, some notation doesn't apply to that which it first seems.  In this case, the append method which appears to be applied to the dictionary and default dictionary is actually applied to the list contained therein."
   ]
  },
  {
   "cell_type": "code",
   "execution_count": 6,
   "metadata": {
    "collapsed": false
   },
   "outputs": [
    {
     "name": "stdout",
     "output_type": "stream",
     "text": [
      "<class 'dict'>\n",
      "['__class__', '__contains__', '__delattr__', '__delitem__', '__dir__', '__doc__', '__eq__', '__format__', '__ge__', '__getattribute__', '__getitem__', '__gt__', '__hash__', '__init__', '__iter__', '__le__', '__len__', '__lt__', '__ne__', '__new__', '__reduce__', '__reduce_ex__', '__repr__', '__setattr__', '__setitem__', '__sizeof__', '__str__', '__subclasshook__', 'clear', 'copy', 'fromkeys', 'get', 'items', 'keys', 'pop', 'popitem', 'setdefault', 'update', 'values']\n",
      "#-----------------------------------------------------------------\n",
      "<class 'collections.defaultdict'>\n",
      "['__class__', '__contains__', '__copy__', '__delattr__', '__delitem__', '__dir__', '__doc__', '__eq__', '__format__', '__ge__', '__getattribute__', '__getitem__', '__gt__', '__hash__', '__init__', '__iter__', '__le__', '__len__', '__lt__', '__missing__', '__ne__', '__new__', '__reduce__', '__reduce_ex__', '__repr__', '__setattr__', '__setitem__', '__sizeof__', '__str__', '__subclasshook__', 'clear', 'copy', 'default_factory', 'fromkeys', 'get', 'items', 'keys', 'pop', 'popitem', 'setdefault', 'update', 'values']\n"
     ]
    }
   ],
   "source": [
    "# Why does append work when it doesn't seem to be documented?\n",
    "wordclean = [\"a\", \"am\", \"all\", \"as\", \"at\", \"ma\", \"saw\", \"was\", \"bat\", \"tab\"]\n",
    "empty_dict = dict()\n",
    "print (type(empty_dict))\n",
    "print (dir(empty_dict))       # Note that there is no append method.\n",
    "print (\"#\" + 65*'-')\n",
    "\n",
    "test_list_in_dict = dict()\n",
    "\n",
    "test_list_in_dict = {\"Texas\":[\"Austin\", \"Houston\", \"Abilene\"],\n",
    "    \"Kansas\":[\"Riley\", \"Leavenworth\"]\n",
    "    }\n",
    "\n",
    "test_list_in_dict[\"Kansas\"].append(\"Olathe\") #The append method appears for the dict but is actually for contained list.\n",
    "\n",
    "def signature(word):\n",
    "    return ''.join(sorted(word))\n",
    "import collections\n",
    "words_in_sig_ddict = collections.defaultdict(list)\n",
    "print (type(words_in_sig_ddict))\n",
    "print (dir(words_in_sig_ddict))       # Note that there is no append method.\n",
    "for word in wordclean:\n",
    "    words_in_sig_ddict[signature(word)].append(word)\n",
    "\n"
   ]
  },
  {
   "cell_type": "markdown",
   "metadata": {},
   "source": [
    "## String Formatting\n"
   ]
  },
  {
   "cell_type": "code",
   "execution_count": 3,
   "metadata": {
    "collapsed": false
   },
   "outputs": [
    {
     "name": "stdout",
     "output_type": "stream",
     "text": [
      "True!\n"
     ]
    }
   ],
   "source": [
    "\n"
   ]
  },
  {
   "cell_type": "code",
   "execution_count": null,
   "metadata": {
    "collapsed": true
   },
   "outputs": [],
   "source": []
  },
  {
   "cell_type": "code",
   "execution_count": null,
   "metadata": {
    "collapsed": true
   },
   "outputs": [],
   "source": []
  },
  {
   "cell_type": "markdown",
   "metadata": {},
   "source": [
    "## Logging\n",
    "\n"
   ]
  },
  {
   "cell_type": "code",
   "execution_count": null,
   "metadata": {
    "collapsed": false
   },
   "outputs": [],
   "source": [
    "\n"
   ]
  },
  {
   "cell_type": "markdown",
   "metadata": {},
   "source": [
    "## Appendix\n",
    "<a id=\"Appendix\"></a>\n",
    "\n",
    "Welcome!  This notebook (and its sisters) was developed for me to practice some Python and data science fundamentals, and for me to explore and notate some interesting tricks, quirks, and lessons learned the hard way.\n",
    "\n",
    "Because I'm a naval history buff, I have occasionally used US naval ship information as practice data.  US naval ships each have a unique identifying \"hull number,\" making it is easy to build many common Python data structures around ship characteristics.  More information about US \"hull numbers\" is available from:\n",
    "\n",
    "http://www.navweaps.com/index_tech/index_ships_list.php\n",
    "\n",
    "### Tell Me I'm an Idiot!\n",
    "I welcome coaching, constructive criticism, and insight into more efficient, effective, or Pythonic ways of accomplishing results!\n",
    "\n",
    "Sincerely,\n",
    "\n",
    "*Carl Gusler*\n",
    "\n",
    "Austin, Texas\n",
    "\n",
    "carl.gusler@gmail.com"
   ]
  },
  {
   "cell_type": "code",
   "execution_count": null,
   "metadata": {
    "collapsed": true
   },
   "outputs": [],
   "source": []
  }
 ],
 "metadata": {
  "anaconda-cloud": {},
  "kernelspec": {
   "display_name": "Python [conda root]",
   "language": "python",
   "name": "conda-root-py"
  },
  "language_info": {
   "codemirror_mode": {
    "name": "ipython",
    "version": 3
   },
   "file_extension": ".py",
   "mimetype": "text/x-python",
   "name": "python",
   "nbconvert_exporter": "python",
   "pygments_lexer": "ipython3",
   "version": "3.5.2"
  }
 },
 "nbformat": 4,
 "nbformat_minor": 1
}
