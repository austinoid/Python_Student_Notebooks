{
 "cells": [
  {
   "cell_type": "markdown",
   "metadata": {},
   "source": [
    "# Learning Python - Notebook 4 - Functions and Generators\n",
    "\n",
    "A compendium of introductory topics, illustrative examples, best practices, tips and tricks.  \n",
    "\n",
    "Though most of the content here is my own explorations and my own dumb ideas, I have chosen to organize this series of Notebooks roughly based on the organization of Mark Lutz' authoritative (and massive) book _Learning Python._  These notebooks are aligned with the numbered major parts of his book.  This notebook aligns with his chapters covering Python __Functions and Generators.__\n",
    "\n",
    "Please see the accompanying notebooks for complementary and more complex topics.\n",
    "\n",
    "## Table of Contents\n",
    "\n",
    "+ [Code Formatting](#CodeFormatting)\n",
    "+ "
   ]
  },
  {
   "cell_type": "markdown",
   "metadata": {},
   "source": [
    "## Code Formatting\n",
    "<a id=CodeFormatting></a>\n",
    "https://www.python.org/dev/peps/pep-0008/\n",
    "https://docs.python.org/3/reference/lexical_analysis.html#implicit-line-joining"
   ]
  },
  {
   "cell_type": "code",
   "execution_count": 38,
   "metadata": {
    "collapsed": false
   },
   "outputs": [
    {
     "name": "stdout",
     "output_type": "stream",
     "text": [
      "True!\n"
     ]
    }
   ],
   "source": [
    "# Comment\n",
    "l_string = '''abc\n",
    "                  def'''    #Triple quote captures everything, including LF\n",
    "\n",
    "# Line Continuation with Backslash\n",
    "a = '1' + '2' + '3' + \\\n",
    "    '4' + '5'\n",
    "\n",
    "x = 2     \n",
    "s1 = (x + x**2/2 + x**3/3 +\n",
    "     x**4/4 + x**5/5 +\n",
    "     x**6/6 + x**7/7 +\n",
    "     x**8/8)            \n",
    "\n",
    "# Line Continuation with Open Parentheses #Python allows line continuation within open braces, brackets, parentheses.\n",
    "a = ('1' + '2' + '3' +\n",
    "    '4' + '5')    \n",
    "s2 = (x + x**2/2 + x**3/3 \n",
    "     + x**4/4 + x**5/5 \n",
    "     + x**6/6 + x**7/7 \n",
    "     + x**8/8)     \n",
    "\n",
    "# If Condition Line Continuation with Open Parentheses\n",
    "if (s1 == s2 and s2 >0 and x == 2\n",
    "    and s1 > 0):\n",
    "    print (\"True!\")\n",
    "else:\n",
    "    print (\"False.\")\n",
    "\n",
    "# Assigning multiple variables simultaneously.\n",
    "#    I suppose this makes the code listing slightly shorter, and keeps one from abusing the \"=\" key.\n",
    "#    However, I find this an invitation to scrimp on documentation.  What are all these variables and their values?\n",
    "#    (Okay, I may have exxagerated for effect.)\n",
    "\n",
    "a, b, c, d, e, f, g = 0,1,2,3,4,5,6\n"
   ]
  },
  {
   "cell_type": "markdown",
   "metadata": {},
   "source": [
    "\n",
    "## Scope\n",
    "<a id=Scope></a>\n",
    "This demonstrates Python basic scope management.\n",
    "\n",
    "### Scope Best Practices\n",
    "Global variables should rarely be referenced from within a function, and never change.\n",
    "Variable scope follows the LEGB rule.\n",
    "Local -> Enclosed -> Global -> Build-In\n",
    "\n",
    "http://nbviewer.jupyter.org/github/rasbt/python_reference/blob/master/tutorials/scope_resolution_legb_rule.ipynb\n",
    "\n",
    "https://sebastianraschka.com/notebooks/python-notebooks.html\n",
    "\n",
    "### Scope in Iteration\n",
    "Variables used in loops live beyond the life of the loop.  This is sometimes called scope leakage."
   ]
  },
  {
   "cell_type": "code",
   "execution_count": 21,
   "metadata": {
    "collapsed": false
   },
   "outputs": [
    {
     "name": "stdout",
     "output_type": "stream",
     "text": [
      "i in for loop:  0\n",
      "j in inner for loop:  0\n",
      "j in inner for loop:  1\n",
      "j in inner for loop:  2\n",
      "i in for loop:  1\n",
      "j in inner for loop:  0\n",
      "j in inner for loop:  1\n",
      "j in inner for loop:  2\n",
      "i in for loop:  2\n",
      "j in inner for loop:  0\n",
      "j in inner for loop:  1\n",
      "j in inner for loop:  2\n",
      "i in for loop:  3\n",
      "j in inner for loop:  0\n",
      "j in inner for loop:  1\n",
      "j in inner for loop:  2\n",
      "i in for loop:  4\n",
      "j in inner for loop:  0\n",
      "j in inner for loop:  1\n",
      "j in inner for loop:  2\n",
      "4 2\n"
     ]
    }
   ],
   "source": [
    "# Scope in iteration.  Note that loop iteration variables retain values after loop completes.\n",
    "i = 3\n",
    "for i in range (5):\n",
    "    print (\"i in for loop: \", i)\n",
    "    for j in range (3):\n",
    "        print (\"j in inner for loop: \", j)\n",
    "print (i, j)\n"
   ]
  },
  {
   "cell_type": "code",
   "execution_count": 24,
   "metadata": {
    "collapsed": false
   },
   "outputs": [
    {
     "name": "stdout",
     "output_type": "stream",
     "text": [
      "link in for loop:  0\n",
      "j in inner for loop:  0\n",
      "j in inner for loop:  1\n",
      "j in inner for loop:  2\n",
      "link in for loop:  1\n",
      "j in inner for loop:  0\n",
      "j in inner for loop:  1\n",
      "j in inner for loop:  2\n",
      "link in for loop:  2\n",
      "j in inner for loop:  0\n",
      "j in inner for loop:  1\n",
      "j in inner for loop:  2\n",
      "link in for loop:  3\n",
      "j in inner for loop:  0\n",
      "j in inner for loop:  1\n",
      "j in inner for loop:  2\n",
      "link in for loop:  4\n",
      "j in inner for loop:  0\n",
      "j in inner for loop:  1\n",
      "j in inner for loop:  2\n",
      "4 2\n",
      "True\n",
      "False\n"
     ]
    }
   ],
   "source": [
    "# Testing variables in scope.  Note that this test probably doesn't work the way you think it does!\n",
    "i = 3\n",
    "for link in range (5):\n",
    "    print (\"link in for loop: \", link)\n",
    "    for j in range (3):\n",
    "        print (\"j in inner for loop: \", j)\n",
    "print (link, j)\n",
    "print ('link' in globals())\n",
    "print ('ink' in globals())\n"
   ]
  },
  {
   "cell_type": "markdown",
   "metadata": {},
   "source": [
    "### Accessing Variables in Modules\n",
    "Variables in modules need to be accessed via prefixes."
   ]
  },
  {
   "cell_type": "code",
   "execution_count": 27,
   "metadata": {
    "collapsed": false
   },
   "outputs": [
    {
     "name": "stdout",
     "output_type": "stream",
     "text": [
      "Pi from the math module is:  3.141592653589793\n",
      "Pi from the numpy module is:  3.141592653589793\n",
      "Pi from the scipy module is:  3.141592653589793\n"
     ]
    }
   ],
   "source": [
    "import numpy\n",
    "import math\n",
    "import scipy\n",
    "\n",
    "print('Pi from the math module is: ', math.pi)\n",
    "print('Pi from the numpy module is: ', numpy.pi)\n",
    "print('Pi from the scipy module is: ', scipy.pi)"
   ]
  },
  {
   "cell_type": "code",
   "execution_count": 19,
   "metadata": {
    "collapsed": false
   },
   "outputs": [
    {
     "name": "stdout",
     "output_type": "stream",
     "text": [
      "i in for loop:  0\n",
      "True\n",
      "j in inner for loop:  0\n",
      "j in inner for loop:  1\n",
      "j in inner for loop:  2\n",
      "i in for loop:  1\n",
      "True\n",
      "j in inner for loop:  0\n",
      "j in inner for loop:  1\n",
      "j in inner for loop:  2\n",
      "i in for loop:  2\n",
      "True\n",
      "j in inner for loop:  0\n",
      "j in inner for loop:  1\n",
      "j in inner for loop:  2\n",
      "i in for loop:  3\n",
      "True\n",
      "j in inner for loop:  0\n",
      "j in inner for loop:  1\n",
      "j in inner for loop:  2\n",
      "i in for loop:  4\n",
      "True\n",
      "j in inner for loop:  0\n",
      "j in inner for loop:  1\n",
      "j in inner for loop:  2\n",
      "4 2\n",
      "True\n",
      "True\n",
      "k in function loop:  0\n",
      "k in function loop:  1\n",
      "k in function loop:  2\n",
      "k in function loop:  3\n"
     ]
    }
   ],
   "source": [
    "# Scope in iteration.  Note that loop iteration variables retain values after loop completes.\n",
    "i = 3\n",
    "for i in range (5):\n",
    "    print (\"i in for loop: \", i)\n",
    "    print ('i' in locals())\n",
    "    for j in range (3):\n",
    "        print (\"j in inner for loop: \", j)\n",
    "print (i, j)\n",
    "print ('i' in globals())\n",
    "print ('i' in locals())\n",
    "def irritate():\n",
    "    for k in range (i):\n",
    "        print (\"k in function loop: \", k)\n",
    "    return\n",
    "l = irritate()"
   ]
  },
  {
   "cell_type": "code",
   "execution_count": 18,
   "metadata": {
    "collapsed": false
   },
   "outputs": [
    {
     "name": "stdout",
     "output_type": "stream",
     "text": [
      "loc in foo(): True\n",
      "loc in global: False\n",
      "glob in global: True\n",
      "4\n",
      "<class 'dict'>\n",
      "{'_i17': '# Scope in iteration.  Note that loop iteration variables retain values after loop completes.\\ni = 3\\nfor i in range (5):\\n    print (\"i in for loop: \", i)\\n    # print (i in locals())\\n    for j in range (3):\\n        print (\"j in inner for loop: \", j)\\nprint (i, j)\\n# print (i in globals())\\n# print (i in locals())\\ndef irritate():\\n    for k in range (i):\\n        print (\"k in function loop: \", k)\\n    return\\nl = irritate()', '_sh': <module 'IPython.core.shadowns' from 'C:\\\\Program Files\\\\Anaconda3\\\\lib\\\\site-packages\\\\IPython\\\\core\\\\shadowns.py'>, '__name__': '__main__', 'In': ['', 'i = 3\\nfor i in range (5):\\n    print (\"i in for loop: \", i)\\nprint i', 'i = 3\\nfor i in range (5):\\n    print (\"i in for loop: \", i)\\nprint (i)', 'i = 3\\nfor i in range (5):\\n    print (\"i in for loop: \", i)\\n    for j in range (3):\\n        print (\"j in inner for loop: \", j)\\nprint (i, j)', 'i = 3\\nfor i in range (5):\\n    print (\"i in for loop: \", i)\\n    for j in range (3):\\n        print (\"j in inner for loop: \", j)\\nprint (i, j)', 'print (type(globals()))', 'print (type(globals()))\\nprint (globals())', 'print (type(globals()))\\nprint (globals())\\nprint (i in globals())', 'i = 3\\nfor i in range (5):\\n    print (\"i in for loop: \", i)\\n    for j in range (3):\\n        print (\"j in inner for loop: \", j)\\nprint (i, j)\\nprint (i in globals())', 'i = 3\\nfor i in range (5):\\n    print (\"i in for loop: \", i)\\n    for j in range (3):\\n        print (\"j in inner for loop: \", j)\\nprint (i, j)\\nprint (i in globals())\\nprint (i in locals())', 'print (type(globals()))\\nprint (globals())\\nprint (type(locals()))\\nprint (i in globals())', 'print (type(globals()))\\nprint (globals())\\nprint (type(locals()))\\nprint (\"\")\\nprint (locals())\\nprint (i in globals())', 'i = 3\\nfor i in range (5):\\n    print (\"i in for loop: \", i)\\n    print (i in locals())\\n    for j in range (3):\\n        print (\"j in inner for loop: \", j)\\nprint (i, j)\\nprint (i in globals())\\nprint (i in locals())', 'i = 3\\nfor i in range (5):\\n    print (\"i in for loop: \", i)\\n    print (i in locals())\\n    for j in range (3):\\n        print (\"j in inner for loop: \", j)\\nprint (i, j)\\nprint (i in globals())\\nprint (i in locals())', 'print (i)\\nprint (type(globals()))\\nprint (globals())\\nprint (type(locals()))\\nprint (\"\")\\nprint (locals())\\nprint (i in globals())', '# Scope in iteration.  Note that loop iteration variables retain values after loop completes.\\ni = 3\\nfor i in range (5):\\n    print (\"i in for loop: \", i)\\n    # print (i in locals())\\n    for j in range (3):\\n        print (\"j in inner for loop: \", j)\\nprint (i, j)\\n# print (i in globals())\\n# print (i in locals())\\ndef func irritate():\\n    for k in range (i):\\n        print (\"k in function loop: \", k)\\n    return', '# Scope in iteration.  Note that loop iteration variables retain values after loop completes.\\ni = 3\\nfor i in range (5):\\n    print (\"i in for loop: \", i)\\n    # print (i in locals())\\n    for j in range (3):\\n        print (\"j in inner for loop: \", j)\\nprint (i, j)\\n# print (i in globals())\\n# print (i in locals())\\ndef irritate():\\n    for k in range (i):\\n        print (\"k in function loop: \", k)\\n    return', '# Scope in iteration.  Note that loop iteration variables retain values after loop completes.\\ni = 3\\nfor i in range (5):\\n    print (\"i in for loop: \", i)\\n    # print (i in locals())\\n    for j in range (3):\\n        print (\"j in inner for loop: \", j)\\nprint (i, j)\\n# print (i in globals())\\n# print (i in locals())\\ndef irritate():\\n    for k in range (i):\\n        print (\"k in function loop: \", k)\\n    return\\nl = irritate()', '#print(globals()) # prints global namespace\\n#print(locals()) # prints local namespace\\n\\nglob = 1\\n\\ndef foo():\\n    loc = 5\\n    print(\\'loc in foo():\\', \\'loc\\' in locals())\\n\\nfoo()\\nprint(\\'loc in global:\\', \\'loc\\' in globals())    \\nprint(\\'glob in global:\\', \\'foo\\' in globals())\\n\\nprint (i)\\nprint (type(globals()))\\nprint (globals())\\nprint (type(locals()))\\nprint (\"\")\\nprint (locals())\\nprint (i in globals())'], 'exit': <IPython.core.autocall.ZMQExitAutocall object at 0x0000000004721D68>, 'Out': {}, '_i10': 'print (type(globals()))\\nprint (globals())\\nprint (type(locals()))\\nprint (i in globals())', '_i3': 'i = 3\\nfor i in range (5):\\n    print (\"i in for loop: \", i)\\n    for j in range (3):\\n        print (\"j in inner for loop: \", j)\\nprint (i, j)', '_i18': '#print(globals()) # prints global namespace\\n#print(locals()) # prints local namespace\\n\\nglob = 1\\n\\ndef foo():\\n    loc = 5\\n    print(\\'loc in foo():\\', \\'loc\\' in locals())\\n\\nfoo()\\nprint(\\'loc in global:\\', \\'loc\\' in globals())    \\nprint(\\'glob in global:\\', \\'foo\\' in globals())\\n\\nprint (i)\\nprint (type(globals()))\\nprint (globals())\\nprint (type(locals()))\\nprint (\"\")\\nprint (locals())\\nprint (i in globals())', '_i5': 'print (type(globals()))', '_i9': 'i = 3\\nfor i in range (5):\\n    print (\"i in for loop: \", i)\\n    for j in range (3):\\n        print (\"j in inner for loop: \", j)\\nprint (i, j)\\nprint (i in globals())\\nprint (i in locals())', '__': '', '_i16': '# Scope in iteration.  Note that loop iteration variables retain values after loop completes.\\ni = 3\\nfor i in range (5):\\n    print (\"i in for loop: \", i)\\n    # print (i in locals())\\n    for j in range (3):\\n        print (\"j in inner for loop: \", j)\\nprint (i, j)\\n# print (i in globals())\\n# print (i in locals())\\ndef irritate():\\n    for k in range (i):\\n        print (\"k in function loop: \", k)\\n    return', '_oh': {}, '_i6': 'print (type(globals()))\\nprint (globals())', '__package__': None, 'glob': 1, 'i': 4, '_ih': ['', 'i = 3\\nfor i in range (5):\\n    print (\"i in for loop: \", i)\\nprint i', 'i = 3\\nfor i in range (5):\\n    print (\"i in for loop: \", i)\\nprint (i)', 'i = 3\\nfor i in range (5):\\n    print (\"i in for loop: \", i)\\n    for j in range (3):\\n        print (\"j in inner for loop: \", j)\\nprint (i, j)', 'i = 3\\nfor i in range (5):\\n    print (\"i in for loop: \", i)\\n    for j in range (3):\\n        print (\"j in inner for loop: \", j)\\nprint (i, j)', 'print (type(globals()))', 'print (type(globals()))\\nprint (globals())', 'print (type(globals()))\\nprint (globals())\\nprint (i in globals())', 'i = 3\\nfor i in range (5):\\n    print (\"i in for loop: \", i)\\n    for j in range (3):\\n        print (\"j in inner for loop: \", j)\\nprint (i, j)\\nprint (i in globals())', 'i = 3\\nfor i in range (5):\\n    print (\"i in for loop: \", i)\\n    for j in range (3):\\n        print (\"j in inner for loop: \", j)\\nprint (i, j)\\nprint (i in globals())\\nprint (i in locals())', 'print (type(globals()))\\nprint (globals())\\nprint (type(locals()))\\nprint (i in globals())', 'print (type(globals()))\\nprint (globals())\\nprint (type(locals()))\\nprint (\"\")\\nprint (locals())\\nprint (i in globals())', 'i = 3\\nfor i in range (5):\\n    print (\"i in for loop: \", i)\\n    print (i in locals())\\n    for j in range (3):\\n        print (\"j in inner for loop: \", j)\\nprint (i, j)\\nprint (i in globals())\\nprint (i in locals())', 'i = 3\\nfor i in range (5):\\n    print (\"i in for loop: \", i)\\n    print (i in locals())\\n    for j in range (3):\\n        print (\"j in inner for loop: \", j)\\nprint (i, j)\\nprint (i in globals())\\nprint (i in locals())', 'print (i)\\nprint (type(globals()))\\nprint (globals())\\nprint (type(locals()))\\nprint (\"\")\\nprint (locals())\\nprint (i in globals())', '# Scope in iteration.  Note that loop iteration variables retain values after loop completes.\\ni = 3\\nfor i in range (5):\\n    print (\"i in for loop: \", i)\\n    # print (i in locals())\\n    for j in range (3):\\n        print (\"j in inner for loop: \", j)\\nprint (i, j)\\n# print (i in globals())\\n# print (i in locals())\\ndef func irritate():\\n    for k in range (i):\\n        print (\"k in function loop: \", k)\\n    return', '# Scope in iteration.  Note that loop iteration variables retain values after loop completes.\\ni = 3\\nfor i in range (5):\\n    print (\"i in for loop: \", i)\\n    # print (i in locals())\\n    for j in range (3):\\n        print (\"j in inner for loop: \", j)\\nprint (i, j)\\n# print (i in globals())\\n# print (i in locals())\\ndef irritate():\\n    for k in range (i):\\n        print (\"k in function loop: \", k)\\n    return', '# Scope in iteration.  Note that loop iteration variables retain values after loop completes.\\ni = 3\\nfor i in range (5):\\n    print (\"i in for loop: \", i)\\n    # print (i in locals())\\n    for j in range (3):\\n        print (\"j in inner for loop: \", j)\\nprint (i, j)\\n# print (i in globals())\\n# print (i in locals())\\ndef irritate():\\n    for k in range (i):\\n        print (\"k in function loop: \", k)\\n    return\\nl = irritate()', '#print(globals()) # prints global namespace\\n#print(locals()) # prints local namespace\\n\\nglob = 1\\n\\ndef foo():\\n    loc = 5\\n    print(\\'loc in foo():\\', \\'loc\\' in locals())\\n\\nfoo()\\nprint(\\'loc in global:\\', \\'loc\\' in globals())    \\nprint(\\'glob in global:\\', \\'foo\\' in globals())\\n\\nprint (i)\\nprint (type(globals()))\\nprint (globals())\\nprint (type(locals()))\\nprint (\"\")\\nprint (locals())\\nprint (i in globals())'], '_dh': ['C:\\\\Users\\\\carl\\\\Documents\\\\Documents\\\\Projects\\\\Python Development 2016\\\\Python_Student_Notebooks'], '_i': '# Scope in iteration.  Note that loop iteration variables retain values after loop completes.\\ni = 3\\nfor i in range (5):\\n    print (\"i in for loop: \", i)\\n    # print (i in locals())\\n    for j in range (3):\\n        print (\"j in inner for loop: \", j)\\nprint (i, j)\\n# print (i in globals())\\n# print (i in locals())\\ndef irritate():\\n    for k in range (i):\\n        print (\"k in function loop: \", k)\\n    return\\nl = irritate()', '_i12': 'i = 3\\nfor i in range (5):\\n    print (\"i in for loop: \", i)\\n    print (i in locals())\\n    for j in range (3):\\n        print (\"j in inner for loop: \", j)\\nprint (i, j)\\nprint (i in globals())\\nprint (i in locals())', '_i7': 'print (type(globals()))\\nprint (globals())\\nprint (i in globals())', '_iii': '# Scope in iteration.  Note that loop iteration variables retain values after loop completes.\\ni = 3\\nfor i in range (5):\\n    print (\"i in for loop: \", i)\\n    # print (i in locals())\\n    for j in range (3):\\n        print (\"j in inner for loop: \", j)\\nprint (i, j)\\n# print (i in globals())\\n# print (i in locals())\\ndef func irritate():\\n    for k in range (i):\\n        print (\"k in function loop: \", k)\\n    return', '_': '', '___': '', '__doc__': 'Automatically created module for IPython interactive environment', '_i8': 'i = 3\\nfor i in range (5):\\n    print (\"i in for loop: \", i)\\n    for j in range (3):\\n        print (\"j in inner for loop: \", j)\\nprint (i, j)\\nprint (i in globals())', '__spec__': None, 'foo': <function foo at 0x0000000004BE5F28>, '__loader__': None, 'quit': <IPython.core.autocall.ZMQExitAutocall object at 0x0000000004721D68>, '_i11': 'print (type(globals()))\\nprint (globals())\\nprint (type(locals()))\\nprint (\"\")\\nprint (locals())\\nprint (i in globals())', '_i1': 'i = 3\\nfor i in range (5):\\n    print (\"i in for loop: \", i)\\nprint i', 'l': None, 'irritate': <function irritate at 0x0000000004BE5D08>, '_i15': '# Scope in iteration.  Note that loop iteration variables retain values after loop completes.\\ni = 3\\nfor i in range (5):\\n    print (\"i in for loop: \", i)\\n    # print (i in locals())\\n    for j in range (3):\\n        print (\"j in inner for loop: \", j)\\nprint (i, j)\\n# print (i in globals())\\n# print (i in locals())\\ndef func irritate():\\n    for k in range (i):\\n        print (\"k in function loop: \", k)\\n    return', '__builtins__': <module 'builtins' (built-in)>, '_i4': 'i = 3\\nfor i in range (5):\\n    print (\"i in for loop: \", i)\\n    for j in range (3):\\n        print (\"j in inner for loop: \", j)\\nprint (i, j)', '_i2': 'i = 3\\nfor i in range (5):\\n    print (\"i in for loop: \", i)\\nprint (i)', 'j': 2, 'get_ipython': <bound method InteractiveShell.get_ipython of <ipykernel.zmqshell.ZMQInteractiveShell object at 0x0000000004C80588>>, '__builtin__': <module 'builtins' (built-in)>, '_ii': '# Scope in iteration.  Note that loop iteration variables retain values after loop completes.\\ni = 3\\nfor i in range (5):\\n    print (\"i in for loop: \", i)\\n    # print (i in locals())\\n    for j in range (3):\\n        print (\"j in inner for loop: \", j)\\nprint (i, j)\\n# print (i in globals())\\n# print (i in locals())\\ndef irritate():\\n    for k in range (i):\\n        print (\"k in function loop: \", k)\\n    return', '_i13': 'i = 3\\nfor i in range (5):\\n    print (\"i in for loop: \", i)\\n    print (i in locals())\\n    for j in range (3):\\n        print (\"j in inner for loop: \", j)\\nprint (i, j)\\nprint (i in globals())\\nprint (i in locals())', '_i14': 'print (i)\\nprint (type(globals()))\\nprint (globals())\\nprint (type(locals()))\\nprint (\"\")\\nprint (locals())\\nprint (i in globals())'}\n",
      "<class 'dict'>\n",
      "\n",
      "{'_i17': '# Scope in iteration.  Note that loop iteration variables retain values after loop completes.\\ni = 3\\nfor i in range (5):\\n    print (\"i in for loop: \", i)\\n    # print (i in locals())\\n    for j in range (3):\\n        print (\"j in inner for loop: \", j)\\nprint (i, j)\\n# print (i in globals())\\n# print (i in locals())\\ndef irritate():\\n    for k in range (i):\\n        print (\"k in function loop: \", k)\\n    return\\nl = irritate()', '_sh': <module 'IPython.core.shadowns' from 'C:\\\\Program Files\\\\Anaconda3\\\\lib\\\\site-packages\\\\IPython\\\\core\\\\shadowns.py'>, '__name__': '__main__', 'In': ['', 'i = 3\\nfor i in range (5):\\n    print (\"i in for loop: \", i)\\nprint i', 'i = 3\\nfor i in range (5):\\n    print (\"i in for loop: \", i)\\nprint (i)', 'i = 3\\nfor i in range (5):\\n    print (\"i in for loop: \", i)\\n    for j in range (3):\\n        print (\"j in inner for loop: \", j)\\nprint (i, j)', 'i = 3\\nfor i in range (5):\\n    print (\"i in for loop: \", i)\\n    for j in range (3):\\n        print (\"j in inner for loop: \", j)\\nprint (i, j)', 'print (type(globals()))', 'print (type(globals()))\\nprint (globals())', 'print (type(globals()))\\nprint (globals())\\nprint (i in globals())', 'i = 3\\nfor i in range (5):\\n    print (\"i in for loop: \", i)\\n    for j in range (3):\\n        print (\"j in inner for loop: \", j)\\nprint (i, j)\\nprint (i in globals())', 'i = 3\\nfor i in range (5):\\n    print (\"i in for loop: \", i)\\n    for j in range (3):\\n        print (\"j in inner for loop: \", j)\\nprint (i, j)\\nprint (i in globals())\\nprint (i in locals())', 'print (type(globals()))\\nprint (globals())\\nprint (type(locals()))\\nprint (i in globals())', 'print (type(globals()))\\nprint (globals())\\nprint (type(locals()))\\nprint (\"\")\\nprint (locals())\\nprint (i in globals())', 'i = 3\\nfor i in range (5):\\n    print (\"i in for loop: \", i)\\n    print (i in locals())\\n    for j in range (3):\\n        print (\"j in inner for loop: \", j)\\nprint (i, j)\\nprint (i in globals())\\nprint (i in locals())', 'i = 3\\nfor i in range (5):\\n    print (\"i in for loop: \", i)\\n    print (i in locals())\\n    for j in range (3):\\n        print (\"j in inner for loop: \", j)\\nprint (i, j)\\nprint (i in globals())\\nprint (i in locals())', 'print (i)\\nprint (type(globals()))\\nprint (globals())\\nprint (type(locals()))\\nprint (\"\")\\nprint (locals())\\nprint (i in globals())', '# Scope in iteration.  Note that loop iteration variables retain values after loop completes.\\ni = 3\\nfor i in range (5):\\n    print (\"i in for loop: \", i)\\n    # print (i in locals())\\n    for j in range (3):\\n        print (\"j in inner for loop: \", j)\\nprint (i, j)\\n# print (i in globals())\\n# print (i in locals())\\ndef func irritate():\\n    for k in range (i):\\n        print (\"k in function loop: \", k)\\n    return', '# Scope in iteration.  Note that loop iteration variables retain values after loop completes.\\ni = 3\\nfor i in range (5):\\n    print (\"i in for loop: \", i)\\n    # print (i in locals())\\n    for j in range (3):\\n        print (\"j in inner for loop: \", j)\\nprint (i, j)\\n# print (i in globals())\\n# print (i in locals())\\ndef irritate():\\n    for k in range (i):\\n        print (\"k in function loop: \", k)\\n    return', '# Scope in iteration.  Note that loop iteration variables retain values after loop completes.\\ni = 3\\nfor i in range (5):\\n    print (\"i in for loop: \", i)\\n    # print (i in locals())\\n    for j in range (3):\\n        print (\"j in inner for loop: \", j)\\nprint (i, j)\\n# print (i in globals())\\n# print (i in locals())\\ndef irritate():\\n    for k in range (i):\\n        print (\"k in function loop: \", k)\\n    return\\nl = irritate()', '#print(globals()) # prints global namespace\\n#print(locals()) # prints local namespace\\n\\nglob = 1\\n\\ndef foo():\\n    loc = 5\\n    print(\\'loc in foo():\\', \\'loc\\' in locals())\\n\\nfoo()\\nprint(\\'loc in global:\\', \\'loc\\' in globals())    \\nprint(\\'glob in global:\\', \\'foo\\' in globals())\\n\\nprint (i)\\nprint (type(globals()))\\nprint (globals())\\nprint (type(locals()))\\nprint (\"\")\\nprint (locals())\\nprint (i in globals())'], 'exit': <IPython.core.autocall.ZMQExitAutocall object at 0x0000000004721D68>, 'Out': {}, '_i10': 'print (type(globals()))\\nprint (globals())\\nprint (type(locals()))\\nprint (i in globals())', '_i3': 'i = 3\\nfor i in range (5):\\n    print (\"i in for loop: \", i)\\n    for j in range (3):\\n        print (\"j in inner for loop: \", j)\\nprint (i, j)', '_i18': '#print(globals()) # prints global namespace\\n#print(locals()) # prints local namespace\\n\\nglob = 1\\n\\ndef foo():\\n    loc = 5\\n    print(\\'loc in foo():\\', \\'loc\\' in locals())\\n\\nfoo()\\nprint(\\'loc in global:\\', \\'loc\\' in globals())    \\nprint(\\'glob in global:\\', \\'foo\\' in globals())\\n\\nprint (i)\\nprint (type(globals()))\\nprint (globals())\\nprint (type(locals()))\\nprint (\"\")\\nprint (locals())\\nprint (i in globals())', '_i5': 'print (type(globals()))', '_i9': 'i = 3\\nfor i in range (5):\\n    print (\"i in for loop: \", i)\\n    for j in range (3):\\n        print (\"j in inner for loop: \", j)\\nprint (i, j)\\nprint (i in globals())\\nprint (i in locals())', '__': '', '_i16': '# Scope in iteration.  Note that loop iteration variables retain values after loop completes.\\ni = 3\\nfor i in range (5):\\n    print (\"i in for loop: \", i)\\n    # print (i in locals())\\n    for j in range (3):\\n        print (\"j in inner for loop: \", j)\\nprint (i, j)\\n# print (i in globals())\\n# print (i in locals())\\ndef irritate():\\n    for k in range (i):\\n        print (\"k in function loop: \", k)\\n    return', '_oh': {}, '_i6': 'print (type(globals()))\\nprint (globals())', '__package__': None, 'glob': 1, 'i': 4, '_ih': ['', 'i = 3\\nfor i in range (5):\\n    print (\"i in for loop: \", i)\\nprint i', 'i = 3\\nfor i in range (5):\\n    print (\"i in for loop: \", i)\\nprint (i)', 'i = 3\\nfor i in range (5):\\n    print (\"i in for loop: \", i)\\n    for j in range (3):\\n        print (\"j in inner for loop: \", j)\\nprint (i, j)', 'i = 3\\nfor i in range (5):\\n    print (\"i in for loop: \", i)\\n    for j in range (3):\\n        print (\"j in inner for loop: \", j)\\nprint (i, j)', 'print (type(globals()))', 'print (type(globals()))\\nprint (globals())', 'print (type(globals()))\\nprint (globals())\\nprint (i in globals())', 'i = 3\\nfor i in range (5):\\n    print (\"i in for loop: \", i)\\n    for j in range (3):\\n        print (\"j in inner for loop: \", j)\\nprint (i, j)\\nprint (i in globals())', 'i = 3\\nfor i in range (5):\\n    print (\"i in for loop: \", i)\\n    for j in range (3):\\n        print (\"j in inner for loop: \", j)\\nprint (i, j)\\nprint (i in globals())\\nprint (i in locals())', 'print (type(globals()))\\nprint (globals())\\nprint (type(locals()))\\nprint (i in globals())', 'print (type(globals()))\\nprint (globals())\\nprint (type(locals()))\\nprint (\"\")\\nprint (locals())\\nprint (i in globals())', 'i = 3\\nfor i in range (5):\\n    print (\"i in for loop: \", i)\\n    print (i in locals())\\n    for j in range (3):\\n        print (\"j in inner for loop: \", j)\\nprint (i, j)\\nprint (i in globals())\\nprint (i in locals())', 'i = 3\\nfor i in range (5):\\n    print (\"i in for loop: \", i)\\n    print (i in locals())\\n    for j in range (3):\\n        print (\"j in inner for loop: \", j)\\nprint (i, j)\\nprint (i in globals())\\nprint (i in locals())', 'print (i)\\nprint (type(globals()))\\nprint (globals())\\nprint (type(locals()))\\nprint (\"\")\\nprint (locals())\\nprint (i in globals())', '# Scope in iteration.  Note that loop iteration variables retain values after loop completes.\\ni = 3\\nfor i in range (5):\\n    print (\"i in for loop: \", i)\\n    # print (i in locals())\\n    for j in range (3):\\n        print (\"j in inner for loop: \", j)\\nprint (i, j)\\n# print (i in globals())\\n# print (i in locals())\\ndef func irritate():\\n    for k in range (i):\\n        print (\"k in function loop: \", k)\\n    return', '# Scope in iteration.  Note that loop iteration variables retain values after loop completes.\\ni = 3\\nfor i in range (5):\\n    print (\"i in for loop: \", i)\\n    # print (i in locals())\\n    for j in range (3):\\n        print (\"j in inner for loop: \", j)\\nprint (i, j)\\n# print (i in globals())\\n# print (i in locals())\\ndef irritate():\\n    for k in range (i):\\n        print (\"k in function loop: \", k)\\n    return', '# Scope in iteration.  Note that loop iteration variables retain values after loop completes.\\ni = 3\\nfor i in range (5):\\n    print (\"i in for loop: \", i)\\n    # print (i in locals())\\n    for j in range (3):\\n        print (\"j in inner for loop: \", j)\\nprint (i, j)\\n# print (i in globals())\\n# print (i in locals())\\ndef irritate():\\n    for k in range (i):\\n        print (\"k in function loop: \", k)\\n    return\\nl = irritate()', '#print(globals()) # prints global namespace\\n#print(locals()) # prints local namespace\\n\\nglob = 1\\n\\ndef foo():\\n    loc = 5\\n    print(\\'loc in foo():\\', \\'loc\\' in locals())\\n\\nfoo()\\nprint(\\'loc in global:\\', \\'loc\\' in globals())    \\nprint(\\'glob in global:\\', \\'foo\\' in globals())\\n\\nprint (i)\\nprint (type(globals()))\\nprint (globals())\\nprint (type(locals()))\\nprint (\"\")\\nprint (locals())\\nprint (i in globals())'], '_dh': ['C:\\\\Users\\\\carl\\\\Documents\\\\Documents\\\\Projects\\\\Python Development 2016\\\\Python_Student_Notebooks'], '_i': '# Scope in iteration.  Note that loop iteration variables retain values after loop completes.\\ni = 3\\nfor i in range (5):\\n    print (\"i in for loop: \", i)\\n    # print (i in locals())\\n    for j in range (3):\\n        print (\"j in inner for loop: \", j)\\nprint (i, j)\\n# print (i in globals())\\n# print (i in locals())\\ndef irritate():\\n    for k in range (i):\\n        print (\"k in function loop: \", k)\\n    return\\nl = irritate()', '_i12': 'i = 3\\nfor i in range (5):\\n    print (\"i in for loop: \", i)\\n    print (i in locals())\\n    for j in range (3):\\n        print (\"j in inner for loop: \", j)\\nprint (i, j)\\nprint (i in globals())\\nprint (i in locals())', '_i7': 'print (type(globals()))\\nprint (globals())\\nprint (i in globals())', '_iii': '# Scope in iteration.  Note that loop iteration variables retain values after loop completes.\\ni = 3\\nfor i in range (5):\\n    print (\"i in for loop: \", i)\\n    # print (i in locals())\\n    for j in range (3):\\n        print (\"j in inner for loop: \", j)\\nprint (i, j)\\n# print (i in globals())\\n# print (i in locals())\\ndef func irritate():\\n    for k in range (i):\\n        print (\"k in function loop: \", k)\\n    return', '_': '', '___': '', '__doc__': 'Automatically created module for IPython interactive environment', '_i8': 'i = 3\\nfor i in range (5):\\n    print (\"i in for loop: \", i)\\n    for j in range (3):\\n        print (\"j in inner for loop: \", j)\\nprint (i, j)\\nprint (i in globals())', '__spec__': None, 'foo': <function foo at 0x0000000004BE5F28>, '__loader__': None, 'quit': <IPython.core.autocall.ZMQExitAutocall object at 0x0000000004721D68>, '_i11': 'print (type(globals()))\\nprint (globals())\\nprint (type(locals()))\\nprint (\"\")\\nprint (locals())\\nprint (i in globals())', '_i1': 'i = 3\\nfor i in range (5):\\n    print (\"i in for loop: \", i)\\nprint i', 'l': None, 'irritate': <function irritate at 0x0000000004BE5D08>, '_i15': '# Scope in iteration.  Note that loop iteration variables retain values after loop completes.\\ni = 3\\nfor i in range (5):\\n    print (\"i in for loop: \", i)\\n    # print (i in locals())\\n    for j in range (3):\\n        print (\"j in inner for loop: \", j)\\nprint (i, j)\\n# print (i in globals())\\n# print (i in locals())\\ndef func irritate():\\n    for k in range (i):\\n        print (\"k in function loop: \", k)\\n    return', '__builtins__': <module 'builtins' (built-in)>, '_i4': 'i = 3\\nfor i in range (5):\\n    print (\"i in for loop: \", i)\\n    for j in range (3):\\n        print (\"j in inner for loop: \", j)\\nprint (i, j)', '_i2': 'i = 3\\nfor i in range (5):\\n    print (\"i in for loop: \", i)\\nprint (i)', 'j': 2, 'get_ipython': <bound method InteractiveShell.get_ipython of <ipykernel.zmqshell.ZMQInteractiveShell object at 0x0000000004C80588>>, '__builtin__': <module 'builtins' (built-in)>, '_ii': '# Scope in iteration.  Note that loop iteration variables retain values after loop completes.\\ni = 3\\nfor i in range (5):\\n    print (\"i in for loop: \", i)\\n    # print (i in locals())\\n    for j in range (3):\\n        print (\"j in inner for loop: \", j)\\nprint (i, j)\\n# print (i in globals())\\n# print (i in locals())\\ndef irritate():\\n    for k in range (i):\\n        print (\"k in function loop: \", k)\\n    return', '_i13': 'i = 3\\nfor i in range (5):\\n    print (\"i in for loop: \", i)\\n    print (i in locals())\\n    for j in range (3):\\n        print (\"j in inner for loop: \", j)\\nprint (i, j)\\nprint (i in globals())\\nprint (i in locals())', '_i14': 'print (i)\\nprint (type(globals()))\\nprint (globals())\\nprint (type(locals()))\\nprint (\"\")\\nprint (locals())\\nprint (i in globals())'}\n",
      "False\n"
     ]
    }
   ],
   "source": [
    "#print(globals()) # prints global namespace\n",
    "#print(locals()) # prints local namespace\n",
    "\n",
    "glob = 1\n",
    "\n",
    "def foo():\n",
    "    loc = 5\n",
    "    print('loc in foo():', 'loc' in locals())\n",
    "\n",
    "foo()\n",
    "print('loc in global:', 'loc' in globals())    \n",
    "print('glob in global:', 'foo' in globals())\n",
    "\n",
    "print (i)\n",
    "print (type(globals()))\n",
    "print (globals())\n",
    "print (type(locals()))\n",
    "print (\"\")\n",
    "print (locals())\n",
    "print (i in globals())"
   ]
  },
  {
   "cell_type": "markdown",
   "metadata": {},
   "source": [
    "## Functions\n",
    "<a id=Functions></a>\n",
    "One important feature of Python functions is the ability to pass a list of arguments or a list of named arguments.  The Python docuemntation syntax for this is \"\\*args\" and \"\\**kwargs.\""
   ]
  },
  {
   "cell_type": "code",
   "execution_count": 23,
   "metadata": {
    "collapsed": false
   },
   "outputs": [
    {
     "name": "stdout",
     "output_type": "stream",
     "text": [
      "1 2 3\n",
      "<class 'tuple'>\n",
      "(4, '5')\n",
      "1 2 3\n",
      "<class 'dict'>\n",
      "{'continent': 'North America', 'city': 'Austin', 'state': 'Texas', 'county': 'Travis'}\n"
     ]
    }
   ],
   "source": [
    "def demo_func1(i, j, k, *args):\n",
    "    print (i, j, k)\n",
    "    print (type(args))             # Note that args is a tuple of arguments\n",
    "    print (args)\n",
    "    \n",
    "def demo_func2(i, j, k, **kwargs):\n",
    "    print (i, j, k)\n",
    "    print (type(kwargs))           # Note that kwargs is a dictionary of key word arguments\n",
    "    print (kwargs)\n",
    "    \n",
    "i = demo_func1(1, 2, 3, 4, \"5\")\n",
    "\n",
    "i = demo_func2(1, 2, 3, city=\"Austin\", county=\"Travis\", state=\"Texas\", continent=\"North America\")\n",
    "    "
   ]
  },
  {
   "cell_type": "markdown",
   "metadata": {},
   "source": [
    "## Iterators, Iterables, and Generators\n",
    "<a id=Iterators></a>\n",
    "Iteration means taking each item of something, one after the other.  This means some kind of collection with some kind of order (sequence.)  Iteration implies looping, whether implicit or explicit."
   ]
  },
  {
   "cell_type": "markdown",
   "metadata": {},
   "source": [
    "### Iterables\n",
    "Iterables are sequences where it is possible to visit each element of the sequence, and perform some operation on that element (and move on.)\n",
    "\n",
    "Official Definition:\n",
    "\n",
    "An iterable is an object capable of returning its members one at a time. Examples of iterables include all sequence types (such as list, str, and tuple) and some non-sequence types like dict, file objects, and objects of any classes you define with an __iter__() or __getitem__() method. Iterables can be used in a for loop and in many other places where a sequence is needed (zip(), map(), ...). When an iterable object is passed as an argument to the built-in function iter(), it returns an iterator for the object. This iterator is good for one pass over the set of values. When using iterables, it is usually not necessary to call iter() or deal with iterator objects yourself. The for statement does that automatically for you, creating a temporary unnamed variable to hold the iterator for the duration of the loop."
   ]
  },
  {
   "cell_type": "markdown",
   "metadata": {},
   "source": [
    "### Iterators\n",
    "Iterables are sequences where it is possible to visit each element of the sequence, and perform some operation on that element (and move on.)\n",
    "\n",
    "Official Definition:\n",
    "\n",
    "An object representing a stream of data. Repeated calls to the iterator’s __next__() method (or passing it to the built-in function next()) return successive items in the stream. When no more data are available a StopIteration exception is raised instead. At this point, the iterator object is exhausted and any further calls to its __next__() method just raise StopIteration again. Iterators are required to have an __iter__() method that returns the iterator object itself so every iterator is also iterable and may be used in most places where other iterables are accepted. One notable exception is code which attempts multiple iteration passes. A container object (such as a list) produces a fresh new iterator each time you pass it to the iter() function or use it in a for loop. Attempting this with an iterator will just return the same exhausted iterator object used in the previous iteration pass, making it appear like an empty container."
   ]
  },
  {
   "cell_type": "markdown",
   "metadata": {},
   "source": [
    "### Generators\n",
    "There are two types of generators: \n",
    "- Named generator functions\n",
    "- Nameless generator expressions\n",
    "\n",
    "Generator functions are a type of function that can be called repeatedly/iterably and performs a YIELD instead of a return.  Generator expressions are single-line expressions that are similar to list expressions.  In fact, list comprehensions can be thought of as generator expressions wrapped in a list constructor."
   ]
  },
  {
   "cell_type": "code",
   "execution_count": 24,
   "metadata": {
    "collapsed": false
   },
   "outputs": [
    {
     "data": {
      "text/plain": [
       "2470"
      ]
     },
     "execution_count": 24,
     "metadata": {},
     "output_type": "execute_result"
    }
   ],
   "source": [
    "# Simple nameless generator used in place of a function parameter\n",
    "sum(i**2 for i in range(20))   # Generates sum of squares"
   ]
  },
  {
   "cell_type": "markdown",
   "metadata": {},
   "source": [
    "## The L Word\n",
    "<a id=Lambdas></a>\n",
    "Lambda, map(), filter(), and reduce() are functional programming capabilites and structures.  They have been reported to be added to Python at the request of LISP fans.\n",
    "\n",
    "\n",
    "### Lambda Functions\n",
    "\n",
    "The lambda operator provides a nameless \"throw away\" function which is usually embeddeed in larger expressions and operations.\n"
   ]
  },
  {
   "cell_type": "code",
   "execution_count": 37,
   "metadata": {
    "collapsed": false
   },
   "outputs": [],
   "source": [
    "# Lambda syntax:\n",
    "#  function_name = lambda parameters: expresssion\n",
    "f = lambda x, y : x * y\n",
    "print (f(2,4))\n",
    "\n",
    "\n",
    "# Lambda expression can include conditional structures\n",
    "f = lambda a,b: a if (a > b) else b\n"
   ]
  },
  {
   "cell_type": "markdown",
   "metadata": {},
   "source": [
    "### Map Function\n",
    "The map function applies a function to every element in a sequence (list, iterable.)  If multiple iterables are provided, they are operated upon in parallel.  Multiple functions can also be supplied to the mapping process.\n",
    "\n",
    "In Python 3, the map() function produces a map object, which can be directly iterated.  If an actual list object is needed, the list() function should be used to build the list from the map objects.\n",
    "\n",
    "The equivalent of a map() operation can probably be built with list comprehensions and can *always* be built with loops.  The use of map() may provide shorter, clearer code.  However, where complex use of map() is required, building the equivalent larger looping code block will probably run faster (and may be easier to understand, update,  and correct.)\n",
    "\n",
    "https://www.dotnetperls.com/map-python"
   ]
  },
  {
   "cell_type": "code",
   "execution_count": 32,
   "metadata": {
    "collapsed": false
   },
   "outputs": [
    {
     "name": "stdout",
     "output_type": "stream",
     "text": [
      "(0, 15.5, 22.2, 38.8, 43.3)\n",
      "<map object at 0x0000000004CE9278>\n",
      "<map object at 0x0000000004CE95F8>\n",
      "[32.0, 59.900000000000006, 71.96000000000001, 101.84, 109.94]\n",
      "[0.0, 15.500000000000004, 22.200000000000006, 38.800000000000004, 43.3]\n",
      "[32.0, 59.900000000000006, 71.96000000000001, 101.84, 109.94]\n",
      "[-17.77777777777778, -9.166666666666668, -5.444444444444445, 3.7777777777777763, 6.277777777777777]\n",
      "[18, 14, 14, 14]\n",
      "[17, 10, 19, 23]\n",
      "[19, 18, 9, 5]\n",
      "[0, 0]\n",
      "[1, 2]\n",
      "[4, 4]\n",
      "[9, 6]\n",
      "[16, 8]\n"
     ]
    }
   ],
   "source": [
    "# Map syntax:\n",
    "#  result_seq = map(function, input_sequence)\n",
    "# Examples with temperature conversions.\n",
    "def fahrenheit(T):\n",
    "    return ((float(9)/5)*T + 32)\n",
    "def celsius(T):\n",
    "    return (float(5)/9)*(T-32)\n",
    "temps = (0, 15.5, 22.2, 38.8, 43.3)\n",
    "print (temps)\n",
    "\n",
    "F = map(fahrenheit, temps)\n",
    "C = map(celsius, F)\n",
    "print (F)                    # In Python 3, map() produces a map object, which can be directly iterated.\n",
    "print (C)\n",
    "\n",
    "F = list(map(fahrenheit, temps))\n",
    "C = list(map(celsius, F))   # In Python 3, it is necessary to build a list from the object.\n",
    "print (F)\n",
    "print (C)\n",
    "\n",
    "F = list(map(lambda x: (float(9)/5)*x + 32, temps))\n",
    "print (F)\n",
    "C = list(map(lambda x: (float(5)/9)*(x-32), temps))\n",
    "print (C)\n",
    "\n",
    "# map() can accept multiple iterables as input.\n",
    "a = [1,2,3,4]\n",
    "b = [17,12,11,10]\n",
    "c = [-1,-4,5,9]\n",
    "print (list(map(lambda x,y:x+y, a,b)))\n",
    "print (list(map(lambda x,y,z:x+y+z, a,b,c)))\n",
    "print (list(map(lambda x,y,z:x+y-z, a,b,c)))\n",
    "\n",
    "# map() can accept multiple function definitions as input.\n",
    "def multiply(x):\n",
    "    return (x*x)\n",
    "def add(x):\n",
    "    return (x+x)\n",
    "\n",
    "funcs = [multiply, add]\n",
    "for i in range(5):\n",
    "    value = list(map(lambda x: x(i), funcs))\n",
    "    print(value)"
   ]
  },
  {
   "cell_type": "markdown",
   "metadata": {},
   "source": [
    "### Filter Function\n",
    "The filter() function provides a way to filter a list by some criteria and remove elements based upon the criteria match.\n",
    "\n",
    "In Python 3, the filter() function produces a filter object, which can be directly iterated. If an actual list object is needed, the list() function should be used to build the list from the filter objects.\n"
   ]
  },
  {
   "cell_type": "code",
   "execution_count": 38,
   "metadata": {
    "collapsed": false
   },
   "outputs": [
    {
     "name": "stdout",
     "output_type": "stream",
     "text": [
      "<filter object at 0x0000000004CE3B38>\n",
      "[1, 1, 3, 5, 13, 21, 55]\n",
      "[0, 2, 8, 34]\n"
     ]
    }
   ],
   "source": [
    "# Filter Syntax\n",
    "# result_sequence = filter(boolean_function, input_sequence)\n",
    "#   Example sorting Fibonacci members\n",
    "fibonacci_seq = [0,1,1,2,3,5,8,13,21,34,55]\n",
    "result = filter(lambda x: x % 2, fibonacci_seq)\n",
    "print (result)\n",
    "print(list(result))\n",
    "result = filter(lambda x: x % 2 == 0, fibonacci_seq)\n",
    "print (list(result))"
   ]
  },
  {
   "cell_type": "markdown",
   "metadata": {},
   "source": [
    "### Reduce Function\n",
    "\n",
    "The reduce() function repetitively applies a function to a sequence until the sequence is reduced to a single result.  The simplest example would be a summation function that sums all the elements and arrives at a final total.\n",
    "\n",
    "reduce() is not a built-in function, and must be imported for use.\n"
   ]
  },
  {
   "cell_type": "code",
   "execution_count": 43,
   "metadata": {
    "collapsed": false
   },
   "outputs": [
    {
     "name": "stdout",
     "output_type": "stream",
     "text": [
      "24\n",
      "102\n"
     ]
    }
   ],
   "source": [
    "# Reduce Syntax:\n",
    "# single_result = reduce(function, input_sequence) \n",
    "from functools import reduce\n",
    "print (reduce((lambda x, y: x * y), [1, 2, 3, 4]))\n",
    "\n",
    "# Note conditional structure in lambda expression\n",
    "f = lambda a,b: a if (a > b) else b\n",
    "print (reduce(f, [47,11,42,102,13]))"
   ]
  },
  {
   "cell_type": "markdown",
   "metadata": {},
   "source": [
    "## Printing in Python 3\n",
    "<a id=Printing></a>\n",
    "This demonstrates basic Python results string handling capabilities.  Please see _Python Intermediate Topics Student Notebook_ for a deeper exploration of the FORMAT method.\n",
    "\n",
    "### Printing Results and Variables with Formatting\n",
    "Please see _Python Intermediate Topics Student Notebook_ for a deeper exploration of the FORMAT method.\n",
    "https://docs.python.org/3/library/functions.html?highlight=print#print"
   ]
  },
  {
   "cell_type": "code",
   "execution_count": 1,
   "metadata": {
    "collapsed": false
   },
   "outputs": [
    {
     "name": "stdout",
     "output_type": "stream",
     "text": [
      "['Houston', 'Austin', 'Huston', 'Walnut Creek', 'Kansas City', 'Atlanta']\n",
      "['__add__', '__class__', '__contains__', '__delattr__', '__delitem__', '__dir__', '__doc__', '__eq__', '__format__', '__ge__', '__getattribute__', '__getitem__', '__gt__', '__hash__', '__iadd__', '__imul__', '__init__', '__iter__', '__le__', '__len__', '__lt__', '__mul__', '__ne__', '__new__', '__reduce__', '__reduce_ex__', '__repr__', '__reversed__', '__rmul__', '__setattr__', '__setitem__', '__sizeof__', '__str__', '__subclasshook__', 'append', 'clear', 'copy', 'count', 'extend', 'index', 'insert', 'pop', 'remove', 'reverse', 'sort']\n",
      "<class 'list'>\n",
      "Number is:  25\n",
      "Name is:  Alex\n",
      "Len: 6\n",
      "Min: Atlanta\n",
      "My number is: 25, and my name is: Alex\n",
      "My number is: 25, and my name is: Alex\n",
      "My number is: 25. 'My name is: Alex.  My father's name is Alex.\n"
     ]
    }
   ],
   "source": [
    "early_list = list() #Create empty list\n",
    "early_list = [\"Houston\", \"Austin\", \"Huston\", \"Walnut Creek\", \"Kansas City\", \"Atlanta\"]\n",
    "\n",
    "\n",
    "num = 25\n",
    "name = 'Alex'\n",
    "\n",
    "print ( early_list)\n",
    "print ( dir(early_list))\n",
    "print ( type(early_list))\n",
    "\n",
    "# Perl or script-style printing\n",
    "print ('Number is: ', num)\n",
    "print ('Name is: ', name)\n",
    "\n",
    "# Python string format method printing\n",
    "print ( 'Len: {}'.format(len(early_list))) # Len = element count\n",
    "print ( 'Min: {}'.format(min(early_list))) # Min = alphabettically lowest\n",
    "\n",
    "print('My number is: {}, and my name is: {}'.format(num,name))\n",
    "print('My number is: {one}, and my name is: {two}'.format(one=num,two=name)) # Prevents sequencing issues\n",
    "\n",
    "print('My number is: {one}.'.format(one=num), sep=\"&\", end=\" \") # The separator characters can be changed.\n",
    "print(\"'My name is: {two}.  My father's name is {two}.\".format(two=name)) # Allows variable to be printed multiple times.\n"
   ]
  },
  {
   "cell_type": "markdown",
   "metadata": {},
   "source": [
    "   ### Perl-Style Printing"
   ]
  },
  {
   "cell_type": "code",
   "execution_count": 2,
   "metadata": {
    "collapsed": false
   },
   "outputs": [
    {
     "name": "stdout",
     "output_type": "stream",
     "text": [
      "Number is:  25\n",
      "Name is:  Alex\n",
      "Last Name: Rube First Name:Goldberg\n"
     ]
    }
   ],
   "source": [
    "num = 25\n",
    "name = 'Alex'\n",
    "print ('Number is: ', num)\n",
    "print ('Name is: ', name)\n",
    "\n",
    "a = \"Rube\"\n",
    "b = \"Goldberg\"\n",
    "print (\"Last Name: \"+ a +\" First Name:\"+ b)"
   ]
  },
  {
   "cell_type": "markdown",
   "metadata": {},
   "source": [
    "### My Best Practices for Formatting Output"
   ]
  },
  {
   "cell_type": "code",
   "execution_count": 1,
   "metadata": {
    "collapsed": false
   },
   "outputs": [
    {
     "name": "stdout",
     "output_type": "stream",
     "text": [
      "#=================================================================\n",
      "#-----------------------------------------------------------------\n"
     ]
    }
   ],
   "source": [
    "bar_string = \"#\" + 65*'='   # Multipled string can be multiple character\n",
    "line_string = \"#\" + 65*'-' # Multipled string can be multiple character\n",
    "print (\"#\" + 65*'=')\n",
    "print (\"#\" + 65*'-')"
   ]
  },
  {
   "cell_type": "markdown",
   "metadata": {},
   "source": [
    "## Exception Handling\n",
    "<a id=Exceptions></a>\n",
    "This demonstrates the use of exception handling for standard exceptions.  (No custom or user-defined exceptions.) "
   ]
  },
  {
   "cell_type": "code",
   "execution_count": 17,
   "metadata": {
    "collapsed": false
   },
   "outputs": [
    {
     "name": "stdout",
     "output_type": "stream",
     "text": [
      "\n",
      "First File Read Example\n",
      "Dagnabbit!\n",
      "We're done with this pass.\n",
      "\n",
      "Second File Read Example\n",
      "Dagnabbit!  IO Error!  Exception Message:  [Errno 2] No such file or directory: 'example.txt'\n",
      "We're done with this pass.\n",
      "\n",
      "Third File Read Example\n",
      "We're done with this pass.\n",
      "\n",
      "Fourth File Read Example\n",
      "This would be where we would do clean up in all cases.\n",
      "We're done with this pass.\n",
      "\n",
      "Fourth File Read Example\n",
      "Dagnabbit!  IO Error!  Exception Message:  [Errno 2] No such file or directory: 'example.txt'\n",
      "This would be where we would do clean up in all cases.\n",
      "We're done with this pass.\n",
      "\n",
      "First Expanded Example\n",
      "Dagnabbit!  ZDE Error!  Exception Message:  division by zero\n",
      "This would be where we would do clean up in all cases.\n",
      "We're done with this pass.\n"
     ]
    }
   ],
   "source": [
    "import sys\n",
    "\n",
    "# Simple general exception handling, to catch all errors on file open.\n",
    "print (\"\\nFirst File Read Example\")\n",
    "filename = 'example.txt'\n",
    "try:   \n",
    "    input_file = open(filename, 'r')\n",
    "except:\n",
    "    print (\"Dagnabbit!\")        \n",
    "print (\"We're done with this pass.\")\n",
    "\n",
    "# Simple specific exception handling, with error message capture to catch all errors on file open.\n",
    "print (\"\\nSecond File Read Example\")\n",
    "filename = 'example.txt'\n",
    "try:   \n",
    "    input_file = open(filename, 'r')\n",
    "except IOError as exception_message:\n",
    "    print (\"Dagnabbit!  IO Error!  Exception Message: \", exception_message)        \n",
    "print (\"We're done with this pass.\")\n",
    "\n",
    "# Simple specific exception handling, with error message capture to catch all errors on file open.\n",
    "print (\"\\nThird File Read Example\")\n",
    "filename = 'raven.txt'\n",
    "try:   \n",
    "    input_file = open(filename, 'r')\n",
    "except IOError as exception_message:\n",
    "    print (\"Dagnabbit!  IO Error!  Exception Message: \", exception_message)     \n",
    "else:\n",
    "    data_string = input_file.read()  # Read the contents of the file into single string.\n",
    "print (\"We're done with this pass.\")\n",
    "\n",
    "# Complete TRY construct elements, to deal with errors on file open.\n",
    "print (\"\\nFourth File Read Example\")\n",
    "filename = 'raven.txt'\n",
    "try:   \n",
    "    input_file = open(filename, 'r')\n",
    "except IOError as exception_message:\n",
    "    print (\"Dagnabbit!  IO Error!  Exception Message: \", exception_message)     \n",
    "else:\n",
    "    data_string = input_file.read()  # Read the contents of the file into single string.\n",
    "finally:\n",
    "    print (\"This would be where we would do clean up in all cases.\")\n",
    "print (\"We're done with this pass.\")\n",
    "\n",
    "# Complete TRY construct elements, to deal with errors on file open.\n",
    "print (\"\\nFourth File Read Example\")\n",
    "filename = 'example.txt'\n",
    "try:   \n",
    "    input_file = open(filename, 'r')\n",
    "except IOError as exception_message:\n",
    "    print (\"Dagnabbit!  IO Error!  Exception Message: \", exception_message)     \n",
    "else:\n",
    "    data_string = input_file.read()  # Read the contents of the file into single string.\n",
    "finally:\n",
    "    print (\"This would be where we would do clean up in all cases.\")\n",
    "print (\"We're done with this pass.\")\n",
    "\n",
    "# Complete TRY construct elements, to deal with errors on file open.\n",
    "print (\"\\nFirst Expanded Example\")\n",
    "filename = 'raven.txt'\n",
    "try:   \n",
    "    input_file = open(filename, 'r')\n",
    "    infinity = 1/0\n",
    "except (IOError, FileNotFoundError) as exception_message:                 # Can trap for multiple exceptions\n",
    "    print (\"Dagnabbit!  IO Error!  Exception Message: \", exception_message)     \n",
    "except ZeroDivisionError as exception_message:\n",
    "    print (\"Dagnabbit!  ZDE Error!  Exception Message: \", exception_message) \n",
    "except:                                                                   # Can trap all other exceptions.\n",
    "    print(\"Unexpected error:\", sys.exc_info()[0])\n",
    "else:\n",
    "    data_string = input_file.read()  # Read the contents of the file into single string.\n",
    "    input_file.close\n",
    "finally:\n",
    "    print (\"This would be where we would do clean up in all cases.\")\n",
    "print (\"We're done with this pass.\")"
   ]
  },
  {
   "cell_type": "markdown",
   "metadata": {},
   "source": [
    "## Useful Functions\n",
    "<a id=UsefulFunctions></a>"
   ]
  },
  {
   "cell_type": "markdown",
   "metadata": {},
   "source": [
    "### Functions I Wrote\n",
    "Most of these I brought over from my Perl corpus.  We will see if we really need them much here."
   ]
  },
  {
   "cell_type": "code",
   "execution_count": 6,
   "metadata": {
    "collapsed": true
   },
   "outputs": [],
   "source": [
    "def f_dash_date():\n",
    "    \"Returns a string with the current date in US format separated with dashes.\"\n",
    "    date_string = str(datetime.datetime.now().strftime('%m_%d_%Y'))\n",
    "    return date_string\n",
    "def f_slash_date():\n",
    "    \"Returns a strong with the current date in US format separated with slashes.\"\n",
    "    date_string = str(datetime.datetime.now().strftime('%m/%d/%Y'))\n",
    "    return date_string      \n",
    "def f_dash_timestamp():\n",
    "    \"Returns a string with the current date and time for log entries.\"\n",
    "    date_string = str(datetime.datetime.now().strftime('%m_%d_%Y_%H:%M:%S'))    \n",
    "    return date_string    "
   ]
  },
  {
   "cell_type": "markdown",
   "metadata": {},
   "source": [
    "### Functions I Harvested"
   ]
  },
  {
   "cell_type": "code",
   "execution_count": 2,
   "metadata": {
    "collapsed": false
   },
   "outputs": [],
   "source": [
    "from tkinter import *\n",
    "\n",
    "root = Tk()\n",
    "\n",
    "w = Label(root, text=\"Hello Tkinter!\")\n",
    "w.pack()\n",
    "\n",
    "root.mainloop()"
   ]
  },
  {
   "cell_type": "markdown",
   "metadata": {
    "collapsed": false
   },
   "source": [
    "## Appendix\n",
    "<a id=\"Appendix\"></a>\n",
    "\n",
    "Welcome!  This notebook (and its sisters) was developed for me to practice some Python and data science fundamentals, and for me to explore and notate some interesting tricks, quirks, and lessons learned the hard way.\n",
    "\n",
    "Because I'm a naval history buff, I have occasionally used US naval ship information as practice data.  US naval ships each have a unique identifying \"hull number,\" making it is easy to build many common Python data structures around ship characteristics.  More information about US \"hull numbers\" is available from:\n",
    "\n",
    "http://www.navweaps.com/index_tech/index_ships_list.php\n",
    "\n",
    "### Tell Me I'm an Idiot!\n",
    "I welcome coaching, constructive criticism, and insight into more efficient, effective, or Pythonic ways of accomplishing results!\n",
    "\n",
    "Sincerely,\n",
    "\n",
    "*Carl Gusler*\n",
    "\n",
    "Austin, Texas\n",
    "\n",
    "carl.gusler@gmail.com"
   ]
  },
  {
   "cell_type": "code",
   "execution_count": null,
   "metadata": {
    "collapsed": true
   },
   "outputs": [],
   "source": []
  }
 ],
 "metadata": {
  "anaconda-cloud": {},
  "kernelspec": {
   "display_name": "Python [conda root]",
   "language": "python",
   "name": "conda-root-py"
  },
  "language_info": {
   "codemirror_mode": {
    "name": "ipython",
    "version": 3
   },
   "file_extension": ".py",
   "mimetype": "text/x-python",
   "name": "python",
   "nbconvert_exporter": "python",
   "pygments_lexer": "ipython3",
   "version": "3.5.2"
  }
 },
 "nbformat": 4,
 "nbformat_minor": 1
}
