{
 "cells": [
  {
   "cell_type": "markdown",
   "metadata": {},
   "source": [
    "# Python Student Notebook for Basic Topics\n",
    "\n",
    "A compendium of introductory topics, illustrative examples, best practices, tips and tricks.\n",
    "\n",
    "## Table of Contents\n",
    "\n",
    "+ [Code Formatting](#CodeFormatting)\n",
    "+ [Strings](#Strings)\n",
    "+ [Lists](#Lists)\n",
    "+ [Tuples](#Tuples)\n",
    "+ [Dictionaries](#Dicts)\n",
    "+ [Sets](#Sets)\n",
    "+ [Iterators, Iterables, and Generators](#Iterators)\n",
    "+ [The L Word:  Lambdas, map(), and reduce()](#Lambdas)\n",
    "+ [Printing](#Printing)\n",
    "+ [Useful Functions](#UsefulFunctions)\n",
    "+ [Appendix](#Appendix)"
   ]
  },
  {
   "cell_type": "markdown",
   "metadata": {},
   "source": [
    "## Code Formatting\n",
    "<a id=CodeFormatting></a>\n",
    "https://www.python.org/dev/peps/pep-0008/\n",
    "https://docs.python.org/3/reference/lexical_analysis.html#implicit-line-joining"
   ]
  },
  {
   "cell_type": "code",
   "execution_count": 8,
   "metadata": {
    "collapsed": false
   },
   "outputs": [
    {
     "name": "stdout",
     "output_type": "stream",
     "text": [
      "True!\n"
     ]
    }
   ],
   "source": [
    "# Comment\n",
    "l_string = '''abc\n",
    "                  def'''    #Triple quote captures everything, including LF\n",
    "\n",
    "# Line Continuation with Backslash\n",
    "a = '1' + '2' + '3' + \\\n",
    "    '4' + '5'\n",
    "\n",
    "x = 2     \n",
    "s1 = (x + x**2/2 + x**3/3 +\n",
    "     x**4/4 + x**5/5 +\n",
    "     x**6/6 + x**7/7 +\n",
    "     x**8/8)            \n",
    "\n",
    "# Line Continuation with Open Parentheses #Python allows line continuation within open braces, brackets, parentheses.\n",
    "a = ('1' + '2' + '3' +\n",
    "    '4' + '5')    \n",
    "s2 = (x + x**2/2 + x**3/3 \n",
    "     + x**4/4 + x**5/5 \n",
    "     + x**6/6 + x**7/7 \n",
    "     + x**8/8)     \n",
    "\n",
    "# If Condition Line Continuation with Open Parentheses\n",
    "if (s1 == s2 and s2 >0 and x == 2\n",
    "    and s1 > 0):\n",
    "    print (\"True!\")\n",
    "else:\n",
    "    print (\"False.\")\n",
    "\n",
    "    \n"
   ]
  },
  {
   "cell_type": "markdown",
   "metadata": {},
   "source": [
    "\n",
    "## Strings in Python 3\n",
    "<a id=Strings></a>\n",
    "This demonstrates Python string handling capabilities."
   ]
  },
  {
   "cell_type": "markdown",
   "metadata": {},
   "source": [
    "### Import Supporting Modules\n",
    "The following modules are used to support common string data operations."
   ]
  },
  {
   "cell_type": "code",
   "execution_count": 9,
   "metadata": {
    "collapsed": true
   },
   "outputs": [],
   "source": [
    "import datetime\n",
    "import string"
   ]
  },
  {
   "cell_type": "markdown",
   "metadata": {},
   "source": [
    "### String Generation and Manipulation\n",
    "\n",
    "        For string literals and escape codes, see Python Essnt'l Reference p27\n"
   ]
  },
  {
   "cell_type": "code",
   "execution_count": 10,
   "metadata": {
    "collapsed": false
   },
   "outputs": [
    {
     "name": "stdout",
     "output_type": "stream",
     "text": [
      "#=================================================================\n",
      "#-----------------------------------------------------------------\n",
      "abcdefghijklmnopqrstuvwxyzABCDEFGHIJKLMNOPQRSTUVWXYZ\n",
      "0123456789\n",
      "!\"#$%&'()*+,-./:;<=>?@[\\]^_`{|}~\n"
     ]
    }
   ],
   "source": [
    "l_string = '''abc\n",
    "                  def'''    #Triple quote captures everything, including LF\n",
    "bar_string = \"#\" + 65*'='   # Multipled string can be multiple character\n",
    "line_string = \"#\" + 65*'-' # Multipled string can be multiple character\n",
    "print (bar_string)\n",
    "print (line_string)\n",
    "\n",
    "print (string.ascii_letters)      # Requires STRING library/module\n",
    "print (string.digits)      # Requires STRING library/module\n",
    "print (string.punctuation)      # Requires STRING library/module\n",
    "\n",
    "#   l_string =  \"Tennessee\"\n",
    "# Forward Index  012345678\n",
    "# Reverse Index -987654321 "
   ]
  },
  {
   "cell_type": "markdown",
   "metadata": {},
   "source": [
    "### Conversion to Strings\n",
    "  The goal of STR is to be readable.\n",
    "  The goal of REPR is to be unambiguous."
   ]
  },
  {
   "cell_type": "code",
   "execution_count": 11,
   "metadata": {
    "collapsed": false
   },
   "outputs": [
    {
     "name": "stdout",
     "output_type": "stream",
     "text": [
      "<class 'str'>\n",
      "['Indiana', 'Montana', 'Carolina', 'Iowa']\n",
      "42\n",
      "<class 'str'>\n",
      "('Houston', 'Austin', 'Houston', 'Walnut Creek', 'Kansas City', 'Atlanta')\n",
      "74\n",
      "<class 'str'>\n",
      "{'cedar', 'oak', 'pine', 'walnut', 'pecan', 'cypress'}\n",
      "54\n",
      "<class 'str'>\n",
      "{'DD985': 'Cushing', 'DD263': 'Spruance'}\n",
      "41\n"
     ]
    }
   ],
   "source": [
    "name_list = [\"Indiana\", \"Montana\",\"Carolina\",\"Iowa\"]   \n",
    "name_string = str(name_list) # Converts list to string, brackets and all\n",
    "print ( type(name_string))\n",
    "print (name_string)\n",
    "print (len(name_string))\n",
    "\n",
    "early_tuple = (\"Houston\", \"Austin\", \"Houston\", \"Walnut Creek\", \"Kansas City\", \"Atlanta\")\n",
    "early_string = str(early_tuple) # Converts tuple to string, brackets and all\n",
    "print ( type(early_string))\n",
    "print (early_string)\n",
    "print (len(early_string))\n",
    "\n",
    "tree_set = {\"oak\", \"pine\", \"cypress\", \"cedar\", \"pecan\", \"walnut\"}\n",
    "tree_string = str(tree_set)  # Converts set to string, brackets and all\n",
    "print ( type(tree_string) )\n",
    "print (tree_string)\n",
    "print (len(tree_string))   \n",
    "\n",
    "#  Convert dictionary to string.  Watch out for change in dict syntax!\n",
    "destroyer_dict = dict(DD263=\"Spruance\", DD985=\"Cushing\")\n",
    "destroyer_string = str(destroyer_dict) # Converts dict to string, brackets and all\n",
    "print (type(destroyer_string))\n",
    "print (destroyer_string)\n",
    "print (len(destroyer_string))      "
   ]
  },
  {
   "cell_type": "markdown",
   "metadata": {},
   "source": [
    "### String Functions"
   ]
  },
  {
   "cell_type": "code",
   "execution_count": 12,
   "metadata": {
    "collapsed": false
   },
   "outputs": [
    {
     "name": "stdout",
     "output_type": "stream",
     "text": [
      "['__add__', '__class__', '__contains__', '__delattr__', '__dir__', '__doc__', '__eq__', '__format__', '__ge__', '__getattribute__', '__getitem__', '__getnewargs__', '__gt__', '__hash__', '__init__', '__iter__', '__le__', '__len__', '__lt__', '__mod__', '__mul__', '__ne__', '__new__', '__reduce__', '__reduce_ex__', '__repr__', '__rmod__', '__rmul__', '__setattr__', '__sizeof__', '__str__', '__subclasshook__', 'capitalize', 'casefold', 'center', 'count', 'encode', 'endswith', 'expandtabs', 'find', 'format', 'format_map', 'index', 'isalnum', 'isalpha', 'isdecimal', 'isdigit', 'isidentifier', 'islower', 'isnumeric', 'isprintable', 'isspace', 'istitle', 'isupper', 'join', 'ljust', 'lower', 'lstrip', 'maketrans', 'partition', 'replace', 'rfind', 'rindex', 'rjust', 'rpartition', 'rsplit', 'rstrip', 'split', 'splitlines', 'startswith', 'strip', 'swapcase', 'title', 'translate', 'upper', 'zfill']\n",
      "<class 'str'>\n",
      "Len: 25\n",
      "Min: \n",
      "\n",
      "Max: f\n",
      "3.1415926\n"
     ]
    }
   ],
   "source": [
    "print ( dir(l_string))\n",
    "print ( type(l_string))\n",
    "print ( 'Len: {}'.format(len(l_string))) # Len = character count\n",
    "print ( 'Min: {}'.format(min(l_string))) # Min = alphabettically lowest\n",
    "print ( 'Max: {}'.format(max(l_string))) # Max = alphabettically highest\n",
    "                                         # Case matters!\n",
    "print ( str(3.1415926))        # Convert numbers to strings before print   "
   ]
  },
  {
   "cell_type": "markdown",
   "metadata": {},
   "source": [
    "### String Indexing, Slicing, and Manipulation"
   ]
  },
  {
   "cell_type": "code",
   "execution_count": 13,
   "metadata": {
    "collapsed": false
   },
   "outputs": [
    {
     "name": "stdout",
     "output_type": "stream",
     "text": [
      "ab\n",
      "\n",
      "  \n",
      "  \n",
      "\n",
      ">>>\n",
      "abc\n",
      "                  d\n",
      "                 def\n",
      "abc\n",
      "abc\n",
      "                  def\n"
     ]
    }
   ],
   "source": [
    "#       for any index n, s[:n] + s[n:] == s\n",
    "\n",
    "print ( l_string[0:2])    # Slice end value is non-inclusive!\n",
    "\n",
    "print ( l_string[-1:-3])    # Slice always works from left to right!\n",
    "print ( l_string[-5:-3])    # Reverse slice requires negative range\n",
    "print ( l_string[5:2:-1])    # Reverse step requires negative range\n",
    "\n",
    "print ( \">>>\")            \n",
    "print ( l_string[0:-2])    # Slice end value is non-inclusive, forward or back!\n",
    "\n",
    "print ( l_string[5:])    # Slice to end, inclusive\n",
    "print ( l_string[:3])    # Slice from beginning\n",
    "print ( l_string[:])    # Slice everything"
   ]
  },
  {
   "cell_type": "markdown",
   "metadata": {},
   "source": [
    "### String Methods\n",
    "There are a very large number of string methods available.  Here are some typical, useful, and unusual ones.\n",
    "https://docs.python.org/3/library/stdtypes.html#string-methods"
   ]
  },
  {
   "cell_type": "code",
   "execution_count": 14,
   "metadata": {
    "collapsed": false
   },
   "outputs": [
    {
     "name": "stdout",
     "output_type": "stream",
     "text": [
      "  Now is the time for all good men to come to the aid of their country.  England expects every man to do his duty!  \n",
      "  now is the time for all good men to come to the aid of their country.  england expects every man to do his duty!  \n",
      "  now is the time for all good men to come to the aid of their country.  england expects every man to do his duty!  \n",
      "  Now Is The Time For All Good Men To Come To The Aid Of Their Country.  England Expects Every Man To Do His Duty!  \n",
      "Now is the time for all good men to come to the aid of their country.  England expects every man to do his duty!\n",
      "  nOW IS THE TIME FOR ALL GOOD MEN TO COME TO THE AID OF THEIR COUNTRY.  eNGLAND EXPECTS EVERY MAN TO DO HIS DUTY!  \n",
      "['Now', 'is', 'the', 'time', 'for', 'all', 'good', 'men', 'to', 'come', 'to', 'the', 'aid', 'of', 'their', 'country.', 'England', 'expects', 'every', 'man', 'to', 'do', 'his', 'duty!']\n",
      "['  Now is the time for all good men to come to the aid of their country', '  England expects every man to do his duty!  ']\n",
      "  England expects every man to do his duty!  \n",
      "iNows\n",
      "Now>is>the>time>for>all>good>men>to>come>to>the>aid>of>their>country.>England>expects>every>man>to>do>his>duty!\n",
      "Now is the time for all good men to come to the aid of their country. England expects every man to do his duty!\n",
      "False\n",
      "False\n",
      "False\n",
      "False\n",
      "False\n",
      "False\n",
      "False\n",
      "True\n",
      "False\n",
      "False\n",
      "True\n",
      "False\n"
     ]
    }
   ],
   "source": [
    "#       \n",
    "phrase = \"  Now is the time for all good men to come to the aid of their country.  England expects every man to do his duty!  \"\n",
    "print (phrase)\n",
    "print (phrase.capitalize())    #Don't forget the parentheses on the method!\n",
    "print (phrase.casefold())   \n",
    "print (phrase.title())   \n",
    "print (phrase.strip())   \n",
    "print (phrase.swapcase())   \n",
    "print (phrase.split())          # Returns a list of a couple dozen\n",
    "print (phrase.split('.'))          # Returns a list of two\n",
    "print (phrase.split('.')[1])\n",
    "print (phrase.split()[0].join(phrase.split()[1]))\n",
    "print ('>'.join(phrase.split()))\n",
    "print (' '.join(phrase.split()))   # Put Humpty Dumpty back together again with spaces between\n",
    "\n",
    "print (phrase.isalnum())    \n",
    "print (phrase.isalpha())    \n",
    "print (phrase.isdecimal())  \n",
    "print (phrase.isdigit())  \n",
    "print (phrase.isidentifier())  \n",
    "print (phrase.islower())  \n",
    "print (phrase.isnumeric())\n",
    "print (phrase.isprintable())\n",
    "print (phrase.isspace())\n",
    "print (phrase.istitle())\n",
    "print ((phrase.title().istitle()))\n",
    "print (phrase.isupper())\n"
   ]
  },
  {
   "cell_type": "markdown",
   "metadata": {},
   "source": [
    "### String Techniques"
   ]
  },
  {
   "cell_type": "code",
   "execution_count": null,
   "metadata": {
    "collapsed": true
   },
   "outputs": [],
   "source": [
    "\n"
   ]
  },
  {
   "cell_type": "raw",
   "metadata": {
    "collapsed": true
   },
   "source": [
    "def tunction\n",
    "    duct - 5\n",
    "    minuserate\n"
   ]
  },
  {
   "cell_type": "markdown",
   "metadata": {
    "collapsed": true
   },
   "source": [
    "# "
   ]
  },
  {
   "cell_type": "markdown",
   "metadata": {},
   "source": [
    "## Lists in Python 3\n",
    "<a id=Lists></a>\n",
    "This demonstrates basic Python list management capabilities.\n",
    "\n",
    "### List Generation"
   ]
  },
  {
   "cell_type": "code",
   "execution_count": 15,
   "metadata": {
    "collapsed": true
   },
   "outputs": [],
   "source": [
    "early_list = []     #Create empty list\n",
    "early_list = list() #Create empty list\n",
    "early_list = [\"Houston\", \"Austin\", \"Huston\", \"Walnut Creek\", \"Kansas City\", \"Atlanta\"]\n",
    "\n",
    "#   early_list = [\"Houston\", \"Austin\", \"Huston\", \"Walnut Creek\", \"Kansas City\", \"Atlanta\"]\n",
    "# Forward Index = 0          1         2          3               4              5 \n",
    "# Reverse Index = -6          -5        -4         -3              -2             -1 \n",
    "\n",
    "hull_list = [\"BB50\", \"BB51\",\"BB52\",\"BB53\"]\n",
    "name_list = [\"Indiana\", \"Montana\",\"Carolina\",\"Iowa\"]\n",
    "\n",
    "matrix = [\n",
    "    [1, 2, 3, 4],\n",
    "    [5, 6, 7, 8],\n",
    "    [9, 10, 11, 12],\n",
    "]              "
   ]
  },
  {
   "cell_type": "markdown",
   "metadata": {},
   "source": [
    "### List Variables\n",
    "Python variables work differently than other popular languages in both scope and another aspect of variable naming.\n",
    "There is a good chance the variable naming characteristic will eventually bite you when you aren't paying attention to \"variable assignment.\"  List variables can especially surprise the unwary.  In Python, variables are names bound to objects, which makes \"variable assignment\" different than in other languages.  As objects, sometimes Python variables can seem to appear to behave as pointers, with different variables seeming to \"point\" to the same object.\n",
    "\n",
    "For deeper insight:\n",
    "\n",
    "http://scottlobdell.me/2013/08/understanding-python-variables-as-pointers/\n",
    "\n",
    "http://henry.precheur.org/python/copy_list"
   ]
  },
  {
   "cell_type": "code",
   "execution_count": 16,
   "metadata": {
    "collapsed": false
   },
   "outputs": [
    {
     "name": "stdout",
     "output_type": "stream",
     "text": [
      "5\n",
      "5\n",
      "1742471792\n",
      "1742471792\n",
      "#-----------------------------------------------------------------\n",
      "5\n",
      "12\n",
      "1742471792\n",
      "1742472016\n",
      "#=================================================================\n",
      "['apple', 'pear', 'banana']\n",
      "['apple', 'pear', 'banana']\n",
      "80053064\n",
      "80053064\n",
      "#-----------------------------------------------------------------\n",
      "['apple', 'pear', 'banana', 'carrot']\n",
      "['apple', 'pear', 'banana', 'carrot']\n",
      "80053064\n",
      "80053064\n",
      "#=================================================================\n",
      "['water', 'tea', 'milk']\n",
      "['water', 'tea', 'milk']\n",
      "80037832\n",
      "80552392\n",
      "#-----------------------------------------------------------------\n",
      "['water', 'tea', 'milk']\n",
      "['water', 'tea', 'milk', 'tequila']\n"
     ]
    }
   ],
   "source": [
    "a = 5           #First:  variable assignment with simple integers\n",
    "b = a\n",
    "print (a)\n",
    "print (b)\n",
    "print (id(a))\n",
    "print (id(b))    #They are the same object!\n",
    "print (line_string)\n",
    "b = 12\n",
    "print (a)\n",
    "print (b)\n",
    "print (id(a))\n",
    "print (id(b))    #They are NO LONGER the same object!\n",
    "print (bar_string)\n",
    "a = [\"apple\", \"pear\", \"banana\"]    #Second:  variable assignment with lists\n",
    "b = a            #This may not do what you think it does!\n",
    "print (a)\n",
    "print (b)\n",
    "print (id(a))\n",
    "print (id(b))    #They are the same object!\n",
    "print (line_string)\n",
    "b.append(\"carrot\")\n",
    "print (a)        #What the heck?!  Where did that carrot come from?\n",
    "print (b)\n",
    "print (id(a))\n",
    "print (id(b))    #They are STILL the SAME object!\n",
    "print (bar_string)\n",
    "#    If you wanted to make a COPY of another list for separate manipulation, here is what you wanted:\n",
    "a = [\"water\", \"tea\", \"milk\"]    \n",
    "b = list(a)            #This does the copy you are looking for.\n",
    "print (a)\n",
    "print (b)\n",
    "print (id(a))\n",
    "print (id(b))    #They are the NOT same object!\n",
    "print (line_string)\n",
    "b.append(\"tequila\")\n",
    "print (a)        #Much better\n",
    "print (b)"
   ]
  },
  {
   "cell_type": "markdown",
   "metadata": {},
   "source": [
    "### Conversion to Lists\n"
   ]
  },
  {
   "cell_type": "code",
   "execution_count": 17,
   "metadata": {
    "collapsed": false
   },
   "outputs": [
    {
     "name": "stdout",
     "output_type": "stream",
     "text": [
      "['0', '1', '2', '3', '4', '5', '6', '7', '8', '9']\n",
      "#-----------------------------------------------------------------\n",
      "['Only']\n",
      "[]\n",
      "['Houston', 'Austin', 'Houston', 'Walnut Creek', 'Kansas City', 'Atlanta']\n",
      "#-----------------------------------------------------------------\n",
      "['FFG54', 'FFG31', 'FFG60', 'FFG56']\n",
      "#-----------------------------------------------------------------\n",
      "['BB56', 'BB61', 'BB33', 'BB45', 'BB35']\n",
      "#-----------------------------------------------------------------\n"
     ]
    }
   ],
   "source": [
    "# Converting Strings to Lists\n",
    "num_string = string.digits \n",
    "num_list = list(num_string)\n",
    "print (num_list)\n",
    "print (\"#\" + 65*'-')\n",
    "\n",
    "# Converting Tuples to Lists\n",
    "singleton_tuple = (\"Only\",)  # Note trailing comma\n",
    "test_list = list(singleton_tuple)\n",
    "print (test_list)\n",
    "\n",
    "early_tuple = tuple() #Create empty Tuple\n",
    "test_list = list(early_tuple)\n",
    "print (test_list)\n",
    "\n",
    "early_tuple = (\"Houston\", \"Austin\", \"Houston\", \"Walnut Creek\", \"Kansas City\", \"Atlanta\")\n",
    "test_list = list(early_tuple)\n",
    "print (test_list)\n",
    "print (\"#\" + 65*'-')\n",
    "\n",
    "# Converting Dictionaries to Lists\n",
    "frigate_dict = {\"FFG54\":\"Ford\", \"FFG60\":\"Davis\", \"FFG31\":\"Stark\", \"FFG56\":\"Simpson\"}\n",
    "test_list = list(frigate_dict)\n",
    "print (test_list)\n",
    "print (\"#\" + 65*'-')\n",
    "\n",
    "battleship_dict_in_dict = {\"BB35\":{\"name\":\"Texas\", \"length\":573, \"guns\":10},\n",
    "    \"BB61\":{\"name\":\"Iowa\", \"length\":887, \"guns\":9},\n",
    "    \"BB56\":{\"name\":\"Alaska\", \"length\":729, \"guns\":12},                               \n",
    "    \"BB33\":{\"name\":\"Arkansas\", \"length\":562, \"guns\":12},                               \n",
    "    \"BB45\":{\"name\":\"Colorado\", \"length\":624, \"guns\":8}\n",
    "    }\n",
    "test_list = list(battleship_dict_in_dict)  # Note that lower levels of nesting are lost.  It is just a dict.\n",
    "print (test_list)\n",
    "print (\"#\" + 65*'-')\n",
    "\n"
   ]
  },
  {
   "cell_type": "markdown",
   "metadata": {},
   "source": [
    "### List Functions"
   ]
  },
  {
   "cell_type": "code",
   "execution_count": 18,
   "metadata": {
    "collapsed": false
   },
   "outputs": [
    {
     "name": "stdout",
     "output_type": "stream",
     "text": [
      "['__add__', '__class__', '__contains__', '__delattr__', '__delitem__', '__dir__', '__doc__', '__eq__', '__format__', '__ge__', '__getattribute__', '__getitem__', '__gt__', '__hash__', '__iadd__', '__imul__', '__init__', '__iter__', '__le__', '__len__', '__lt__', '__mul__', '__ne__', '__new__', '__reduce__', '__reduce_ex__', '__repr__', '__reversed__', '__rmul__', '__setattr__', '__setitem__', '__sizeof__', '__str__', '__subclasshook__', 'append', 'clear', 'copy', 'count', 'extend', 'index', 'insert', 'pop', 'remove', 'reverse', 'sort']\n",
      "<class 'list'>\n",
      "#-----------------------------------------------------------------\n",
      "Len: 6\n",
      "Min: Atlanta\n",
      "Max: Walnut Creek\n",
      "[('BB50', 'Indiana'), ('BB51', 'Montana'), ('BB52', 'Carolina'), ('BB53', 'Iowa')]\n",
      "[(1, 'Houston'), (2, 'Austin'), (3, 'Huston'), (4, 'Walnut Creek'), (5, 'Kansas City'), (6, 'Atlanta')]\n"
     ]
    }
   ],
   "source": [
    "print ( dir(early_list))\n",
    "print ( type(early_list))\n",
    "print (line_string)\n",
    "print ( 'Len: {}'.format(len(early_list))) # Len = element count\n",
    "print ( 'Min: {}'.format(min(early_list))) # Min = alphabettically lowest\n",
    "print ( 'Max: {}'.format(max(early_list))) # Max = alphabettically highest\n",
    "\n",
    "# ZIP creates a ZIP object, which can be converted into a list of tuples\n",
    "ship_tuple_list = list(zip(hull_list, name_list))\n",
    "print ( ship_tuple_list)\n",
    "\n",
    "# The ENUMERATE function is used to expand a list with an embedded index\n",
    "numbered_list = list(enumerate(early_list, start=1))\n",
    "print (numbered_list)"
   ]
  },
  {
   "cell_type": "markdown",
   "metadata": {},
   "source": [
    "### List Indexing, Slicing, and Manipulation"
   ]
  },
  {
   "cell_type": "code",
   "execution_count": 19,
   "metadata": {
    "collapsed": false
   },
   "outputs": [
    {
     "name": "stdout",
     "output_type": "stream",
     "text": [
      "['Houston', 'Austin']\n",
      "[]\n",
      "['Austin', 'Huston']\n",
      "['Atlanta', 'Kansas City', 'Walnut Creek']\n",
      ">>>\n",
      "['Houston', 'Austin', 'Huston', 'Walnut Creek']\n",
      "['Atlanta']\n",
      "['Houston', 'Austin', 'Huston']\n",
      "['Houston', 'Austin', 'Huston', 'Walnut Creek', 'Kansas City', 'Atlanta']\n"
     ]
    }
   ],
   "source": [
    "print ( early_list[0:2])    # Slice end value is non-inclusive!\n",
    "\n",
    "print ( early_list[-1:-3])    # Slice always works from left to right!\n",
    "print ( early_list[-5:-3])    # Reverse slice requires negative range\n",
    "print ( early_list[5:2:-1])    # Reverse step requires negative range\n",
    "\n",
    "print ( \">>>\")            \n",
    "print ( early_list[0:-2])    # Slice end value is non-inclusive, forward or back!\n",
    "\n",
    "print ( early_list[5:])    # Slice to end, inclusive\n",
    "print ( early_list[:3])    # Slice from beginning\n",
    "print ( early_list[:])    # Slice everything\n",
    "early_list[2] = \"Houston\"   #List item replacement   "
   ]
  },
  {
   "cell_type": "markdown",
   "metadata": {},
   "source": [
    "### List Methods - Selected simple representational methods"
   ]
  },
  {
   "cell_type": "code",
   "execution_count": 20,
   "metadata": {
    "collapsed": false
   },
   "outputs": [
    {
     "name": "stdout",
     "output_type": "stream",
     "text": [
      "['Houston', 'Austin', 'Huston', 'Walnut Creek', 'Kansas City', 'Atlanta', 'Boca Raton', 'Omaha']\n",
      "['Houston', 'Austin', 'Huston', 'Walnut Creek', 'Kansas City', 'Atlanta', 'Boca Raton', 'Omaha', 'S', 'h', 'a', 'w', 'n', 'e', 'e']\n",
      "['Houston', 'Austin', 'Huston', 'Walnut Creek', 'Kansas City', 'Atlanta', 'Boca Raton', 'Omaha', 'S', 'h', 'a', 'w', 'n', 'e', 'e', 'Shawnee']\n",
      "['Houston', 'Austin', 'Huston', 'Walnut Creek', 'Kansas City', 'Atlanta', 'Boca Raton', 'Omaha']\n",
      "['Houston', 'Austin', 'Huston', 'Walnut Creek', 'Kansas City', 'Atlanta', 'Boca Raton']\n",
      "['Houston', 'Austin', 'Tucson', 'Huston', 'Walnut Creek', 'Kansas City', 'Atlanta', 'Boca Raton']\n",
      "#-----------------------------------------------------------------\n",
      "0\n",
      "1\n",
      "9\n",
      "9\n",
      "#-----------------------------------------------------------------\n",
      "['Houston', 'Austin', 'Huston', 'Walnut Creek', 'Kansas City', 'Atlanta', 'Boca Raton', 'Austin', 'Jollyville']\n",
      "#-----------------------------------------------------------------\n",
      "#=================================================================\n",
      "#-----------------------------------------------------------------\n",
      "['Jollyville', 'Austin', 'Boca Raton', 'Atlanta', 'Kansas City', 'Walnut Creek', 'Huston', 'Austin', 'Houston']\n",
      "['Atlanta', 'Austin', 'Austin', 'Boca Raton', 'Houston', 'Huston', 'Jollyville', 'Kansas City', 'Walnut Creek']\n",
      "#-----------------------------------------------------------------\n",
      "[1, 2, 3, [4, 5, ['target']]]\n",
      "[4, 5, ['target']]\n",
      "['target']\n",
      "target\n",
      "['xyz', 'abc', 'zara', 'xyz', 123]\n"
     ]
    }
   ],
   "source": [
    "early_list = [\"Houston\", \"Austin\", \"Huston\", \"Walnut Creek\", \"Kansas City\", \"Atlanta\"]\n",
    "early_list.append(\"Boca Raton\")    #note parenthesis\n",
    "early_list.append(\"Omaha\")    #note parenthesis\n",
    "print ( early_list)\n",
    "\n",
    "extend_test_string = list(early_list)   #NOTE!  This is how you duplicate a list to another variable\n",
    "extend_test_string.extend(\"Shawnee\")\n",
    "print (extend_test_string)     #Note how extend disassembles string\n",
    "extend_test_string.extend([\"Shawnee\"])\n",
    "print (extend_test_string)     #Note how extend does not disassemble a list\n",
    "\n",
    "print ( early_list)            \n",
    "del early_list[-1]            # Item can be removed by index (or by value - see below)\n",
    "print ( early_list)\n",
    "\n",
    "early_list.insert(2, \"Tucson\")\n",
    "print ( early_list)\n",
    "early_list.remove(\"Tucson\")   # Item can be removed by value (or by index - see above)\n",
    "early_list.extend([\"Austin\", \"Jollyville\"])     # Note adding a list, not just adding elements.\n",
    "\n",
    "print (line_string)\n",
    "birth = early_list.index(\"Houston\")\n",
    "print (birth)\n",
    "first_return = early_list.count(\"Houston\")\n",
    "print (first_return)\n",
    "dupl_list = early_list.copy()   #Watch out for shallow and deep copies!   \n",
    "print (len(early_list))\n",
    "print (len(dupl_list))\n",
    "\n",
    "print (line_string)\n",
    "print ( early_list)\n",
    "print (line_string)\n",
    "print (bar_string)\n",
    "\n",
    "early_list.reverse()\n",
    "print (line_string)\n",
    "print ( early_list)\n",
    "early_list.sort()  # Method permanently changes the list\n",
    "print ( early_list)\n",
    "\n",
    "print (line_string)\n",
    "nest = [1,2,3,[4,5,['target']]]\n",
    "print (nest)\n",
    "print (nest[3])\n",
    "print (nest[3][2])      # The last element is still a list!  (With one element)\n",
    "print (nest[3][2][0])   # Selecting the element and not the short list!\n",
    "\n",
    "aList = [123, 'xyz', 'zara', 'abc', 'xyz'];\n",
    "\n",
    "aList.reverse();\n",
    "print (aList)"
   ]
  },
  {
   "cell_type": "markdown",
   "metadata": {},
   "source": [
    "### List Comprehensions\n",
    "Build complex lists with a single line of code.  Could have been more accurately called \"List Constructors.\"\n",
    "Can also be seen as a way to transform one list into another list.  From coding perspective, this is just \"flattening\" one or more nested loops into a single line of code.  This enables lists to bee built using any iterable, including strings and tuples.\n",
    "+ Can use an existing list to construct a new list.\n",
    "+ Can be nested.\n",
    "+ Can mix different types of data within the list (as with any list.)\n",
    "\n",
    "The programmer can frequently accomplish the same thing with map() and a lambda function. However, there are cases when programmer cannot use map() and will have to use a list comprehension, or vice versa. When code logic could use either, then it can often be  preferable to use a list comprehension, because that approach can be more efficient and easier to read.\n",
    "\n",
    "The programmer cannot use list comprehensions when the construction rule is too complicated to be expressed with \"for\" and \"if\" statements, or if the construction rule can change dynamically at runtime. In this case, coder may use map() and / or filter() with an appropriate function. "
   ]
  },
  {
   "cell_type": "code",
   "execution_count": 21,
   "metadata": {
    "collapsed": false
   },
   "outputs": [
    {
     "name": "stdout",
     "output_type": "stream",
     "text": [
      "[2, 3, 4, 6, 8, 12, 14]\n",
      "[2, 4, 6, 8, 12, 14]\n",
      "['3.1', '3.14', '3.142', '3.1416', '3.14159']\n",
      "[[1, 2, 3, 4], [5, 6, 7, 8], [9, 10, 11, 12]]\n",
      "[[1, 5, 9], [2, 6, 10], [3, 7, 11], [4, 8, 12]]\n",
      "<map object at 0x0000000004CCE9B0>\n",
      "[2, 6, 10, 14, 22]\n"
     ]
    }
   ],
   "source": [
    "prime_list = [1,2,3,5,7,11]\n",
    "prime_incr_list = [n+1 for n in [1,2,3,5,7,11,13]]    \n",
    "print (prime_incr_list)\n",
    "even_prime_incr_list = [n+1 for n in [1,2,3,5,7,11,13] if (n+1)%2==0]\n",
    "print (even_prime_incr_list)\n",
    "\n",
    "PI = 3.1415926\n",
    "print ([str(round(PI, i)) for i in range(1, 6)])    #RANGE is your friend in list comprehensions!\n",
    "\n",
    "print (matrix)\n",
    "print ([[row[i] for row in matrix] for i in range(4)])  # Nested\n",
    "\n",
    "doubled_primes = map(lambda n: n * 2, filter(lambda n: n % 2 == 1, prime_list))\n",
    "print (doubled_primes)\n",
    "doubled_primes = [n * 2 for n in prime_list if n % 2 == 1]\n",
    "print (doubled_primes)"
   ]
  },
  {
   "cell_type": "markdown",
   "metadata": {},
   "source": [
    "### List Traversing and Looping"
   ]
  },
  {
   "cell_type": "code",
   "execution_count": 22,
   "metadata": {
    "collapsed": false
   },
   "outputs": [
    {
     "name": "stdout",
     "output_type": "stream",
     "text": [
      "0 tic\n",
      "1 tac\n",
      "2 toe\n",
      "<enumerate object at 0x0000000004CCA5E8>\n"
     ]
    },
    {
     "data": {
      "text/plain": [
       "[(0, 'tic'), (1, 'tac'), (2, 'toe')]"
      ]
     },
     "execution_count": 22,
     "metadata": {},
     "output_type": "execute_result"
    }
   ],
   "source": [
    "for i, v in enumerate(['tic', 'tac', 'toe']):\n",
    "    print(i, v)\n",
    "    \n",
    "print (enumerate(['tic', 'tac', 'toe']))  # The enumerate object is an iterator of a list of tuples\n",
    "list(enumerate(['tic', 'tac', 'toe']))"
   ]
  },
  {
   "cell_type": "markdown",
   "metadata": {},
   "source": [
    "### List Techniques"
   ]
  },
  {
   "cell_type": "code",
   "execution_count": 23,
   "metadata": {
    "collapsed": false
   },
   "outputs": [
    {
     "name": "stdout",
     "output_type": "stream",
     "text": [
      "['Walnut Creek', 'Huston', 'Kansas City', 'Jollyville', 'Houston', 'Boca Raton', 'Austin', 'Atlanta']\n"
     ]
    }
   ],
   "source": [
    "# Convert list with redundant entries into list of unique entries by passing through a set\n",
    "unique_list = list(set(early_list))  # May destroy sort order\n",
    "print (unique_list)"
   ]
  },
  {
   "cell_type": "markdown",
   "metadata": {},
   "source": [
    "## Tuples in Python 3\n",
    "<a id=Tuples></a>\n",
    "This demonstrates basic Python tuple management capabilities.\n",
    "\n",
    "### Tuple Generation"
   ]
  },
  {
   "cell_type": "code",
   "execution_count": 24,
   "metadata": {
    "collapsed": false
   },
   "outputs": [
    {
     "name": "stdout",
     "output_type": "stream",
     "text": [
      "<class 'tuple'>\n"
     ]
    }
   ],
   "source": [
    "singleton_tuple = (\"Only\",)  # Note trailing comma\n",
    "print ( type(singleton_tuple))\n",
    "early_tuple = ()     #Create empty tuple\n",
    "early_tuple = tuple() #Create empty Tuple\n",
    "early_tuple = (\"Houston\", \"Austin\", \"Houston\", \"Walnut Creek\", \"Kansas City\", \"Atlanta\")\n",
    "    \n",
    "# Forward Index = 0          1         2          3               4              5 \n",
    "# Reverse Index = -6          -5        -4         -3              -2             -1 "
   ]
  },
  {
   "cell_type": "markdown",
   "metadata": {},
   "source": [
    "### Tuple Variables\n",
    "Tuples have the same \"variable assignment\" behavior as the other Python objects.  However, this may be less of an issue since tuples are immutable and not vulnerable to the issue of changing a copy."
   ]
  },
  {
   "cell_type": "code",
   "execution_count": 25,
   "metadata": {
    "collapsed": false
   },
   "outputs": [
    {
     "name": "stdout",
     "output_type": "stream",
     "text": [
      "78506408\n",
      "78506408\n"
     ]
    }
   ],
   "source": [
    "a = (\"Houston\", \"Austin\", \"Houston\", \"Walnut Creek\", \"Kansas City\", \"Atlanta\")\n",
    "b = a\n",
    "print (id(a))\n",
    "print (id(b))   #Note that these are both the same object."
   ]
  },
  {
   "cell_type": "markdown",
   "metadata": {},
   "source": [
    "### Tuple Functions"
   ]
  },
  {
   "cell_type": "code",
   "execution_count": 26,
   "metadata": {
    "collapsed": false
   },
   "outputs": [
    {
     "name": "stdout",
     "output_type": "stream",
     "text": [
      "['__add__', '__class__', '__contains__', '__delattr__', '__dir__', '__doc__', '__eq__', '__format__', '__ge__', '__getattribute__', '__getitem__', '__getnewargs__', '__gt__', '__hash__', '__init__', '__iter__', '__le__', '__len__', '__lt__', '__mul__', '__ne__', '__new__', '__reduce__', '__reduce_ex__', '__repr__', '__rmul__', '__setattr__', '__sizeof__', '__str__', '__subclasshook__', 'count', 'index']\n",
      "<class 'tuple'>\n",
      "Len: 6\n",
      "Min: Atlanta\n",
      "Max: Walnut Creek\n",
      "Max:   Walnut Creek\n"
     ]
    }
   ],
   "source": [
    "print ( dir(early_tuple))\n",
    "print ( type(early_tuple))\n",
    "print ( 'Len: {}'.format(len(early_tuple))) # Len = element count\n",
    "print ( 'Min: {}'.format(min(early_tuple))) # Min = alphabettically lowest\n",
    "print ( 'Max: {}'.format(max(early_tuple))) # Max = alphabettically highest\n",
    "print ( \"Max:  \", max(early_tuple))"
   ]
  },
  {
   "cell_type": "markdown",
   "metadata": {},
   "source": [
    " ### Tuple Indexing, Slicing, and Manipulation"
   ]
  },
  {
   "cell_type": "code",
   "execution_count": 27,
   "metadata": {
    "collapsed": false
   },
   "outputs": [
    {
     "name": "stdout",
     "output_type": "stream",
     "text": [
      "('Houston', 'Austin')\n",
      "()\n",
      "('Austin', 'Houston')\n",
      "('Atlanta', 'Kansas City', 'Walnut Creek')\n",
      ">>>\n",
      "('Houston', 'Austin', 'Houston', 'Walnut Creek')\n",
      "('Atlanta',)\n",
      "('Houston', 'Austin', 'Houston')\n",
      "('Houston', 'Austin', 'Houston', 'Walnut Creek', 'Kansas City', 'Atlanta')\n"
     ]
    }
   ],
   "source": [
    "print ( early_tuple[0:2])    # Slice end value is non-inclusive!\n",
    "\n",
    "print ( early_tuple[-1:-3])    # Slice always works from left to right!\n",
    "print ( early_tuple[-5:-3])    # Reverse slice requires negative range\n",
    "print ( early_tuple[5:2:-1])    # Reverse step requires negative range\n",
    "\n",
    "print ( \">>>\")            \n",
    "print ( early_tuple[0:-2])    # Slice end value is non-inclusive, forward or back!\n",
    "\n",
    "print ( early_tuple[5:])    # Slice to end, inclusive\n",
    "print ( early_tuple[:3])    # Slice from beginning\n",
    "print ( early_tuple[:])    # Slice everything"
   ]
  },
  {
   "cell_type": "markdown",
   "metadata": {},
   "source": [
    " ### Tuple Methods"
   ]
  },
  {
   "cell_type": "code",
   "execution_count": 28,
   "metadata": {
    "collapsed": false
   },
   "outputs": [
    {
     "name": "stdout",
     "output_type": "stream",
     "text": [
      "2\n",
      "0\n"
     ]
    }
   ],
   "source": [
    "print ( early_tuple.count(\"Houston\") )    # Count occurences\n",
    "print ( early_tuple.index(\"Houston\") )    # Find first occurence"
   ]
  },
  {
   "cell_type": "markdown",
   "metadata": {},
   "source": [
    " ### Tuple Techniques"
   ]
  },
  {
   "cell_type": "code",
   "execution_count": 29,
   "metadata": {
    "collapsed": false
   },
   "outputs": [
    {
     "name": "stdout",
     "output_type": "stream",
     "text": [
      "{1, 2}\n",
      "(3, 4)\n",
      "(5, 6)\n",
      "(7, 8)\n",
      "1 2\n",
      "3 4\n",
      "5 6\n",
      "7 8\n",
      "1\n",
      "3\n",
      "5\n",
      "7\n"
     ]
    }
   ],
   "source": [
    "# Tuple Unpacking\n",
    "list_of_tuples = [{1,2},(3,4),(5,6),(7,8)]\n",
    "for item in list_of_tuples:\n",
    "    print (item)\n",
    "    \n",
    "for (l,r) in list_of_tuples:\n",
    "    print (l,r)\n",
    "\n",
    "for l,r in list_of_tuples:\n",
    "    print (l)\n"
   ]
  },
  {
   "cell_type": "markdown",
   "metadata": {},
   "source": [
    "## Dictionaries in Python 3\n",
    "<a id=Dicts></a>\n",
    "This demonstrates basic Python dictionary management capabilities."
   ]
  },
  {
   "cell_type": "markdown",
   "metadata": {},
   "source": [
    "### Import Supporting Modules\n",
    "The following modules are used to support common dictionary operations."
   ]
  },
  {
   "cell_type": "code",
   "execution_count": 30,
   "metadata": {
    "collapsed": true
   },
   "outputs": [],
   "source": [
    "import reprlib\n",
    "import pprint"
   ]
  },
  {
   "cell_type": "markdown",
   "metadata": {},
   "source": [
    "### Dictionary Generation"
   ]
  },
  {
   "cell_type": "code",
   "execution_count": 31,
   "metadata": {
    "collapsed": false
   },
   "outputs": [],
   "source": [
    "tree_dict = {}     #Create empty dict, NOT empty set\n",
    "empty_dict = dict() #Create empty dict\n",
    "battleship_dict = {\"BB35\":\"Texas\", \"BB61\":\"Iowa\"}\n",
    "\n",
    "\n",
    "destroyer_dict = dict(DD263=\"Spruance\", DD985=\"Cushing\")\n",
    "destroyer_dict[\"DD992\"]=\"Fletcher\"   # Note square brackets\n",
    "\n",
    "missile_destroyer_dict = dict(DDG10=\"Sampson\", DDG11 = \"Sellers\")\n",
    "\n",
    "frigate_dict = {\"FFG54\":\"Ford\", \"FFG60\":\"Davis\", \"FFG31\":\"Stark\", \"FFG56\":\"Simpson\"}\n",
    "\n",
    "battleship_dict_in_dict = {\"BB35\":{\"name\":\"Texas\", \"length\":573, \"guns\":10},\n",
    "    \"BB61\":{\"name\":\"Iowa\", \"length\":887, \"guns\":9},\n",
    "    \"BB56\":{\"name\":\"Alaska\", \"length\":729, \"guns\":12},                               \n",
    "    \"BB33\":{\"name\":\"Arkansas\", \"length\":562, \"guns\":12},                               \n",
    "    \"BB45\":{\"name\":\"Colorado\", \"length\":624, \"guns\":8}\n",
    "    }\n"
   ]
  },
  {
   "cell_type": "markdown",
   "metadata": {},
   "source": [
    "### Add, Read, Copy, and Delete Dictionary Entries"
   ]
  },
  {
   "cell_type": "code",
   "execution_count": 32,
   "metadata": {
    "collapsed": false
   },
   "outputs": [
    {
     "name": "stdout",
     "output_type": "stream",
     "text": [
      "{'BB37': 'Oklahoma', 'BB61': 'Iowa', 'BB36': 'Nevada', 'BB35': 'Texas', 'BB47': 'Washington', '51': 'Hood', 'BB38': 'Pennsylvania'}\n"
     ]
    }
   ],
   "source": [
    "# Add dictionary entries\n",
    "battleship_dict[\"51\"]=\"Hood\"\n",
    "battleship_dict.update({\"BB36\":\"Nevada\"})\n",
    "battleship_dict.update(dict(BB37=\"Oklahoma\", BB38=\"Pennsylvania\"))\n",
    "battleship_dict.update(BB47=\"Washington\")\n",
    "\n",
    "print (battleship_dict)\n",
    "\n",
    "\n",
    "# Read dictionary entries\n",
    "\n",
    "\n",
    "# Copy dictionary entries\n",
    "\n",
    "\n",
    "# Delete dictionary entries\n",
    "del battleship_dict[\"BB38\"]"
   ]
  },
  {
   "cell_type": "markdown",
   "metadata": {},
   "source": [
    "### Dictionary Variables\n",
    "Python variables work differently than other popular languages in both scope and another aspect of variable naming.\n",
    "There is a good chance the variable naming characteristic will eventually bite you when you aren't paying attention to \"variable assignment.\"  Dictionary variables can especially surprise the unwary.  In Python, variables are names bound to objects, which makes \"variable assignment\" different than in other languages.  As objects, sometimes Python variables can seem to appear to behave as pointers, with different variables seeming to \"point\" to the same object.\n",
    "\n",
    "For deeper insight:\n",
    "\n",
    "http://scottlobdell.me/2013/08/understanding-python-variables-as-pointers/\n",
    "\n",
    "http://www.python-course.eu/python3_deep_copy.php\n",
    "\n"
   ]
  },
  {
   "cell_type": "code",
   "execution_count": 33,
   "metadata": {
    "collapsed": false
   },
   "outputs": [
    {
     "name": "stdout",
     "output_type": "stream",
     "text": [
      "{'Alabama': 'Pine', 'Texas': 'Pecan', 'Alaska': 'Spruce'}\n",
      "{'Alabama': 'Pine', 'Texas': 'Pecan', 'Alaska': 'Spruce'}\n",
      "79749064\n",
      "79749064\n",
      "{'Alabama': 'Pine', 'California': 'Poppy', 'Texas': 'Pecan', 'Alaska': 'Spruce'}\n",
      "{'Alabama': 'Pine', 'California': 'Poppy', 'Texas': 'Pecan', 'Alaska': 'Spruce'}\n",
      "79749064\n",
      "79749064\n",
      "#=================================================================\n",
      "{'Alabama': 'Pine', 'Texas': 'Pecan', 'Alaska': 'Spruce'}\n",
      "{'Alabama': 'Pine', 'Texas': 'Pecan', 'Alaska': 'Spruce'}\n",
      "80569480\n",
      "80670984\n",
      "#=================================================================\n",
      "{'Alabama': 'Pine', 'Texas': 'Pecan', 'Alaska': 'Spruce'}\n",
      "{'Alabama': 'Pine', 'Texas': 'Pecan', 'Alaska': 'Spruce'}\n",
      "79749064\n",
      "80488712\n",
      "#=================================================================\n",
      "{'Alabama': 'Pine', 'Texas': 'Pecan', 'Alaska': 'Spruce'}\n",
      "{'Alabama': 'Pine', 'Texas': 'Pecan', 'Alaska': 'Spruce'}\n",
      "80569480\n",
      "80589064\n"
     ]
    }
   ],
   "source": [
    "a = {\"Alabama\":\"Pine\", \"Texas\":\"Pecan\", \"Alaska\":\"Spruce\"}\n",
    "b = a                       # This doesn't copy the dictionary!\n",
    "print (a)\n",
    "print (b)\n",
    "print (id(a))\n",
    "print (id(b))               # They are the same object\n",
    "b[\"California\"]=\"Poppy\"\n",
    "print (a)                   # Where the heck did that flower come from?\n",
    "print (b)\n",
    "print (id(a))\n",
    "print (id(b))               # They are still the same object\n",
    "\n",
    "print (bar_string)\n",
    "#    If you want to make a COPY of another simple dictionary, here is one method:\n",
    "a = {\"Alabama\":\"Pine\", \"Texas\":\"Pecan\", \"Alaska\":\"Spruce\"}\n",
    "b = dict(a)            #This does the copy you are looking for.\n",
    "print (a)\n",
    "print (b)\n",
    "print (id(a))\n",
    "print (id(b))    #They are the NOT same object!\n",
    "\n",
    "print (bar_string)\n",
    "#    If you want to make a COPY of another simple dictionary, here is another method:\n",
    "a = {\"Alabama\":\"Pine\", \"Texas\":\"Pecan\", \"Alaska\":\"Spruce\"}\n",
    "b = a.copy()            #This does the copy you are looking for.\n",
    "print (a)\n",
    "print (b)\n",
    "print (id(a))\n",
    "print (id(b))    #They are the NOT same object!\n",
    "\n",
    "print (bar_string)\n",
    "#    If you want to make a COPY of a complex dictionary, here is the deep method:\n",
    "import copy\n",
    "a = {\"Alabama\":\"Pine\", \"Texas\":\"Pecan\", \"Alaska\":\"Spruce\"}\n",
    "b = copy.deepcopy(a)            #This does the copy you are looking for.\n",
    "print (a)\n",
    "print (b)\n",
    "print (id(a))\n",
    "print (id(b))    #They are the NOT same object!\n",
    "\n"
   ]
  },
  {
   "cell_type": "markdown",
   "metadata": {},
   "source": [
    "### Dictionary Functions"
   ]
  },
  {
   "cell_type": "code",
   "execution_count": 34,
   "metadata": {
    "collapsed": false
   },
   "outputs": [
    {
     "name": "stdout",
     "output_type": "stream",
     "text": [
      "['__class__', '__contains__', '__delattr__', '__delitem__', '__dir__', '__doc__', '__eq__', '__format__', '__ge__', '__getattribute__', '__getitem__', '__gt__', '__hash__', '__init__', '__iter__', '__le__', '__len__', '__lt__', '__ne__', '__new__', '__reduce__', '__reduce_ex__', '__repr__', '__setattr__', '__setitem__', '__sizeof__', '__str__', '__subclasshook__', 'clear', 'copy', 'fromkeys', 'get', 'items', 'keys', 'pop', 'popitem', 'setdefault', 'update', 'values']\n",
      "<class 'dict'>\n",
      "#-----------------------------------------------------------------\n",
      "{'BB37': 'Oklahoma', 'BB61': 'Iowa', 'BB36': 'Nevada', 'BB35': 'Texas', 'BB47': 'Washington', '51': 'Hood'}\n",
      "{'DD992': 'Fletcher', 'DD985': 'Cushing', 'DD263': 'Spruance'}\n",
      "#-----------------------------------------------------------------\n",
      "6\n",
      "3\n",
      "#-----------------------------------------------------------------\n",
      "None\n"
     ]
    }
   ],
   "source": [
    "print ( dir(battleship_dict))\n",
    "print ( type(battleship_dict))\n",
    "print (line_string)\n",
    "\n",
    "print ( battleship_dict)\n",
    "print ( destroyer_dict)\n",
    "print (line_string)\n",
    "\n",
    "print (len(battleship_dict))\n",
    "print (len(destroyer_dict))\n",
    "print (line_string)\n",
    "\n",
    "del battleship_dict[\"51\"]\n",
    "\n",
    "if 'z' in battleship_dict: print (dict['z'])  #Avoid key errors\n",
    "print (battleship_dict.get('z'))  ## None (instead of KeyError)"
   ]
  },
  {
   "cell_type": "markdown",
   "metadata": {},
   "source": [
    "### Dictionary Methods"
   ]
  },
  {
   "cell_type": "code",
   "execution_count": 35,
   "metadata": {
    "collapsed": false
   },
   "outputs": [
    {
     "name": "stdout",
     "output_type": "stream",
     "text": [
      "Texas\n",
      "#-----------------------------------------------------------------\n",
      "dict_keys(['BB37', 'BB61', 'BB36', 'BB35', 'BB47'])\n",
      "<class 'dict_keys'>\n",
      "<class 'list'>\n",
      "['BB37', 'BB61', 'BB36', 'BB35', 'BB47']\n",
      "#-----------------------------------------------------------------\n",
      "dict_values(['Oklahoma', 'Iowa', 'Nevada', 'Texas', 'Washington'])\n",
      "<class 'dict_values'>\n",
      "<class 'list'>\n",
      "['Oklahoma', 'Iowa', 'Nevada', 'Texas', 'Washington']\n",
      "#-----------------------------------------------------------------\n",
      "BB37\n",
      "BB61\n",
      "BB36\n",
      "BB35\n",
      "BB47\n",
      "#-----------------------------------------------------------------\n",
      "Oklahoma\n",
      "Iowa\n",
      "Nevada\n",
      "Texas\n",
      "Washington\n",
      "#-----------------------------------------------------------------\n",
      "BB37 Oklahoma\n",
      "BB61 Iowa\n",
      "BB36 Nevada\n",
      "BB35 Texas\n",
      "BB47 Washington\n",
      "#-----------------------------------------------------------------\n",
      "BB37 Oklahoma\n",
      "BB61 Iowa\n",
      "BB36 Nevada\n",
      "BB35 Texas\n",
      "BB47 Washington\n",
      "#-----------------------------------------------------------------\n",
      "dict_items([('DDG10', 'Sampson'), ('DDG11', 'Sellers'), ('DD992', 'Fletcher'), ('DD985', 'Cushing'), ('DD263', 'Spruance')])\n"
     ]
    }
   ],
   "source": [
    "print (battleship_dict['BB35'])\n",
    "print (line_string)\n",
    "#    for key in battleship_dict.keys(): print (key)\n",
    "\n",
    "## Get the .keys() list:\n",
    "print (battleship_dict.keys()) \n",
    "z = battleship_dict.keys()\n",
    "x = list(battleship_dict.keys())\n",
    "print (type(z))\n",
    "print (type(x))\n",
    "print (x)\n",
    "print (line_string)\n",
    "\n",
    "## Likewise, there's a .values() list of values\n",
    "print (battleship_dict.values())\n",
    "z = battleship_dict.values()\n",
    "x = list(battleship_dict.values())\n",
    "print (type(z))\n",
    "print (type(x))\n",
    "print (x)\n",
    "print (line_string)\n",
    "\n",
    "for hull in battleship_dict.keys():\n",
    "    print (hull)\n",
    "print (line_string)\n",
    "\n",
    "for name in battleship_dict.values():\n",
    "    print (name)\n",
    "print (line_string)\n",
    "\n",
    "for hull, name in battleship_dict.items():\n",
    "    print (hull, name)\n",
    "print (line_string)\n",
    "\n",
    "for hull in battleship_dict:\n",
    "    print (hull, battleship_dict[hull])\n",
    "print (line_string)\n",
    "\n",
    "destroyer_dict.update(missile_destroyer_dict)\n",
    "print ( destroyer_dict.items()) "
   ]
  },
  {
   "cell_type": "markdown",
   "metadata": {},
   "source": [
    "### Dictionary Techniques"
   ]
  },
  {
   "cell_type": "code",
   "execution_count": 36,
   "metadata": {
    "collapsed": false
   },
   "outputs": [
    {
     "name": "stdout",
     "output_type": "stream",
     "text": [
      "BB37 Oklahoma\n",
      "BB61 Iowa\n",
      "BB36 Nevada\n",
      "BB35 Texas\n",
      "BB47 Washington\n",
      "#-----------------------------------------------------------------\n",
      "BB35 Texas\n",
      "BB36 Nevada\n",
      "BB37 Oklahoma\n",
      "BB47 Washington\n",
      "BB61 Iowa\n"
     ]
    }
   ],
   "source": [
    "## Common case -- loop over the keys,\n",
    "## accessing each key/value\n",
    "for hull, name in battleship_dict.items():\n",
    "    print (hull, name)\n",
    "print (line_string)\n",
    "\n",
    "## Common case -- loop over the keys in sorted order,\n",
    "## accessing each key/value\n",
    "for key in sorted(battleship_dict.keys()):\n",
    "    print (key, battleship_dict[key])\n"
   ]
  },
  {
   "cell_type": "markdown",
   "metadata": {},
   "source": [
    "### Dictionary Comprehensions\n",
    "Build or transform complex dictionaries with a single line of code"
   ]
  },
  {
   "cell_type": "code",
   "execution_count": 37,
   "metadata": {
    "collapsed": false
   },
   "outputs": [
    {
     "name": "stdout",
     "output_type": "stream",
     "text": [
      "{'BB50': 'Indiana', 'BB51': 'Montana', 'BB53': 'Iowa', 'BB52': 'Carolina'}\n",
      "#-----------------------------------------------------------------\n",
      "{'Sellers': 'DDG11', 'Sampson': 'DDG10', 'Spruance': 'DD263', 'Cushing': 'DD985', 'Fletcher': 'DD992'}\n",
      "#-----------------------------------------------------------------\n",
      "{0: 0, 33: 35937, 3: 27, 36: 46656, 6: 216, 39: 59319, 9: 729, 12: 1728, 15: 3375, 18: 5832, 21: 9261, 24: 13824, 27: 19683, 30: 27000}\n"
     ]
    }
   ],
   "source": [
    "# Dictionary comprehension to build a dictionary from separate lists\n",
    "hull_list = [\"BB50\", \"BB51\",\"BB52\",\"BB53\"]\n",
    "name_list = [\"Indiana\", \"Montana\",\"Carolina\",\"Iowa\"]\n",
    "phantom_ship_dict = {hull: name for hull, name in zip(hull_list, name_list)}\n",
    "print (phantom_ship_dict)\n",
    "print (line_string)\n",
    "\n",
    "# Dictionary comprehension to transform a dictionary (Transpose in this example)\n",
    "destroyers_by_name_dict = {destroyer_dict[hull]: hull for hull in destroyer_dict}\n",
    "print(destroyers_by_name_dict)   # Note that results are not in any specific order!\n",
    "print (line_string)\n",
    "\n",
    "# Dictionary comprehension to build a dictionary from numeric algorithm\n",
    "cubes_dict = {i: i**3 for i in range(40) if i % 3 == 0}\n",
    "print (cubes_dict)      # Note that results are not in any specific order!"
   ]
  },
  {
   "cell_type": "markdown",
   "metadata": {},
   "source": [
    "### Printing Complex Dictionaries"
   ]
  },
  {
   "cell_type": "code",
   "execution_count": 38,
   "metadata": {
    "collapsed": false
   },
   "outputs": [
    {
     "name": "stdout",
     "output_type": "stream",
     "text": [
      "dict_items([('BB37', 'Oklahoma'), ('BB61', 'Iowa'), ('BB36', 'Nevada'), ('BB35', 'Texas'), ('BB47', 'Washington')])\n",
      "{'BB56': {'name': 'Alaska', 'length': 729, 'guns': 12}, 'BB61': {'name': 'Iowa', 'length': 887, 'guns': 9}, 'BB33': {'name': 'Arkansas', 'length': 562, 'guns': 12}, 'BB45': {'name': 'Colorado', 'length': 624, 'guns': 8}, 'BB35': {'name': 'Texas', 'length': 573, 'guns': 10}}\n",
      "{'BB56': {'name': 'Alaska', 'length': 729, 'guns': 12}, 'BB61': {'name': 'Iowa', 'length': 887, 'guns': 9}, 'BB33': {'name': 'Arkansas', 'length': 562, 'guns': 12}, 'BB45': {'name': 'Colorado', 'length': 624, 'guns': 8}, 'BB35': {'name': 'Texas', 'length': 573, 'guns': 10}}\n",
      "#-----------------------------------------------------------------\n",
      "{'BB33': {'guns': 12, 'length': 562, 'name': 'Arkansas'}, 'BB35': {'guns': 10, 'length': 573, 'name': 'Texas'}, 'BB45': {'guns': 8, 'length': 624, 'name': 'Colorado'}, 'BB56': {'guns': 12, 'length': 729, 'name': 'Alaska'}, ...}\n",
      "#-----------------------------------------------------------------\n",
      "{'BB33': {'guns': 12,\n",
      "          'length': 562,\n",
      "          'name': 'Arkansas'},\n",
      " 'BB35': {'guns': 10,\n",
      "          'length': 573,\n",
      "          'name': 'Texas'},\n",
      " 'BB45': {'guns': 8,\n",
      "          'length': 624,\n",
      "          'name': 'Colorado'},\n",
      " 'BB56': {'guns': 12,\n",
      "          'length': 729,\n",
      "          'name': 'Alaska'},\n",
      " 'BB61': {'guns': 9,\n",
      "          'length': 887,\n",
      "          'name': 'Iowa'}}\n"
     ]
    }
   ],
   "source": [
    "print ( battleship_dict.items())    \n",
    "print (battleship_dict_in_dict)\n",
    "print (repr(battleship_dict_in_dict))\n",
    "print (\"#\" + 65*'-')\n",
    "\n",
    "# import reprlib\n",
    "print (reprlib.repr(battleship_dict_in_dict))\n",
    "print (\"#\" + 65*'-')\n",
    "# import pprint    \n",
    "pprint.pprint (battleship_dict_in_dict, width=30)"
   ]
  },
  {
   "cell_type": "markdown",
   "metadata": {},
   "source": [
    "## Sets in Python 3\n",
    "<a id=Sets></a>\n",
    "This demonstrates basic Python set management capabilities."
   ]
  },
  {
   "cell_type": "markdown",
   "metadata": {},
   "source": [
    "### Set Generation"
   ]
  },
  {
   "cell_type": "code",
   "execution_count": 113,
   "metadata": {
    "collapsed": false
   },
   "outputs": [
    {
     "name": "stdout",
     "output_type": "stream",
     "text": [
      "<class 'dict'>\n",
      "<class 'frozenset'>\n",
      "['__and__', '__class__', '__contains__', '__delattr__', '__dir__', '__doc__', '__eq__', '__format__', '__ge__', '__getattribute__', '__gt__', '__hash__', '__init__', '__iter__', '__le__', '__len__', '__lt__', '__ne__', '__new__', '__or__', '__rand__', '__reduce__', '__reduce_ex__', '__repr__', '__ror__', '__rsub__', '__rxor__', '__setattr__', '__sizeof__', '__str__', '__sub__', '__subclasshook__', '__xor__', 'copy', 'difference', 'intersection', 'isdisjoint', 'issubset', 'issuperset', 'symmetric_difference', 'union']\n"
     ]
    }
   ],
   "source": [
    "tree_set = {}     #DANGER:  Create emppty dict instead of empty set\n",
    "print (type(tree_set))\n",
    "\n",
    "tree_set = set() #Create empty set\n",
    "tree_set = {\"oak\", \"pine\", \"cypress\", \"cedar\", \"pecan\", \"walnut\"}\n",
    "shrub_set = set([\"juniper\", \"elderberry\"])\n",
    "# Forward Index = 0          1         2          3               4              5 \n",
    "# Reverse Index = -6          -5        -4         -3              -2             -1 \n",
    "\n",
    "binary_values = frozenset([0, 1])\n",
    "print (type(binary_values))\n",
    "print (dir(binary_values))\n",
    "#    a = binary_values.hash  #Why is this not working anymore?\n",
    "#    print (a)"
   ]
  },
  {
   "cell_type": "markdown",
   "metadata": {},
   "source": [
    "### Set Variables\n",
    "Tuples have the same \"variable assignment\" behavior as has been described above for the other Python objects.  \n",
    " \n",
    "For deeper insight:\n",
    "\n",
    "http://scottlobdell.me/2013/08/understanding-python-variables-as-pointers/\n",
    "\n",
    "http://henry.precheur.org/python/copy_list"
   ]
  },
  {
   "cell_type": "code",
   "execution_count": 102,
   "metadata": {
    "collapsed": false
   },
   "outputs": [
    {
     "name": "stdout",
     "output_type": "stream",
     "text": [
      "{'pecan', 'walnut', 'pine', 'cypress', 'cedar', 'oak'}\n",
      "{'pecan', 'walnut', 'pine', 'cypress', 'cedar', 'oak'}\n",
      "74592552\n",
      "74592552\n",
      "{'pecan', 'shrub', 'walnut', 'pine', 'cypress', 'cedar', 'oak'}\n",
      "{'pecan', 'shrub', 'walnut', 'pine', 'cypress', 'cedar', 'oak'}\n",
      "74592552\n",
      "74592552\n",
      "#=================================================================\n",
      "{'pecan', 'walnut', 'pine', 'cypress', 'cedar', 'oak'}\n",
      "{'pine', 'pecan', 'cypress', 'walnut', 'cedar', 'oak'}\n",
      "79345704\n",
      "79345480\n",
      "#=================================================================\n",
      "{'pecan', 'walnut', 'pine', 'cypress', 'cedar', 'oak'}\n",
      "{'pine', 'pecan', 'cypress', 'walnut', 'cedar', 'oak'}\n",
      "74592552\n",
      "79345256\n",
      "#=================================================================\n",
      "{'pecan', 'walnut', 'pine', 'cypress', 'cedar', 'oak'}\n",
      "{'pecan', 'walnut', 'pine', 'cypress', 'cedar', 'oak'}\n",
      "79345704\n",
      "74592552\n"
     ]
    }
   ],
   "source": [
    "a = {\"oak\", \"pine\", \"cypress\", \"cedar\", \"pecan\", \"walnut\"}\n",
    "b = a\n",
    "print (a)\n",
    "print (b)\n",
    "print (id(a))\n",
    "print (id(b))               # They are the same object\n",
    "b.add(\"shrub\")\n",
    "print (a)                   # Where the heck did that shrub come from?\n",
    "print (b)\n",
    "print (id(a))\n",
    "print (id(b))               # They are still the same object\n",
    "\n",
    "print (bar_string)\n",
    "#    If you want to make a COPY of another simple dictionary, here is one method:\n",
    "a = {\"oak\", \"pine\", \"cypress\", \"cedar\", \"pecan\", \"walnut\"}\n",
    "b = set(a)            #This does the copy you are looking for.\n",
    "print (a)\n",
    "print (b)\n",
    "print (id(a))\n",
    "print (id(b))    #They are the NOT same object!\n",
    "\n",
    "print (bar_string)\n",
    "#    If you want to make a COPY of another simple dictionary, here is another method:\n",
    "a = {\"oak\", \"pine\", \"cypress\", \"cedar\", \"pecan\", \"walnut\"}\n",
    "b = a.copy()            #This does the copy you are looking for.\n",
    "print (a)\n",
    "print (b)\n",
    "print (id(a))\n",
    "print (id(b))    #They are the NOT same object!\n",
    "\n",
    "print (bar_string)\n",
    "#    If you want to make a COPY of a complex dictionary, here is the deep method:\n",
    "import copy\n",
    "a = {\"oak\", \"pine\", \"cypress\", \"cedar\", \"pecan\", \"walnut\"}\n",
    "b = copy.deepcopy(a)            #This does the copy you are looking for.\n",
    "print (a)\n",
    "print (b)\n",
    "print (id(a))\n",
    "print (id(b))    #They are the NOT same object!"
   ]
  },
  {
   "cell_type": "markdown",
   "metadata": {},
   "source": [
    "### Set Functions"
   ]
  },
  {
   "cell_type": "code",
   "execution_count": 114,
   "metadata": {
    "collapsed": false
   },
   "outputs": [
    {
     "name": "stdout",
     "output_type": "stream",
     "text": [
      "['__and__', '__class__', '__contains__', '__delattr__', '__dir__', '__doc__', '__eq__', '__format__', '__ge__', '__getattribute__', '__gt__', '__hash__', '__iand__', '__init__', '__ior__', '__isub__', '__iter__', '__ixor__', '__le__', '__len__', '__lt__', '__ne__', '__new__', '__or__', '__rand__', '__reduce__', '__reduce_ex__', '__repr__', '__ror__', '__rsub__', '__rxor__', '__setattr__', '__sizeof__', '__str__', '__sub__', '__subclasshook__', '__xor__', 'add', 'clear', 'copy', 'difference', 'difference_update', 'discard', 'intersection', 'intersection_update', 'isdisjoint', 'issubset', 'issuperset', 'pop', 'remove', 'symmetric_difference', 'symmetric_difference_update', 'union', 'update']\n",
      "<class 'set'>\n"
     ]
    }
   ],
   "source": [
    "print ( dir(tree_set))\n",
    "print ( type(tree_set))"
   ]
  },
  {
   "cell_type": "markdown",
   "metadata": {},
   "source": [
    "### Set Methods"
   ]
  },
  {
   "cell_type": "code",
   "execution_count": 115,
   "metadata": {
    "collapsed": false
   },
   "outputs": [
    {
     "name": "stdout",
     "output_type": "stream",
     "text": [
      "{'walnut', 'elderberry', 'cypress', 'pecan', 'juniper', 'cedar', 'oak', 'pine'}\n",
      "{'cypress', 'cedar', 'walnut', 'pecan', 'juniper', 'oak', 'pine'}\n",
      "{'juniper'}\n",
      "{'cypress', 'cedar', 'walnut', 'pecan', 'juniper', 'oak', 'pine'}\n"
     ]
    }
   ],
   "source": [
    "tree_set.add(\"juniper\")    \n",
    "tree_set.add(\"sycamore\")    \n",
    "tree_set.remove(\"sycamore\")    \n",
    "tree_set.discard(\"periwinkle\")    # Discard method doesn't complain    \n",
    "\n",
    "print (tree_set.union(shrub_set))  # Tree set is not modified by union\n",
    "print ( tree_set)\n",
    "\n",
    "print (tree_set.intersection(shrub_set))  # Tree set is not modified \n",
    "print ( tree_set)"
   ]
  },
  {
   "cell_type": "markdown",
   "metadata": {},
   "source": [
    "### Set Comprehensions\n",
    "Build or transform complex sets with a single line of code"
   ]
  },
  {
   "cell_type": "code",
   "execution_count": null,
   "metadata": {
    "collapsed": true
   },
   "outputs": [],
   "source": []
  },
  {
   "cell_type": "code",
   "execution_count": 116,
   "metadata": {
    "collapsed": false
   },
   "outputs": [
    {
     "name": "stdout",
     "output_type": "stream",
     "text": [
      "{2, 4, 6, 8, 12, 14}\n"
     ]
    }
   ],
   "source": [
    "even_prime_incr_set = {n+1 for n in [1,2,3,5,7,11,13] if (n+1)%2==0}\n",
    "print (even_prime_incr_set)    "
   ]
  },
  {
   "cell_type": "markdown",
   "metadata": {},
   "source": [
    "### Printing Complex Sets"
   ]
  },
  {
   "cell_type": "code",
   "execution_count": 117,
   "metadata": {
    "collapsed": false
   },
   "outputs": [
    {
     "name": "stdout",
     "output_type": "stream",
     "text": [
      "{'p', 'x', 'i', 's', 'l', 'u', 'f', 'd', 'c', 't', 'e', 'o', 'g', 'r', 'a'}\n"
     ]
    }
   ],
   "source": [
    "mary_poppins = set('supercalifragilisticexpialidocious')\n",
    "print (mary_poppins)"
   ]
  },
  {
   "cell_type": "markdown",
   "metadata": {},
   "source": [
    "### Printing Complex Dictionaries"
   ]
  },
  {
   "cell_type": "markdown",
   "metadata": {},
   "source": [
    "## Type Conversions\n",
    "<a id=TypeConversions></a>\n",
    "(Note:  The code below is dependent on running all the code above to establish preliminary objects.)"
   ]
  },
  {
   "cell_type": "markdown",
   "metadata": {},
   "source": [
    "### Converstion to String"
   ]
  },
  {
   "cell_type": "code",
   "execution_count": null,
   "metadata": {
    "collapsed": true
   },
   "outputs": [],
   "source": []
  },
  {
   "cell_type": "markdown",
   "metadata": {},
   "source": [
    "## Iterators, Iterables, and Generators\n",
    "<a id=Iterators></a>\n",
    "Iteration means taking each item of something, one after the other.  This means some kind of collection with some kind of order (sequence.)  Iteration implies looping, whether implicit or explicit."
   ]
  },
  {
   "cell_type": "markdown",
   "metadata": {},
   "source": [
    "### Iterables\n",
    "Iterables are sequences where it is possible to visit each element of the sequence, and perform some operation on that element (and move on.)\n",
    "\n",
    "Official Definition:\n",
    "\n",
    "An iterable is an object capable of returning its members one at a time. Examples of iterables include all sequence types (such as list, str, and tuple) and some non-sequence types like dict, file objects, and objects of any classes you define with an __iter__() or __getitem__() method. Iterables can be used in a for loop and in many other places where a sequence is needed (zip(), map(), ...). When an iterable object is passed as an argument to the built-in function iter(), it returns an iterator for the object. This iterator is good for one pass over the set of values. When using iterables, it is usually not necessary to call iter() or deal with iterator objects yourself. The for statement does that automatically for you, creating a temporary unnamed variable to hold the iterator for the duration of the loop."
   ]
  },
  {
   "cell_type": "markdown",
   "metadata": {},
   "source": [
    "### Iterators\n",
    "Iterables are sequences where it is possible to visit each element of the sequence, and perform some operation on that element (and move on.)\n",
    "\n",
    "Official Definition:\n",
    "\n",
    "An object representing a stream of data. Repeated calls to the iterator’s __next__() method (or passing it to the built-in function next()) return successive items in the stream. When no more data are available a StopIteration exception is raised instead. At this point, the iterator object is exhausted and any further calls to its __next__() method just raise StopIteration again. Iterators are required to have an __iter__() method that returns the iterator object itself so every iterator is also iterable and may be used in most places where other iterables are accepted. One notable exception is code which attempts multiple iteration passes. A container object (such as a list) produces a fresh new iterator each time you pass it to the iter() function or use it in a for loop. Attempting this with an iterator will just return the same exhausted iterator object used in the previous iteration pass, making it appear like an empty container."
   ]
  },
  {
   "cell_type": "markdown",
   "metadata": {},
   "source": [
    "### Generators"
   ]
  },
  {
   "cell_type": "code",
   "execution_count": 83,
   "metadata": {
    "collapsed": false
   },
   "outputs": [
    {
     "data": {
      "text/plain": [
       "2470"
      ]
     },
     "execution_count": 83,
     "metadata": {},
     "output_type": "execute_result"
    }
   ],
   "source": [
    "# Simple generator used in place of a function parameter\n",
    "sum(i**2 for i in range(20))   # Generates sum of squares"
   ]
  },
  {
   "cell_type": "markdown",
   "metadata": {},
   "source": [
    "## The L Word\n",
    "<a id=Lambdas></a>\n",
    "Lambda, map(), filter(), and reduce() are functional programming capabilites and structures.  They have been reported to be added to Python at the request of LISP fans.\n",
    "\n",
    "\n",
    "### Lambda Functions\n",
    "\n",
    "The lambda operator provides a nameless \"throw away\" function which is usually embeddeed in larger expressions and operations.\n"
   ]
  },
  {
   "cell_type": "code",
   "execution_count": 37,
   "metadata": {
    "collapsed": false
   },
   "outputs": [],
   "source": [
    "# Lambda syntax:\n",
    "#  function_name = lambda parameters: expresssion\n",
    "f = lambda x, y : x * y\n",
    "print (f(2,4))\n",
    "\n",
    "\n",
    "# Lambda expression can include conditional structures\n",
    "f = lambda a,b: a if (a > b) else b\n"
   ]
  },
  {
   "cell_type": "markdown",
   "metadata": {},
   "source": [
    "### Map Function\n",
    "The map function applies a function to every element in a sequence (list, iterable.)  If multiple iterables are provided, they are operated upon in parallel.  Multiple functions can also be supplied to the mapping process.\n",
    "\n",
    "In Python 3, the map() function produces a map object, which can be directly iterated.  If an actual list object is needed, the list() function should be used to build the list from the map objects.\n",
    "\n",
    "The equivalent of a map() operation can probably be built with list comprehensions and can *always* be built with loops.  The use of map() may provide shorter, clearer code.  However, where complex use of map() is required, building the equivalent larger looping code block will probably run faster (and may be easier to understand, update,  and correct.)\n",
    "\n",
    "https://www.dotnetperls.com/map-python"
   ]
  },
  {
   "cell_type": "code",
   "execution_count": 32,
   "metadata": {
    "collapsed": false
   },
   "outputs": [
    {
     "name": "stdout",
     "output_type": "stream",
     "text": [
      "(0, 15.5, 22.2, 38.8, 43.3)\n",
      "<map object at 0x0000000004CE9278>\n",
      "<map object at 0x0000000004CE95F8>\n",
      "[32.0, 59.900000000000006, 71.96000000000001, 101.84, 109.94]\n",
      "[0.0, 15.500000000000004, 22.200000000000006, 38.800000000000004, 43.3]\n",
      "[32.0, 59.900000000000006, 71.96000000000001, 101.84, 109.94]\n",
      "[-17.77777777777778, -9.166666666666668, -5.444444444444445, 3.7777777777777763, 6.277777777777777]\n",
      "[18, 14, 14, 14]\n",
      "[17, 10, 19, 23]\n",
      "[19, 18, 9, 5]\n",
      "[0, 0]\n",
      "[1, 2]\n",
      "[4, 4]\n",
      "[9, 6]\n",
      "[16, 8]\n"
     ]
    }
   ],
   "source": [
    "# Map syntax:\n",
    "#  result_seq = map(function, input_sequence)\n",
    "# Examples with temperature conversions.\n",
    "def fahrenheit(T):\n",
    "    return ((float(9)/5)*T + 32)\n",
    "def celsius(T):\n",
    "    return (float(5)/9)*(T-32)\n",
    "temps = (0, 15.5, 22.2, 38.8, 43.3)\n",
    "print (temps)\n",
    "\n",
    "F = map(fahrenheit, temps)\n",
    "C = map(celsius, F)\n",
    "print (F)                    # In Python 3, map() produces a map object, which can be directly iterated.\n",
    "print (C)\n",
    "\n",
    "F = list(map(fahrenheit, temps))\n",
    "C = list(map(celsius, F))   # In Python 3, it is necessary to build a list from the object.\n",
    "print (F)\n",
    "print (C)\n",
    "\n",
    "F = list(map(lambda x: (float(9)/5)*x + 32, temps))\n",
    "print (F)\n",
    "C = list(map(lambda x: (float(5)/9)*(x-32), temps))\n",
    "print (C)\n",
    "\n",
    "# map() can accept multiple iterables as input.\n",
    "a = [1,2,3,4]\n",
    "b = [17,12,11,10]\n",
    "c = [-1,-4,5,9]\n",
    "print (list(map(lambda x,y:x+y, a,b)))\n",
    "print (list(map(lambda x,y,z:x+y+z, a,b,c)))\n",
    "print (list(map(lambda x,y,z:x+y-z, a,b,c)))\n",
    "\n",
    "# map() can accept multiple function definitions as input.\n",
    "def multiply(x):\n",
    "    return (x*x)\n",
    "def add(x):\n",
    "    return (x+x)\n",
    "\n",
    "funcs = [multiply, add]\n",
    "for i in range(5):\n",
    "    value = list(map(lambda x: x(i), funcs))\n",
    "    print(value)"
   ]
  },
  {
   "cell_type": "markdown",
   "metadata": {},
   "source": [
    "### Filter Function\n",
    "The filter() function provides a way to filter a list by some criteria and remove elements based upon the criteria match.\n",
    "\n",
    "In Python 3, the filter() function produces a filter object, which can be directly iterated. If an actual list object is needed, the list() function should be used to build the list from the filter objects.\n"
   ]
  },
  {
   "cell_type": "code",
   "execution_count": 38,
   "metadata": {
    "collapsed": false
   },
   "outputs": [
    {
     "name": "stdout",
     "output_type": "stream",
     "text": [
      "<filter object at 0x0000000004CE3B38>\n",
      "[1, 1, 3, 5, 13, 21, 55]\n",
      "[0, 2, 8, 34]\n"
     ]
    }
   ],
   "source": [
    "# Filter Syntax\n",
    "# result_sequence = filter(boolean_function, input_sequence)\n",
    "#   Example sorting Fibonacci members\n",
    "fibonacci_seq = [0,1,1,2,3,5,8,13,21,34,55]\n",
    "result = filter(lambda x: x % 2, fibonacci_seq)\n",
    "print (result)\n",
    "print(list(result))\n",
    "result = filter(lambda x: x % 2 == 0, fibonacci_seq)\n",
    "print (list(result))"
   ]
  },
  {
   "cell_type": "markdown",
   "metadata": {},
   "source": [
    "### Reduce Function\n",
    "\n",
    "The reduce() function repetitively applies a function to a sequence until the sequence is reduced to a single result.  The simplest example would be a summation function that sums all the elements and arrives at a final total.\n",
    "\n",
    "reduce() is not a built-in function, and must be imported for use.\n"
   ]
  },
  {
   "cell_type": "code",
   "execution_count": 43,
   "metadata": {
    "collapsed": false
   },
   "outputs": [
    {
     "name": "stdout",
     "output_type": "stream",
     "text": [
      "24\n",
      "102\n"
     ]
    }
   ],
   "source": [
    "# Reduce Syntax:\n",
    "# single_result = reduce(function, input_sequence) \n",
    "from functools import reduce\n",
    "print (reduce((lambda x, y: x * y), [1, 2, 3, 4]))\n",
    "\n",
    "# Note conditional structure in lambda expression\n",
    "f = lambda a,b: a if (a > b) else b\n",
    "print (reduce(f, [47,11,42,102,13]))"
   ]
  },
  {
   "cell_type": "markdown",
   "metadata": {},
   "source": [
    "## Printing in Python 3\n",
    "<a id=Printing></a>\n",
    "This demonstrates basic Python results string handling capabilities.\n",
    "\n",
    "### Printing Results and Variables with Formatting\n",
    "\n",
    "https://docs.python.org/3/library/functions.html?highlight=print#print"
   ]
  },
  {
   "cell_type": "code",
   "execution_count": 1,
   "metadata": {
    "collapsed": false
   },
   "outputs": [
    {
     "name": "stdout",
     "output_type": "stream",
     "text": [
      "['Houston', 'Austin', 'Huston', 'Walnut Creek', 'Kansas City', 'Atlanta']\n",
      "['__add__', '__class__', '__contains__', '__delattr__', '__delitem__', '__dir__', '__doc__', '__eq__', '__format__', '__ge__', '__getattribute__', '__getitem__', '__gt__', '__hash__', '__iadd__', '__imul__', '__init__', '__iter__', '__le__', '__len__', '__lt__', '__mul__', '__ne__', '__new__', '__reduce__', '__reduce_ex__', '__repr__', '__reversed__', '__rmul__', '__setattr__', '__setitem__', '__sizeof__', '__str__', '__subclasshook__', 'append', 'clear', 'copy', 'count', 'extend', 'index', 'insert', 'pop', 'remove', 'reverse', 'sort']\n",
      "<class 'list'>\n",
      "Number is:  25\n",
      "Name is:  Alex\n",
      "Len: 6\n",
      "Min: Atlanta\n",
      "My number is: 25, and my name is: Alex\n",
      "My number is: 25, and my name is: Alex\n",
      "My number is: 25. 'My name is: Alex.  My father's name is Alex.\n"
     ]
    }
   ],
   "source": [
    "early_list = list() #Create empty list\n",
    "early_list = [\"Houston\", \"Austin\", \"Huston\", \"Walnut Creek\", \"Kansas City\", \"Atlanta\"]\n",
    "\n",
    "\n",
    "num = 25\n",
    "name = 'Alex'\n",
    "\n",
    "print ( early_list)\n",
    "print ( dir(early_list))\n",
    "print ( type(early_list))\n",
    "\n",
    "# Perl or script-style printing\n",
    "print ('Number is: ', num)\n",
    "print ('Name is: ', name)\n",
    "\n",
    "# Python string format method printing\n",
    "print ( 'Len: {}'.format(len(early_list))) # Len = element count\n",
    "print ( 'Min: {}'.format(min(early_list))) # Min = alphabettically lowest\n",
    "\n",
    "print('My number is: {}, and my name is: {}'.format(num,name))\n",
    "print('My number is: {one}, and my name is: {two}'.format(one=num,two=name)) # Prevents sequencing issues\n",
    "\n",
    "print('My number is: {one}.'.format(one=num), sep=\"&\", end=\" \") # The separator characters can be changed.\n",
    "print(\"'My name is: {two}.  My father's name is {two}.\".format(two=name)) # Allows variable to be printed multiple times.\n"
   ]
  },
  {
   "cell_type": "markdown",
   "metadata": {},
   "source": [
    "   ### Perl-Style Printing"
   ]
  },
  {
   "cell_type": "code",
   "execution_count": 2,
   "metadata": {
    "collapsed": false
   },
   "outputs": [
    {
     "name": "stdout",
     "output_type": "stream",
     "text": [
      "Number is:  25\n",
      "Name is:  Alex\n",
      "Last Name: Rube First Name:Goldberg\n"
     ]
    }
   ],
   "source": [
    "num = 25\n",
    "name = 'Alex'\n",
    "print ('Number is: ', num)\n",
    "print ('Name is: ', name)\n",
    "\n",
    "a = \"Rube\"\n",
    "b = \"Goldberg\"\n",
    "print (\"Last Name: \"+ a +\" First Name:\"+ b)"
   ]
  },
  {
   "cell_type": "markdown",
   "metadata": {},
   "source": [
    "### My Best Practices for Formatting Output"
   ]
  },
  {
   "cell_type": "code",
   "execution_count": 1,
   "metadata": {
    "collapsed": false
   },
   "outputs": [
    {
     "name": "stdout",
     "output_type": "stream",
     "text": [
      "#=================================================================\n",
      "#-----------------------------------------------------------------\n"
     ]
    }
   ],
   "source": [
    "bar_string = \"#\" + 65*'='   # Multipled string can be multiple character\n",
    "line_string = \"#\" + 65*'-' # Multipled string can be multiple character\n",
    "print (\"#\" + 65*'=')\n",
    "print (\"#\" + 65*'-')"
   ]
  },
  {
   "cell_type": "markdown",
   "metadata": {},
   "source": [
    "## Useful Functions\n",
    "<a id=UsefulFunctions></a>"
   ]
  },
  {
   "cell_type": "markdown",
   "metadata": {},
   "source": [
    "### Functions I Wrote"
   ]
  },
  {
   "cell_type": "code",
   "execution_count": 6,
   "metadata": {
    "collapsed": true
   },
   "outputs": [],
   "source": [
    "def f_dash_date():\n",
    "    \"Returns a string with the current date in US format separated with dashes.\"\n",
    "    date_string = str(datetime.datetime.now().strftime('%m_%d_%Y'))\n",
    "    return date_string\n",
    "def f_slash_date():\n",
    "    \"Returns a strong with the current date in US format separated with slashes.\"\n",
    "    date_string = str(datetime.datetime.now().strftime('%m/%d/%Y'))\n",
    "    return date_string      \n",
    "def f_dash_timestamp():\n",
    "    \"Returns a string with the current date and time for log entries.\"\n",
    "    date_string = str(datetime.datetime.now().strftime('%m_%d_%Y_%H:%M:%S'))    \n",
    "    return date_string    "
   ]
  },
  {
   "cell_type": "markdown",
   "metadata": {},
   "source": [
    "### Functions I Harvested"
   ]
  },
  {
   "cell_type": "code",
   "execution_count": 3,
   "metadata": {
    "collapsed": true
   },
   "outputs": [],
   "source": [
    "\n",
    "    "
   ]
  },
  {
   "cell_type": "code",
   "execution_count": null,
   "metadata": {
    "collapsed": false
   },
   "outputs": [],
   "source": []
  },
  {
   "cell_type": "code",
   "execution_count": null,
   "metadata": {
    "collapsed": false
   },
   "outputs": [],
   "source": []
  },
  {
   "cell_type": "markdown",
   "metadata": {
    "collapsed": false
   },
   "source": [
    "## Appendix\n",
    "<a id=\"Appendix\"></a>\n",
    "\n",
    "Welcome!  This notebook (and its sisters) was developed for me to practice some Python and data science fundamentals, and for me to explore and notate some interesting tricks, quirks, and lessons learned the hard way.\n",
    "\n",
    "Because I'm a naval history buff, I have occasionally used US naval ship information as practice data.  US naval ships each have a unique identifying \"hull number,\" making it is easy to build many common Python data structures around ship characteristics.  More information about US \"hull numbers\" is available from:\n",
    "\n",
    "http://www.navweaps.com/index_tech/index_ships_list.php\n",
    "\n",
    "### Tell Me I'm an Idiot!\n",
    "I welcome coaching, constructive criticism, and insight into more efficient, effective, or Pythonic ways of accomplishing results!\n",
    "\n",
    "Sincerely,\n",
    "\n",
    "*Carl Gusler*\n",
    "\n",
    "Austin, Texas\n",
    "\n",
    "carl.gusler@gmail.com"
   ]
  },
  {
   "cell_type": "code",
   "execution_count": null,
   "metadata": {
    "collapsed": true
   },
   "outputs": [],
   "source": []
  }
 ],
 "metadata": {
  "anaconda-cloud": {},
  "kernelspec": {
   "display_name": "Python [conda root]",
   "language": "python",
   "name": "conda-root-py"
  },
  "language_info": {
   "codemirror_mode": {
    "name": "ipython",
    "version": 3
   },
   "file_extension": ".py",
   "mimetype": "text/x-python",
   "name": "python",
   "nbconvert_exporter": "python",
   "pygments_lexer": "ipython3",
   "version": "3.5.2"
  }
 },
 "nbformat": 4,
 "nbformat_minor": 1
}
