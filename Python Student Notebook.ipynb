{
 "cells": [
  {
   "cell_type": "markdown",
   "metadata": {},
   "source": [
    "# Python Student Notebook\n",
    "\n",
    "This demonstrates Python string handling capabilities.\n",
    "\n",
    "## Table of Contents\n",
    "\n",
    "\n"
   ]
  },
  {
   "cell_type": "markdown",
   "metadata": {},
   "source": [
    "## Code Formatting"
   ]
  },
  {
   "cell_type": "code",
   "execution_count": 7,
   "metadata": {
    "collapsed": false
   },
   "outputs": [
    {
     "ename": "NameError",
     "evalue": "name 'x' is not defined",
     "output_type": "error",
     "traceback": [
      "\u001b[0;31m---------------------------------------------------------------------------\u001b[0m",
      "\u001b[0;31mNameError\u001b[0m                                 Traceback (most recent call last)",
      "\u001b[0;32m<ipython-input-7-7900d201c334>\u001b[0m in \u001b[0;36m<module>\u001b[0;34m()\u001b[0m\n\u001b[1;32m      5\u001b[0m      \u001b[1;33m+\u001b[0m \u001b[0mx\u001b[0m\u001b[1;33m**\u001b[0m\u001b[1;36m4\u001b[0m\u001b[1;33m/\u001b[0m\u001b[1;36m4\u001b[0m \u001b[1;33m+\u001b[0m \u001b[0mx\u001b[0m\u001b[1;33m**\u001b[0m\u001b[1;36m5\u001b[0m\u001b[1;33m/\u001b[0m\u001b[1;36m5\u001b[0m\u001b[1;33m\u001b[0m\u001b[0m\n\u001b[1;32m      6\u001b[0m      \u001b[1;33m+\u001b[0m \u001b[0mx\u001b[0m\u001b[1;33m**\u001b[0m\u001b[1;36m6\u001b[0m\u001b[1;33m/\u001b[0m\u001b[1;36m6\u001b[0m \u001b[1;33m+\u001b[0m \u001b[0mx\u001b[0m\u001b[1;33m**\u001b[0m\u001b[1;36m7\u001b[0m\u001b[1;33m/\u001b[0m\u001b[1;36m7\u001b[0m\u001b[1;33m\u001b[0m\u001b[0m\n\u001b[0;32m----> 7\u001b[0;31m      + x**8/8)            # Parentheses can be used to structure for line continuation.\n\u001b[0m",
      "\u001b[0;31mNameError\u001b[0m: name 'x' is not defined"
     ]
    }
   ],
   "source": [
    "# Comment\n",
    "l_string = '''abc\n",
    "                  def'''    #Triple quote captures everything, including LF\n",
    "s3 = (x + x**2/2 + x**3/3\n",
    "     + x**4/4 + x**5/5\n",
    "     + x**6/6 + x**7/7\n",
    "     + x**8/8)            # Parentheses can be used to structure for line continuation.\n"
   ]
  },
  {
   "cell_type": "markdown",
   "metadata": {},
   "source": [
    "## Strings in Python 3\n",
    "\n",
    "This demonstrates Python string handling capabilities.\n",
    "\n",
    "### String Generation and Manipulation\n",
    "\n",
    "        For string literals and escape codes, see Python Essnt'l Reference p27\n",
    "\n"
   ]
  },
  {
   "cell_type": "markdown",
   "metadata": {},
   "source": [
    "### Import Supporting Modules\n",
    "The following modules are used to support common string data operations."
   ]
  },
  {
   "cell_type": "code",
   "execution_count": 1,
   "metadata": {
    "collapsed": true
   },
   "outputs": [],
   "source": [
    "import datetime\n",
    "import string"
   ]
  },
  {
   "cell_type": "code",
   "execution_count": 2,
   "metadata": {
    "collapsed": false
   },
   "outputs": [
    {
     "name": "stdout",
     "output_type": "stream",
     "text": [
      "#=================================================================\n",
      "#-----------------------------------------------------------------\n",
      "abcdefghijklmnopqrstuvwxyzABCDEFGHIJKLMNOPQRSTUVWXYZ\n",
      "0123456789\n",
      "!\"#$%&'()*+,-./:;<=>?@[\\]^_`{|}~\n"
     ]
    }
   ],
   "source": [
    "import datetime\n",
    "import string\n",
    "l_string = '''abc\n",
    "                  def'''    #Triple quote captures everything, including LF\n",
    "bar_string = \"#\" + 65*'='   # Multipled string can be multiple character\n",
    "line_string = \"#\" + 65*'-' # Multipled string can be multiple character\n",
    "print (bar_string)\n",
    "print (line_string)\n",
    "\n",
    "print (string.ascii_letters)      # Requires STRING library/module\n",
    "print (string.digits)      # Requires STRING library/module\n",
    "print (string.punctuation)      # Requires STRING library/module\n",
    "\n",
    "# Forward Index  012345678\n",
    "# Reverse Index -987654321 "
   ]
  },
  {
   "cell_type": "markdown",
   "metadata": {},
   "source": [
    "### Converting other structures into strings using STR\n",
    "  The goal of STR is to be readable.\n",
    "  The goal of REPR is to be unambiguous."
   ]
  },
  {
   "cell_type": "code",
   "execution_count": 5,
   "metadata": {
    "collapsed": false
   },
   "outputs": [
    {
     "name": "stdout",
     "output_type": "stream",
     "text": [
      "<class 'str'>\n",
      "['Indiana', 'Montana', 'Carolina', 'Iowa']\n",
      "42\n",
      "<class 'str'>\n",
      "('Houston', 'Austin', 'Houston', 'Walnut Creek', 'Kansas City', 'Atlanta')\n",
      "74\n",
      "<class 'str'>\n",
      "{'pecan', 'walnut', 'oak', 'cedar', 'cypress', 'pine'}\n",
      "54\n"
     ]
    }
   ],
   "source": [
    "name_list = [\"Indiana\", \"Montana\",\"Carolina\",\"Iowa\"]   \n",
    "name_string = str(name_list) # Converts list to string, brackets and all\n",
    "print ( type(name_string))\n",
    "print (name_string)\n",
    "print (len(name_string))\n",
    "\n",
    "early_tuple = (\"Houston\", \"Austin\", \"Houston\", \"Walnut Creek\", \"Kansas City\", \"Atlanta\")\n",
    "early_string = str(early_tuple) # Converts tuple to string, brackets and all\n",
    "print ( type(early_string))\n",
    "print (early_string)\n",
    "print (len(early_string))\n",
    "\n",
    "tree_set = {\"oak\", \"pine\", \"cypress\", \"cedar\", \"pecan\", \"walnut\"}\n",
    "tree_string = str(tree_set)  # Converts set to string, brackets and all\n",
    "print ( type(tree_string) )\n",
    "print (tree_string)\n",
    "print (len(tree_string))     "
   ]
  },
  {
   "cell_type": "markdown",
   "metadata": {},
   "source": [
    "## Printing in Python \n",
    "\n",
    "This demonstrates basic Python results string handling capabilities.\n",
    "\n",
    "### Printing Results and Variables with Formatting\n",
    "\n",
    "https://docs.python.org/3/library/functions.html?highlight=print#print"
   ]
  },
  {
   "cell_type": "code",
   "execution_count": 6,
   "metadata": {
    "collapsed": false
   },
   "outputs": [
    {
     "name": "stdout",
     "output_type": "stream",
     "text": [
      "['Houston', 'Austin', 'Huston', 'Walnut Creek', 'Kansas City', 'Atlanta']\n",
      "['__add__', '__class__', '__contains__', '__delattr__', '__delitem__', '__dir__', '__doc__', '__eq__', '__format__', '__ge__', '__getattribute__', '__getitem__', '__gt__', '__hash__', '__iadd__', '__imul__', '__init__', '__iter__', '__le__', '__len__', '__lt__', '__mul__', '__ne__', '__new__', '__reduce__', '__reduce_ex__', '__repr__', '__reversed__', '__rmul__', '__setattr__', '__setitem__', '__sizeof__', '__str__', '__subclasshook__', 'append', 'clear', 'copy', 'count', 'extend', 'index', 'insert', 'pop', 'remove', 'reverse', 'sort']\n",
      "<class 'list'>\n",
      "Len: 6\n",
      "Min: Atlanta\n",
      "My number is: 25, and my name is: Alex\n",
      "My number is: 25, and my name is: Alex\n",
      "My number is: 25. My name is: Alex.  My father name is Alex.\n"
     ]
    }
   ],
   "source": [
    "early_list = list() #Create empty list\n",
    "early_list = [\"Houston\", \"Austin\", \"Huston\", \"Walnut Creek\", \"Kansas City\", \"Atlanta\"]\n",
    "\n",
    "\n",
    "num = 25\n",
    "name = 'Alex'\n",
    "\n",
    "print ( early_list)\n",
    "print ( dir(early_list))\n",
    "print ( type(early_list))\n",
    "print ( 'Len: {}'.format(len(early_list))) # Len = element count\n",
    "print ( 'Min: {}'.format(min(early_list))) # Min = alphabettically lowest\n",
    "\n",
    "print('My number is: {}, and my name is: {}'.format(num,name))\n",
    "print('My number is: {one}, and my name is: {two}'.format(one=num,two=name)) # Prevents sequencing issues\n",
    "\n",
    "print('My number is: {one}.'.format(one=num), sep=\"&\", end=\" \") # The separator characters can be changed.\n",
    "print('My name is: {two}.  My father name is {two}.'.format(two=name)) # Allows variable to be printed multiple times.\n"
   ]
  },
  {
   "cell_type": "code",
   "execution_count": null,
   "metadata": {
    "collapsed": true
   },
   "outputs": [],
   "source": []
  }
 ],
 "metadata": {
  "anaconda-cloud": {},
  "kernelspec": {
   "display_name": "Python [conda root]",
   "language": "python",
   "name": "conda-root-py"
  },
  "language_info": {
   "codemirror_mode": {
    "name": "ipython",
    "version": 3
   },
   "file_extension": ".py",
   "mimetype": "text/x-python",
   "name": "python",
   "nbconvert_exporter": "python",
   "pygments_lexer": "ipython3",
   "version": "3.5.2"
  }
 },
 "nbformat": 4,
 "nbformat_minor": 1
}
