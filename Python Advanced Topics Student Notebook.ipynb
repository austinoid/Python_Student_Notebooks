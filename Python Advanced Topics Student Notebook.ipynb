{
 "cells": [
  {
   "cell_type": "markdown",
   "metadata": {},
   "source": [
    "# Python Student Notebook for Intermediate Topics\n",
    "\n",
    "A compendium of intermediate-level topics, illustrative examples, best practices, tips and tricks.\n",
    "\n",
    "## Table of Contents\n",
    "\n",
    "+ [Logging](#Logging)\n",
    "+ [TkInter](#Tkinter)\n",
    "+ [SQLite 3](#SQLite)\n",
    "+ [Appendix](#Appendix)"
   ]
  },
  {
   "cell_type": "markdown",
   "metadata": {},
   "source": [
    "## Logging\n",
    "<a id=\"Logging\"></a>\n",
    "\n",
    "This has been a frustrating topic as most of the documentation and examples I have located are either completely nonfunctional or only partially functional in the IDEs I have been using.  Parameters from documentation are frequently ignored in operation.\n",
    "\n",
    "This may be best overview:\n",
    "\n",
    "http://pieces.openpolitics.com/2012/04/python-logging-best-practices/\n",
    "\n",
    "Here is some guidance from StackOverflow:\n",
    "\n",
    "https://stackoverflow.com/questions/7173033/duplicate-log-output-when-using-python-logging-module\n"
   ]
  },
  {
   "cell_type": "code",
   "execution_count": 20,
   "metadata": {
    "collapsed": true
   },
   "outputs": [],
   "source": [
    "import os\n",
    "import re\n",
    "import logging\n",
    "\n"
   ]
  },
  {
   "cell_type": "markdown",
   "metadata": {},
   "source": [
    "### Simplest Logging\n",
    "\n",
    "From:\n",
    "https://docs.python.org/3/howto/logging.html"
   ]
  },
  {
   "cell_type": "code",
   "execution_count": 43,
   "metadata": {
    "collapsed": false
   },
   "outputs": [],
   "source": [
    "import logging\n",
    "logging.basicConfig(filename='example.log',level=logging.DEBUG)\n",
    "logging.debug('This message should go to the log file')\n",
    "logging.info('So should this')\n",
    "logging.warning('And this, too')\n",
    "logging.warning('Engine temperature high.  Shutdown started')\n",
    "logging.error('Engine failure!!')\n",
    "logging.critical('CRASHING NOW')\n"
   ]
  },
  {
   "cell_type": "code",
   "execution_count": 39,
   "metadata": {
    "collapsed": false
   },
   "outputs": [],
   "source": [
    "import logging\n",
    "logging.basicConfig(format='%(asctime)s %(message)s', filename='messagess.log',level=logging.DEBUG)   \n",
    "\n",
    "logging.debug('This message should go to the log file')\n",
    "logging.info('So should this')\n",
    "logging.warning('And this, too')\n",
    "logger.warning('Engine temperature high.  Shutdown started')\n",
    "logger.error('Engine failure!!')\n",
    "logger.critical('CCCCRASHING NOW')"
   ]
  },
  {
   "cell_type": "markdown",
   "metadata": {},
   "source": [
    "After much preliminary web research, this was the first logging example I could get to actually and fully work.  However, it creates multiple entries in the log, one additional entry every time the script is run in the same IDE.  (Completely restarting IDE resets the counter.)"
   ]
  },
  {
   "cell_type": "code",
   "execution_count": 6,
   "metadata": {
    "collapsed": false
   },
   "outputs": [
    {
     "name": "stdout",
     "output_type": "stream",
     "text": [
      "Type of logger:   <class 'logging.Logger'>\n",
      "#-----------------------------------------------------------------\n"
     ]
    }
   ],
   "source": [
    "logger = logging.getLogger(__name__)\n",
    "print (\"Type of logger:  \", type(logger))\n",
    "logger.setLevel(logging.DEBUG)\n",
    "\n",
    "# create a file handler\n",
    "handler = logging.FileHandler('hello.log')\n",
    "handler.setLevel(logging.DEBUG)\n",
    "\n",
    "# create a logging format\n",
    "formatter = logging.Formatter('%(asctime)s - %(name)s - %(levelname)s - %(message)s')\n",
    "handler.setFormatter(formatter)\n",
    "\n",
    "# add the handlers to the logger\n",
    "logger.addHandler(handler)\n",
    "\n",
    "\n",
    "logger.debug('Engine thermostat set to AUTOMATIC')\n",
    "logger.info('Engine temperature: 450F degrees')\n",
    "logger.warning('Engine temperature high.  Shutdown started')\n",
    "logger.error('Engine failure!!')\n",
    "logger.critical('CRASHING NOW')\n",
    "\n",
    "print (\"#\" + 65*'-')"
   ]
  },
  {
   "cell_type": "markdown",
   "metadata": {},
   "source": [
    "Here is the original problem code from StackOverflow:"
   ]
  },
  {
   "cell_type": "code",
   "execution_count": 7,
   "metadata": {
    "collapsed": true
   },
   "outputs": [],
   "source": [
    "import os\n",
    "import time\n",
    "import datetime\n",
    "import logging\n",
    "class Logger :\n",
    "   def myLogger(self):\n",
    "      logger = logging.getLogger('ProvisioningPython')\n",
    "      logger.setLevel(logging.DEBUG)\n",
    "      now = datetime.datetime.now()\n",
    "      handler=logging.FileHandler('/root/credentials/Logs/ProvisioningPython'+ now.strftime(\"%Y-%m-%d\") +'.log')\n",
    "      formatter = logging.Formatter('%(asctime)s %(levelname)s %(message)s')\n",
    "      handler.setFormatter(formatter)\n",
    "      logger.addHandler(handler)\n",
    "      return logger"
   ]
  },
  {
   "cell_type": "markdown",
   "metadata": {},
   "source": [
    "Here is the original problem code from StackOverflow.  a stripped down version for testing, with a test case from another part of StackOverflow.  Cross fingers!"
   ]
  },
  {
   "cell_type": "code",
   "execution_count": 12,
   "metadata": {
    "collapsed": true
   },
   "outputs": [],
   "source": [
    "import os\n",
    "import time\n",
    "import datetime\n",
    "import logging\n",
    "class Logger :\n",
    "   def myLogger(self):\n",
    "      logger = logging.getLogger(__name__)\n",
    "      logger.setLevel(logging.DEBUG)\n",
    "      now = datetime.datetime.now()\n",
    "      handler=logging.FileHandler('hellod.log')\n",
    "      formatter = logging.Formatter('%(asctime)s %(levelname)s %(message)s')\n",
    "      handler.setFormatter(formatter)\n",
    "      logger.addHandler(handler)\n",
    "      return logger\n",
    "s = Logger()\n",
    "m = s.myLogger()\n",
    "m2 = s.myLogger()\n",
    "m.info(\"Info1\")\n",
    "m2.info(\"info2\")\n",
    "m.debug(\"Debug Message 1\")"
   ]
  },
  {
   "cell_type": "markdown",
   "metadata": {},
   "source": [
    "Here is a stripped down version for testing, with a test case from another part of StackOverflow.  Cross fingers!"
   ]
  },
  {
   "cell_type": "code",
   "execution_count": 19,
   "metadata": {
    "collapsed": false
   },
   "outputs": [],
   "source": [
    "import os\n",
    "import time\n",
    "import datetime\n",
    "import logging\n",
    "\n",
    "loggers = {}\n",
    "class Logger :\n",
    "    def myLogger(self):\n",
    "        global loggers\n",
    "\n",
    "        if loggers.get(__name__):\n",
    "            return loggers.get(__name__)\n",
    "        else:\n",
    "            logger = logging.getLogger(__name__)\n",
    "            logger.setLevel(logging.DEBUG)\n",
    "            now = datetime.datetime.now()\n",
    "            handler = logging.FileHandler(\n",
    "                'hellod2.log')\n",
    "            formatter = logging.Formatter('%(asctime)s %(levelname)s %(message)s')\n",
    "            handler.setFormatter(formatter)\n",
    "            logger.addHandler(handler)\n",
    "            loggers.update(dict(name=logger))\n",
    "\n",
    "            return logger\n",
    "\n",
    "s = Logger()\n",
    "m = s.myLogger()\n",
    "m2 = s.myLogger()\n",
    "m.info(\"Info1\")\n",
    "m2.info(\"info2\")\n",
    "m.debug(\"Debug Message 1\")\n",
    "m.warning(\"Warning Message 1\")\n",
    "m.error(\"Error Message 1\")\n",
    "m.critical(\"Critical Message 1\")\n",
    "\n"
   ]
  },
  {
   "cell_type": "markdown",
   "metadata": {},
   "source": [
    "## Tkinter and Graphical Interface\n",
    "<a id=\"Tkinter\"></a>\n",
    "\n",
    "Tkinter works fine in Jupyter notebooks.  You will have to close or kill the root window for each cell below by hand.\n",
    "\n",
    "Bernd Klein and his friends in Germany and Europe have a useful tutorial:\n",
    "\n",
    "http://www.python-course.eu/python_tkinter.php\n",
    "\n",
    "\n",
    "https://www.tutorialspoint.com/python3/python_gui_programming.htm\n",
    "\n",
    "\n"
   ]
  },
  {
   "cell_type": "markdown",
   "metadata": {},
   "source": [
    "### Simplest:  Root window with text label\n",
    "\n",
    "Using the PACK geometry manager."
   ]
  },
  {
   "cell_type": "code",
   "execution_count": 13,
   "metadata": {
    "collapsed": true
   },
   "outputs": [],
   "source": [
    "from tkinter import *\n",
    "\n",
    "root = Tk()\n",
    "\n",
    "w = Label(root, text=\"Achtung Alles Amerikanen!\")\n",
    "\n",
    "# Bernd Klein likes to start with the PACK geometry manager.\n",
    "w.pack()\n",
    "\n",
    "root.mainloop()\n",
    "# Don't forget to close the Tk panel when you are done!"
   ]
  },
  {
   "cell_type": "markdown",
   "metadata": {},
   "source": [
    "### Simplest:  Root window with two text and graphical labels.\n",
    "\n",
    "Geometetry manager not called explicity.  PACK impled?"
   ]
  },
  {
   "cell_type": "code",
   "execution_count": 16,
   "metadata": {
    "collapsed": false
   },
   "outputs": [
    {
     "ename": "SyntaxError",
     "evalue": "invalid syntax (<ipython-input-16-3ac060a6cfa3>, line 12)",
     "output_type": "error",
     "traceback": [
      "\u001b[0;36m  File \u001b[0;32m\"<ipython-input-16-3ac060a6cfa3>\"\u001b[0;36m, line \u001b[0;32m12\u001b[0m\n\u001b[0;31m    Single label with image centered.\u001b[0m\n\u001b[0m               ^\u001b[0m\n\u001b[0;31mSyntaxError\u001b[0m\u001b[0;31m:\u001b[0m invalid syntax\n"
     ]
    }
   ],
   "source": [
    "from tkinter import *\n",
    "\n",
    "root = Tk()\n",
    "\n",
    "explanation = \"\"\"At present, only two image\n",
    "formats are supported.  An interface \n",
    "exists to allow additional image file\n",
    "formats to be added.\"\"\"\n",
    "\n",
    "logo = PhotoImage(file=\"python_logo_small.gif\")\n",
    "\n",
    "# Single label with image centered.\n",
    "w = Label(root, \n",
    "          compound = CENTER,\n",
    "          text=explanation, \n",
    "          image=logo).pack(side=\"right\")\n",
    "\n",
    "root.mainloop()\n",
    "# Don't forget to close the Tk panel when you are done!"
   ]
  },
  {
   "cell_type": "markdown",
   "metadata": {},
   "source": [
    "### Simplest:  Font Tour"
   ]
  },
  {
   "cell_type": "code",
   "execution_count": 23,
   "metadata": {
    "collapsed": false
   },
   "outputs": [],
   "source": [
    "from tkinter import *\n",
    "\n",
    "root = Tk()\n",
    "\n",
    "# Note that methods are called without saving named objects\n",
    "Label(root, \n",
    "\t\t text=\"Red Text in Times Font\",\n",
    "\t\t fg = \"red\",\n",
    "\t\t font = \"Times\").pack()\n",
    "Label(root, \n",
    "\t\t text=\"Green Text in Helvetica 16 Bold Italic Font\",\n",
    "\t\t fg = \"light green\",\n",
    "\t\t bg = \"dark green\",\n",
    "\t\t font = \"Helvetica 16 bold italic\").pack()\n",
    "Label(root, \n",
    "\t\t text=\"Blue Text in Verdana 20 Bold Font\",\n",
    "\t\t fg = \"blue\",\n",
    "\t\t bg = \"yellow\",\n",
    "\t\t font = \"Verdana 10 bold\").pack()\n",
    "Label (root,\n",
    "      text='Black Text in Arial 24 Bold Font',\n",
    "      fg='black',\n",
    "      bg='white',\n",
    "      font = 'Arial 24 bold').pack()\n",
    "Label (root,\n",
    "      text='White Text in Courier 12 Bold Font',\n",
    "      fg='white',\n",
    "      bg='black',\n",
    "      font = 'Courier 12 bold').pack()\n",
    "\n",
    "\n",
    "root.mainloop()"
   ]
  },
  {
   "cell_type": "markdown",
   "metadata": {},
   "source": [
    "### Simplest:  Root window with one compound label.\n",
    "\n",
    "\n",
    "Geometetry manager not called explicity.  PACK impled?"
   ]
  },
  {
   "cell_type": "code",
   "execution_count": 31,
   "metadata": {
    "collapsed": true
   },
   "outputs": [],
   "source": [
    "from tkinter import *\n",
    "\n",
    "root = Tk()\n",
    "\n",
    "explanation = 'At present, only GIF format may be accepted.'\n",
    "logo = PhotoImage(file=\"python_logo_small.gif\")\n",
    "w1 = Label(root, image=logo).pack(side=\"right\")\n",
    "w2 = Label(root, \n",
    "           justify=LEFT,\n",
    "           padx = 10, \n",
    "           text=explanation).pack(side=\"left\")\n",
    "\n",
    "root.mainloop()\n",
    "# Don't forget to close the Tk panel when you are done!"
   ]
  },
  {
   "cell_type": "markdown",
   "metadata": {},
   "source": [
    "### Simple:  Root window with one dynamic label and command button.\n",
    "\n",
    "Bernd coded this with a bunch of objects named with \"name = Tk.\" that didnt' work.  "
   ]
  },
  {
   "cell_type": "code",
   "execution_count": 33,
   "metadata": {
    "collapsed": false
   },
   "outputs": [],
   "source": [
    "from tkinter import *\n",
    "\n",
    "counter = 0 \n",
    "def counter_label(label):\n",
    "  def count():\n",
    "    global counter\n",
    "    counter += 1\n",
    "    label.config(text=str(counter))\n",
    "    label.after(1000, count)\n",
    "  count()\n",
    " \n",
    "#  root = tk.TK()      Bernd coded this root, but it didn't work. \n",
    "root = Tk()\n",
    "root.title(\"Counting Seconds\")\n",
    "label = Label(root, fg=\"green\")\n",
    "label.pack()\n",
    "counter_label(label)\n",
    "button = Button(root, text='Stop', width=25, command=root.destroy)\n",
    "button.pack()\n",
    "root.mainloop()"
   ]
  },
  {
   "cell_type": "markdown",
   "metadata": {},
   "source": [
    "### Message Widget"
   ]
  },
  {
   "cell_type": "code",
   "execution_count": 38,
   "metadata": {
    "collapsed": true
   },
   "outputs": [],
   "source": [
    "from tkinter import *\n",
    "\n",
    "# Note use of \"master\" instead of \"root\"\n",
    "master = Tk()\n",
    "\n",
    "thought = \"Invention is 1 percent inspiration and 99 percent perspiration.\\n(Thomas Edison)\"\n",
    "\n",
    "msg = Message(master, text = thought)\n",
    "msg.config(bg='lightblue', font=('times', 24, 'italic'))\n",
    "msg.pack( )\n",
    "\n",
    "mainloop( )\n",
    "# Don't forget to close the Tk panel when you are done!"
   ]
  },
  {
   "cell_type": "markdown",
   "metadata": {},
   "source": [
    "### Button Widget"
   ]
  },
  {
   "cell_type": "code",
   "execution_count": 1,
   "metadata": {
    "collapsed": false
   },
   "outputs": [
    {
     "name": "stdout",
     "output_type": "stream",
     "text": [
      "Tkinter is easy to use!\n",
      "Tkinter is easy to use!\n",
      "Tkinter is hard to kill!\n",
      "Tkinter is easy to use!\n"
     ]
    }
   ],
   "source": [
    "from tkinter import *\n",
    "class App:\n",
    "  def __init__(self, master):\n",
    "    frame = Frame(master)\n",
    "    frame.pack()\n",
    "    self.button = Button(frame, \n",
    "                         text=\"QUIT\", fg=\"red\",\n",
    "                         command=self.exit_method)\n",
    "    self.button.pack(side=LEFT)\n",
    "    self.slogan = Button(frame,\n",
    "                         text=\"Hello\",\n",
    "                         command=self.write_slogan)\n",
    "    self.slogan.pack(side=LEFT)\n",
    "  def write_slogan(self):\n",
    "    print(\"Tkinter is easy to use!\")\n",
    "  def exit_method(self):\n",
    "    print(\"Tkinter is hard to kill!\")    \n",
    "\n",
    "root = Tk()\n",
    "app = App(root)\n",
    "root.mainloop()\n",
    "# Don't forget to close the Tk panel when you are done!"
   ]
  },
  {
   "cell_type": "code",
   "execution_count": 8,
   "metadata": {
    "collapsed": true
   },
   "outputs": [],
   "source": [
    "# Alternative Button Demo\n",
    "from tkinter import *\n",
    "\n",
    "root = Tk()\n",
    "frame = Frame(root)\n",
    "frame.pack()\n",
    "\n",
    "bottomframe = Frame(root)\n",
    "bottomframe.pack( side = BOTTOM )\n",
    "\n",
    "redbutton = Button(frame, text = \"Red\", fg = \"red\")\n",
    "redbutton.pack( side = LEFT)\n",
    "\n",
    "greenbutton = Button(frame, text = \"Brown\", fg = \"brown\")\n",
    "greenbutton.pack( side = LEFT )\n",
    "\n",
    "bluebutton = Button(frame, text = \"Blue\", fg = \"blue\")\n",
    "bluebutton.pack( side = LEFT )\n",
    "\n",
    "blackbutton = Button(bottomframe, text = \"Black\", fg = \"black\")\n",
    "blackbutton.pack( side = BOTTOM)\n",
    "\n",
    "root.mainloop()\n",
    "# Don't forget to close the Tk panel when you are done!"
   ]
  },
  {
   "cell_type": "markdown",
   "metadata": {},
   "source": [
    "### Radio Button Widget"
   ]
  },
  {
   "cell_type": "code",
   "execution_count": 7,
   "metadata": {
    "collapsed": false
   },
   "outputs": [],
   "source": [
    "from tkinter import *\n",
    "\n",
    "root = Tk()\n",
    "\n",
    "v = IntVar()\n",
    "\n",
    "Label(root, \n",
    "      text=\"\"\"Choose your favorite \n",
    "programming language:\"\"\",\n",
    "      justify = LEFT,\n",
    "      padx = 40).pack()\n",
    "\n",
    "# Note the value setting\n",
    "Radiobutton(root, \n",
    "            text=\"Python\",\n",
    "            padx = 20, \n",
    "            variable=v, \n",
    "            value=1).pack(anchor=W)\n",
    "Radiobutton(root, \n",
    "            text=\"Perl\",\n",
    "            padx = 20, \n",
    "            variable=v, \n",
    "            value=2).pack(anchor=W)\n",
    "Radiobutton(root, \n",
    "            text=\"Fortran\",\n",
    "            padx = 20, \n",
    "            variable=v, \n",
    "            value=3).pack(anchor=W)\n",
    "Radiobutton(root, \n",
    "            text=\"Pascal\",\n",
    "            padx = 20, \n",
    "            variable=v, \n",
    "            value=4).pack(anchor=W)\n",
    "\n",
    "mainloop()\n",
    "# Don't forget to close the Tk panel when you are done!"
   ]
  },
  {
   "cell_type": "markdown",
   "metadata": {},
   "source": [
    "## SQLite 3\n",
    "<a id=\"SQLite\"></a>\n",
    "\n",
    "A larger (but copyright) sample database is available from\n",
    "\n",
    "### First Simple Build"
   ]
  },
  {
   "cell_type": "code",
   "execution_count": 8,
   "metadata": {
    "collapsed": false
   },
   "outputs": [
    {
     "name": "stdout",
     "output_type": "stream",
     "text": [
      "Create table test_tbl\n",
      "Create rows\n",
      "Retrieve rows\n",
      "<class 'sqlite3.Cursor'>\n",
      "('ichi', 1)\n",
      "('ni', 2)\n",
      "('san', 3)\n",
      "('shi', 4)\n"
     ]
    }
   ],
   "source": [
    "import sqlite3\n",
    "\n",
    "db = sqlite3.connect('test_db.db')\n",
    "\n",
    "print('Create table test_tbl')\n",
    "db.execute('drop table if exists test_tbl')\n",
    "db.execute('create table test_tbl ( t1 text, i1 int )')\n",
    "\n",
    "print('Create rows')\n",
    "db.execute('insert into test_tbl (t1, i1) values( ?, ?)', ('ichi', 1))\n",
    "db.execute('insert into test_tbl (t1, i1) values( ?, ?)', ('ni', 2))\n",
    "db.execute('insert into test_tbl (t1, i1) values( ?, ?)', ('san', 3))\n",
    "db.execute('insert into test_tbl (t1, i1) values( ?, ?)', ('shi', 4))\n",
    "db.commit()\n",
    "\n",
    "print('Retrieve rows')\n",
    "cursor=db.execute('select t1, i1 from test_tbl')\n",
    "print (type(cursor))\n",
    "for row in cursor: print(row)\n"
   ]
  },
  {
   "cell_type": "markdown",
   "metadata": {},
   "source": [
    "### First Use of Row Factory\n",
    "Use of Row Factory to create dictionary interface to data base rows.\n"
   ]
  },
  {
   "cell_type": "code",
   "execution_count": 15,
   "metadata": {
    "collapsed": false
   },
   "outputs": [
    {
     "name": "stdout",
     "output_type": "stream",
     "text": [
      "Create table test_tbl\n",
      "Create rows\n",
      "Retrieve rows\n",
      "{'i1': 1, 't1': 'ichi'}\n",
      "{'i1': 2, 't1': 'ni'}\n",
      "{'i1': 3, 't1': 'san'}\n",
      "{'i1': 4, 't1': 'shi'}\n",
      "Retrieve rows\n",
      "ichi\n",
      "ni\n",
      "san\n",
      "shi\n"
     ]
    }
   ],
   "source": [
    "import sqlite3\n",
    "\n",
    "db = sqlite3.connect('test_db.db')\n",
    "# Creation of Row Factory\n",
    "db.row_factory = sqlite3.Row\n",
    "print('Create table test_tbl')\n",
    "db.execute('drop table if exists test_tbl')\n",
    "db.execute('create table test_tbl ( t1 text, i1 int )')\n",
    "\n",
    "print('Create rows')\n",
    "db.execute('insert into test_tbl (t1, i1) values( ?, ?)', ('ichi', 1))\n",
    "db.execute('insert into test_tbl (t1, i1) values( ?, ?)', ('ni', 2))\n",
    "db.execute('insert into test_tbl (t1, i1) values( ?, ?)', ('san', 3))\n",
    "db.execute('insert into test_tbl (t1, i1) values( ?, ?)', ('shi', 4))\n",
    "db.commit()\n",
    "\n",
    "print('Retrieve rows')\n",
    "cursor=db.execute('select t1, i1 from test_tbl')\n",
    "# Create dictionaries from iteration of rows\n",
    "for row in cursor: print(dict(row))\n",
    "print('Retrieve rows')\n",
    "\n",
    "# Alternate row content references (Why do we have to re-establish cursor?)\n",
    "cursor=db.execute('select t1, i1 from test_tbl')\n",
    "for row in cursor: \n",
    "    print(row['t1'])\n"
   ]
  },
  {
   "cell_type": "markdown",
   "metadata": {},
   "source": [
    "## Appendix\n",
    "<a id=\"Appendix\"></a>\n",
    "\n",
    "Welcome!  This notebook (and its sisters) was developed for me to practice some Python and data science fundamentals, and for me to explore and notate some interesting tricks, quirks, and lessons learned the hard way.\n",
    "\n",
    "Because I'm a naval history buff, I have occasionally used US naval ship information as practice data.  US naval ships each have a unique identifying \"hull number,\" making it is easy to build many common Python data structures around ship characteristics.  More information about US \"hull numbers\" is available from:\n",
    "\n",
    "http://www.navweaps.com/index_tech/index_ships_list.php\n",
    "\n",
    "### Tell Me I'm an Idiot!\n",
    "I welcome coaching, constructive criticism, and insight into more efficient, effective, or Pythonic ways of accomplishing results!\n",
    "\n",
    "Sincerely,\n",
    "\n",
    "*Carl Gusler*\n",
    "\n",
    "Austin, Texas\n",
    "\n",
    "carl.gusler@gmail.com"
   ]
  },
  {
   "cell_type": "code",
   "execution_count": null,
   "metadata": {
    "collapsed": true
   },
   "outputs": [],
   "source": []
  }
 ],
 "metadata": {
  "anaconda-cloud": {},
  "kernelspec": {
   "display_name": "Python [conda root]",
   "language": "python",
   "name": "conda-root-py"
  },
  "language_info": {
   "codemirror_mode": {
    "name": "ipython",
    "version": 3
   },
   "file_extension": ".py",
   "mimetype": "text/x-python",
   "name": "python",
   "nbconvert_exporter": "python",
   "pygments_lexer": "ipython3",
   "version": "3.5.2"
  }
 },
 "nbformat": 4,
 "nbformat_minor": 1
}
